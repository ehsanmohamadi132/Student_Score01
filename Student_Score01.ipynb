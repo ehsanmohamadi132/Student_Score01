{
 "cells": [
  {
   "cell_type": "code",
   "execution_count": 364,
   "id": "bb128181",
   "metadata": {},
   "outputs": [],
   "source": [
    "import numpy as np\n",
    "import pandas as pd\n",
    "import matplotlib.pyplot as plt\n",
    "import seaborn as sns\n",
    "from sklearn.linear_model import LinearRegression\n",
    "from sklearn import metrics\n",
    "from sklearn.model_selection import train_test_split"
   ]
  },
  {
   "cell_type": "code",
   "execution_count": 423,
   "id": "89eebeb1",
   "metadata": {},
   "outputs": [
    {
     "data": {
      "application/vnd.microsoft.datawrangler.viewer.v0+json": {
       "columns": [
        {
         "name": "index",
         "rawType": "int64",
         "type": "integer"
        },
        {
         "name": "Hours",
         "rawType": "float64",
         "type": "float"
        },
        {
         "name": "Practice",
         "rawType": "float64",
         "type": "float"
        },
        {
         "name": "TeamWork",
         "rawType": "float64",
         "type": "float"
        },
        {
         "name": "Scores",
         "rawType": "int64",
         "type": "integer"
        }
       ],
       "ref": "92f1bd51-cacb-4560-90c1-660abbdafc97",
       "rows": [
        [
         "0",
         "2.5",
         "0.5",
         "0.0",
         "21"
        ],
        [
         "1",
         "5.1",
         "1.5",
         "0.5",
         "47"
        ],
        [
         "2",
         "3.2",
         "1.0",
         "0.5",
         "27"
        ],
        [
         "3",
         "8.5",
         "3.7",
         "1.2",
         "75"
        ],
        [
         "4",
         "3.5",
         "1.2",
         "0.3",
         "30"
        ],
        [
         "5",
         "1.5",
         "0.2",
         "0.0",
         "20"
        ],
        [
         "6",
         "9.2",
         "4.8",
         "3.0",
         "88"
        ],
        [
         "7",
         "5.5",
         "3.2",
         "2.0",
         "60"
        ],
        [
         "8",
         "9.3",
         "5.1",
         "3.5",
         "81"
        ],
        [
         "9",
         "2.7",
         "1.5",
         "0.0",
         "25"
        ],
        [
         "10",
         "7.7",
         "4.9",
         "4.5",
         "85"
        ],
        [
         "11",
         "5.9",
         "3.1",
         "2.1",
         "62"
        ],
        [
         "12",
         "4.5",
         "2.8",
         "1.0",
         "41"
        ],
        [
         "13",
         "3.3",
         "2.2",
         "1.1",
         "42"
        ],
        [
         "14",
         "1.1",
         "1.1",
         "0.0",
         "17"
        ],
        [
         "15",
         "8.9",
         "6.2",
         "6.0",
         "95"
        ],
        [
         "16",
         "2.5",
         "1.6",
         "1.0",
         "30"
        ],
        [
         "17",
         "1.9",
         "0.9",
         "0.5",
         "24"
        ],
        [
         "18",
         "6.1",
         "2.0",
         "3.2",
         "67"
        ],
        [
         "19",
         "7.4",
         "2.5",
         "3.0",
         "69"
        ],
        [
         "20",
         "2.7",
         "3.0",
         "1.2",
         "30"
        ],
        [
         "21",
         "4.8",
         "2.9",
         "2.1",
         "54"
        ],
        [
         "22",
         "3.8",
         "2.2",
         "0.3",
         "35"
        ],
        [
         "23",
         "6.9",
         "5.1",
         "3.8",
         "76"
        ],
        [
         "24",
         "7.8",
         "5.8",
         "4.5",
         "86"
        ]
       ],
       "shape": {
        "columns": 4,
        "rows": 25
       }
      },
      "text/html": [
       "<div>\n",
       "<style scoped>\n",
       "    .dataframe tbody tr th:only-of-type {\n",
       "        vertical-align: middle;\n",
       "    }\n",
       "\n",
       "    .dataframe tbody tr th {\n",
       "        vertical-align: top;\n",
       "    }\n",
       "\n",
       "    .dataframe thead th {\n",
       "        text-align: right;\n",
       "    }\n",
       "</style>\n",
       "<table border=\"1\" class=\"dataframe\">\n",
       "  <thead>\n",
       "    <tr style=\"text-align: right;\">\n",
       "      <th></th>\n",
       "      <th>Hours</th>\n",
       "      <th>Practice</th>\n",
       "      <th>TeamWork</th>\n",
       "      <th>Scores</th>\n",
       "    </tr>\n",
       "  </thead>\n",
       "  <tbody>\n",
       "    <tr>\n",
       "      <th>0</th>\n",
       "      <td>2.5</td>\n",
       "      <td>0.5</td>\n",
       "      <td>0.0</td>\n",
       "      <td>21</td>\n",
       "    </tr>\n",
       "    <tr>\n",
       "      <th>1</th>\n",
       "      <td>5.1</td>\n",
       "      <td>1.5</td>\n",
       "      <td>0.5</td>\n",
       "      <td>47</td>\n",
       "    </tr>\n",
       "    <tr>\n",
       "      <th>2</th>\n",
       "      <td>3.2</td>\n",
       "      <td>1.0</td>\n",
       "      <td>0.5</td>\n",
       "      <td>27</td>\n",
       "    </tr>\n",
       "    <tr>\n",
       "      <th>3</th>\n",
       "      <td>8.5</td>\n",
       "      <td>3.7</td>\n",
       "      <td>1.2</td>\n",
       "      <td>75</td>\n",
       "    </tr>\n",
       "    <tr>\n",
       "      <th>4</th>\n",
       "      <td>3.5</td>\n",
       "      <td>1.2</td>\n",
       "      <td>0.3</td>\n",
       "      <td>30</td>\n",
       "    </tr>\n",
       "    <tr>\n",
       "      <th>5</th>\n",
       "      <td>1.5</td>\n",
       "      <td>0.2</td>\n",
       "      <td>0.0</td>\n",
       "      <td>20</td>\n",
       "    </tr>\n",
       "    <tr>\n",
       "      <th>6</th>\n",
       "      <td>9.2</td>\n",
       "      <td>4.8</td>\n",
       "      <td>3.0</td>\n",
       "      <td>88</td>\n",
       "    </tr>\n",
       "    <tr>\n",
       "      <th>7</th>\n",
       "      <td>5.5</td>\n",
       "      <td>3.2</td>\n",
       "      <td>2.0</td>\n",
       "      <td>60</td>\n",
       "    </tr>\n",
       "    <tr>\n",
       "      <th>8</th>\n",
       "      <td>9.3</td>\n",
       "      <td>5.1</td>\n",
       "      <td>3.5</td>\n",
       "      <td>81</td>\n",
       "    </tr>\n",
       "    <tr>\n",
       "      <th>9</th>\n",
       "      <td>2.7</td>\n",
       "      <td>1.5</td>\n",
       "      <td>0.0</td>\n",
       "      <td>25</td>\n",
       "    </tr>\n",
       "    <tr>\n",
       "      <th>10</th>\n",
       "      <td>7.7</td>\n",
       "      <td>4.9</td>\n",
       "      <td>4.5</td>\n",
       "      <td>85</td>\n",
       "    </tr>\n",
       "    <tr>\n",
       "      <th>11</th>\n",
       "      <td>5.9</td>\n",
       "      <td>3.1</td>\n",
       "      <td>2.1</td>\n",
       "      <td>62</td>\n",
       "    </tr>\n",
       "    <tr>\n",
       "      <th>12</th>\n",
       "      <td>4.5</td>\n",
       "      <td>2.8</td>\n",
       "      <td>1.0</td>\n",
       "      <td>41</td>\n",
       "    </tr>\n",
       "    <tr>\n",
       "      <th>13</th>\n",
       "      <td>3.3</td>\n",
       "      <td>2.2</td>\n",
       "      <td>1.1</td>\n",
       "      <td>42</td>\n",
       "    </tr>\n",
       "    <tr>\n",
       "      <th>14</th>\n",
       "      <td>1.1</td>\n",
       "      <td>1.1</td>\n",
       "      <td>0.0</td>\n",
       "      <td>17</td>\n",
       "    </tr>\n",
       "    <tr>\n",
       "      <th>15</th>\n",
       "      <td>8.9</td>\n",
       "      <td>6.2</td>\n",
       "      <td>6.0</td>\n",
       "      <td>95</td>\n",
       "    </tr>\n",
       "    <tr>\n",
       "      <th>16</th>\n",
       "      <td>2.5</td>\n",
       "      <td>1.6</td>\n",
       "      <td>1.0</td>\n",
       "      <td>30</td>\n",
       "    </tr>\n",
       "    <tr>\n",
       "      <th>17</th>\n",
       "      <td>1.9</td>\n",
       "      <td>0.9</td>\n",
       "      <td>0.5</td>\n",
       "      <td>24</td>\n",
       "    </tr>\n",
       "    <tr>\n",
       "      <th>18</th>\n",
       "      <td>6.1</td>\n",
       "      <td>2.0</td>\n",
       "      <td>3.2</td>\n",
       "      <td>67</td>\n",
       "    </tr>\n",
       "    <tr>\n",
       "      <th>19</th>\n",
       "      <td>7.4</td>\n",
       "      <td>2.5</td>\n",
       "      <td>3.0</td>\n",
       "      <td>69</td>\n",
       "    </tr>\n",
       "    <tr>\n",
       "      <th>20</th>\n",
       "      <td>2.7</td>\n",
       "      <td>3.0</td>\n",
       "      <td>1.2</td>\n",
       "      <td>30</td>\n",
       "    </tr>\n",
       "    <tr>\n",
       "      <th>21</th>\n",
       "      <td>4.8</td>\n",
       "      <td>2.9</td>\n",
       "      <td>2.1</td>\n",
       "      <td>54</td>\n",
       "    </tr>\n",
       "    <tr>\n",
       "      <th>22</th>\n",
       "      <td>3.8</td>\n",
       "      <td>2.2</td>\n",
       "      <td>0.3</td>\n",
       "      <td>35</td>\n",
       "    </tr>\n",
       "    <tr>\n",
       "      <th>23</th>\n",
       "      <td>6.9</td>\n",
       "      <td>5.1</td>\n",
       "      <td>3.8</td>\n",
       "      <td>76</td>\n",
       "    </tr>\n",
       "    <tr>\n",
       "      <th>24</th>\n",
       "      <td>7.8</td>\n",
       "      <td>5.8</td>\n",
       "      <td>4.5</td>\n",
       "      <td>86</td>\n",
       "    </tr>\n",
       "  </tbody>\n",
       "</table>\n",
       "</div>"
      ],
      "text/plain": [
       "    Hours  Practice  TeamWork  Scores\n",
       "0     2.5       0.5       0.0      21\n",
       "1     5.1       1.5       0.5      47\n",
       "2     3.2       1.0       0.5      27\n",
       "3     8.5       3.7       1.2      75\n",
       "4     3.5       1.2       0.3      30\n",
       "5     1.5       0.2       0.0      20\n",
       "6     9.2       4.8       3.0      88\n",
       "7     5.5       3.2       2.0      60\n",
       "8     9.3       5.1       3.5      81\n",
       "9     2.7       1.5       0.0      25\n",
       "10    7.7       4.9       4.5      85\n",
       "11    5.9       3.1       2.1      62\n",
       "12    4.5       2.8       1.0      41\n",
       "13    3.3       2.2       1.1      42\n",
       "14    1.1       1.1       0.0      17\n",
       "15    8.9       6.2       6.0      95\n",
       "16    2.5       1.6       1.0      30\n",
       "17    1.9       0.9       0.5      24\n",
       "18    6.1       2.0       3.2      67\n",
       "19    7.4       2.5       3.0      69\n",
       "20    2.7       3.0       1.2      30\n",
       "21    4.8       2.9       2.1      54\n",
       "22    3.8       2.2       0.3      35\n",
       "23    6.9       5.1       3.8      76\n",
       "24    7.8       5.8       4.5      86"
      ]
     },
     "execution_count": 423,
     "metadata": {},
     "output_type": "execute_result"
    }
   ],
   "source": [
    "data = pd.read_csv('Data.csv')\n",
    "data"
   ]
  },
  {
   "cell_type": "code",
   "execution_count": 445,
   "id": "5bb7b8bc",
   "metadata": {},
   "outputs": [
    {
     "data": {
      "application/vnd.microsoft.datawrangler.viewer.v0+json": {
       "columns": [
        {
         "name": "index",
         "rawType": "int64",
         "type": "integer"
        },
        {
         "name": "Hours",
         "rawType": "float64",
         "type": "float"
        },
        {
         "name": "Practice",
         "rawType": "float64",
         "type": "float"
        },
        {
         "name": "TeamWork",
         "rawType": "float64",
         "type": "float"
        },
        {
         "name": "Scores",
         "rawType": "int64",
         "type": "integer"
        }
       ],
       "ref": "5b430609-f5a0-4ebd-86eb-3df650d42cd6",
       "rows": [
        [
         "0",
         "2.5",
         "0.5",
         "0.0",
         "21"
        ],
        [
         "1",
         "5.1",
         "1.5",
         "0.5",
         "47"
        ],
        [
         "2",
         "3.2",
         "1.0",
         "0.5",
         "27"
        ],
        [
         "3",
         "8.5",
         "3.7",
         "1.2",
         "75"
        ],
        [
         "4",
         "3.5",
         "1.2",
         "0.3",
         "30"
        ],
        [
         "5",
         "1.5",
         "0.2",
         "0.0",
         "20"
        ],
        [
         "6",
         "9.2",
         "4.8",
         "3.0",
         "88"
        ],
        [
         "7",
         "5.5",
         "3.2",
         "2.0",
         "60"
        ],
        [
         "8",
         "9.3",
         "5.1",
         "3.5",
         "81"
        ],
        [
         "9",
         "2.7",
         "1.5",
         "0.0",
         "25"
        ],
        [
         "10",
         "7.7",
         "4.9",
         "4.5",
         "85"
        ],
        [
         "11",
         "5.9",
         "3.1",
         "2.1",
         "62"
        ],
        [
         "12",
         "4.5",
         "2.8",
         "1.0",
         "41"
        ],
        [
         "13",
         "3.3",
         "2.2",
         "1.1",
         "42"
        ],
        [
         "14",
         "1.1",
         "1.1",
         "0.0",
         "17"
        ],
        [
         "15",
         "8.9",
         "6.2",
         "6.0",
         "95"
        ],
        [
         "16",
         "2.5",
         "1.6",
         "1.0",
         "30"
        ],
        [
         "17",
         "1.9",
         "0.9",
         "0.5",
         "24"
        ],
        [
         "18",
         "6.1",
         "2.0",
         "3.2",
         "67"
        ],
        [
         "19",
         "7.4",
         "2.5",
         "3.0",
         "69"
        ],
        [
         "20",
         "2.7",
         "3.0",
         "1.2",
         "30"
        ],
        [
         "21",
         "4.8",
         "2.9",
         "2.1",
         "54"
        ],
        [
         "22",
         "3.8",
         "2.2",
         "0.3",
         "35"
        ],
        [
         "23",
         "6.9",
         "5.1",
         "3.8",
         "76"
        ],
        [
         "24",
         "7.8",
         "5.8",
         "4.5",
         "86"
        ]
       ],
       "shape": {
        "columns": 4,
        "rows": 25
       }
      },
      "text/html": [
       "<div>\n",
       "<style scoped>\n",
       "    .dataframe tbody tr th:only-of-type {\n",
       "        vertical-align: middle;\n",
       "    }\n",
       "\n",
       "    .dataframe tbody tr th {\n",
       "        vertical-align: top;\n",
       "    }\n",
       "\n",
       "    .dataframe thead th {\n",
       "        text-align: right;\n",
       "    }\n",
       "</style>\n",
       "<table border=\"1\" class=\"dataframe\">\n",
       "  <thead>\n",
       "    <tr style=\"text-align: right;\">\n",
       "      <th></th>\n",
       "      <th>Hours</th>\n",
       "      <th>Practice</th>\n",
       "      <th>TeamWork</th>\n",
       "      <th>Scores</th>\n",
       "    </tr>\n",
       "  </thead>\n",
       "  <tbody>\n",
       "    <tr>\n",
       "      <th>0</th>\n",
       "      <td>2.5</td>\n",
       "      <td>0.5</td>\n",
       "      <td>0.0</td>\n",
       "      <td>21</td>\n",
       "    </tr>\n",
       "    <tr>\n",
       "      <th>1</th>\n",
       "      <td>5.1</td>\n",
       "      <td>1.5</td>\n",
       "      <td>0.5</td>\n",
       "      <td>47</td>\n",
       "    </tr>\n",
       "    <tr>\n",
       "      <th>2</th>\n",
       "      <td>3.2</td>\n",
       "      <td>1.0</td>\n",
       "      <td>0.5</td>\n",
       "      <td>27</td>\n",
       "    </tr>\n",
       "    <tr>\n",
       "      <th>3</th>\n",
       "      <td>8.5</td>\n",
       "      <td>3.7</td>\n",
       "      <td>1.2</td>\n",
       "      <td>75</td>\n",
       "    </tr>\n",
       "    <tr>\n",
       "      <th>4</th>\n",
       "      <td>3.5</td>\n",
       "      <td>1.2</td>\n",
       "      <td>0.3</td>\n",
       "      <td>30</td>\n",
       "    </tr>\n",
       "    <tr>\n",
       "      <th>5</th>\n",
       "      <td>1.5</td>\n",
       "      <td>0.2</td>\n",
       "      <td>0.0</td>\n",
       "      <td>20</td>\n",
       "    </tr>\n",
       "    <tr>\n",
       "      <th>6</th>\n",
       "      <td>9.2</td>\n",
       "      <td>4.8</td>\n",
       "      <td>3.0</td>\n",
       "      <td>88</td>\n",
       "    </tr>\n",
       "    <tr>\n",
       "      <th>7</th>\n",
       "      <td>5.5</td>\n",
       "      <td>3.2</td>\n",
       "      <td>2.0</td>\n",
       "      <td>60</td>\n",
       "    </tr>\n",
       "    <tr>\n",
       "      <th>8</th>\n",
       "      <td>9.3</td>\n",
       "      <td>5.1</td>\n",
       "      <td>3.5</td>\n",
       "      <td>81</td>\n",
       "    </tr>\n",
       "    <tr>\n",
       "      <th>9</th>\n",
       "      <td>2.7</td>\n",
       "      <td>1.5</td>\n",
       "      <td>0.0</td>\n",
       "      <td>25</td>\n",
       "    </tr>\n",
       "    <tr>\n",
       "      <th>10</th>\n",
       "      <td>7.7</td>\n",
       "      <td>4.9</td>\n",
       "      <td>4.5</td>\n",
       "      <td>85</td>\n",
       "    </tr>\n",
       "    <tr>\n",
       "      <th>11</th>\n",
       "      <td>5.9</td>\n",
       "      <td>3.1</td>\n",
       "      <td>2.1</td>\n",
       "      <td>62</td>\n",
       "    </tr>\n",
       "    <tr>\n",
       "      <th>12</th>\n",
       "      <td>4.5</td>\n",
       "      <td>2.8</td>\n",
       "      <td>1.0</td>\n",
       "      <td>41</td>\n",
       "    </tr>\n",
       "    <tr>\n",
       "      <th>13</th>\n",
       "      <td>3.3</td>\n",
       "      <td>2.2</td>\n",
       "      <td>1.1</td>\n",
       "      <td>42</td>\n",
       "    </tr>\n",
       "    <tr>\n",
       "      <th>14</th>\n",
       "      <td>1.1</td>\n",
       "      <td>1.1</td>\n",
       "      <td>0.0</td>\n",
       "      <td>17</td>\n",
       "    </tr>\n",
       "    <tr>\n",
       "      <th>15</th>\n",
       "      <td>8.9</td>\n",
       "      <td>6.2</td>\n",
       "      <td>6.0</td>\n",
       "      <td>95</td>\n",
       "    </tr>\n",
       "    <tr>\n",
       "      <th>16</th>\n",
       "      <td>2.5</td>\n",
       "      <td>1.6</td>\n",
       "      <td>1.0</td>\n",
       "      <td>30</td>\n",
       "    </tr>\n",
       "    <tr>\n",
       "      <th>17</th>\n",
       "      <td>1.9</td>\n",
       "      <td>0.9</td>\n",
       "      <td>0.5</td>\n",
       "      <td>24</td>\n",
       "    </tr>\n",
       "    <tr>\n",
       "      <th>18</th>\n",
       "      <td>6.1</td>\n",
       "      <td>2.0</td>\n",
       "      <td>3.2</td>\n",
       "      <td>67</td>\n",
       "    </tr>\n",
       "    <tr>\n",
       "      <th>19</th>\n",
       "      <td>7.4</td>\n",
       "      <td>2.5</td>\n",
       "      <td>3.0</td>\n",
       "      <td>69</td>\n",
       "    </tr>\n",
       "    <tr>\n",
       "      <th>20</th>\n",
       "      <td>2.7</td>\n",
       "      <td>3.0</td>\n",
       "      <td>1.2</td>\n",
       "      <td>30</td>\n",
       "    </tr>\n",
       "    <tr>\n",
       "      <th>21</th>\n",
       "      <td>4.8</td>\n",
       "      <td>2.9</td>\n",
       "      <td>2.1</td>\n",
       "      <td>54</td>\n",
       "    </tr>\n",
       "    <tr>\n",
       "      <th>22</th>\n",
       "      <td>3.8</td>\n",
       "      <td>2.2</td>\n",
       "      <td>0.3</td>\n",
       "      <td>35</td>\n",
       "    </tr>\n",
       "    <tr>\n",
       "      <th>23</th>\n",
       "      <td>6.9</td>\n",
       "      <td>5.1</td>\n",
       "      <td>3.8</td>\n",
       "      <td>76</td>\n",
       "    </tr>\n",
       "    <tr>\n",
       "      <th>24</th>\n",
       "      <td>7.8</td>\n",
       "      <td>5.8</td>\n",
       "      <td>4.5</td>\n",
       "      <td>86</td>\n",
       "    </tr>\n",
       "  </tbody>\n",
       "</table>\n",
       "</div>"
      ],
      "text/plain": [
       "    Hours  Practice  TeamWork  Scores\n",
       "0     2.5       0.5       0.0      21\n",
       "1     5.1       1.5       0.5      47\n",
       "2     3.2       1.0       0.5      27\n",
       "3     8.5       3.7       1.2      75\n",
       "4     3.5       1.2       0.3      30\n",
       "5     1.5       0.2       0.0      20\n",
       "6     9.2       4.8       3.0      88\n",
       "7     5.5       3.2       2.0      60\n",
       "8     9.3       5.1       3.5      81\n",
       "9     2.7       1.5       0.0      25\n",
       "10    7.7       4.9       4.5      85\n",
       "11    5.9       3.1       2.1      62\n",
       "12    4.5       2.8       1.0      41\n",
       "13    3.3       2.2       1.1      42\n",
       "14    1.1       1.1       0.0      17\n",
       "15    8.9       6.2       6.0      95\n",
       "16    2.5       1.6       1.0      30\n",
       "17    1.9       0.9       0.5      24\n",
       "18    6.1       2.0       3.2      67\n",
       "19    7.4       2.5       3.0      69\n",
       "20    2.7       3.0       1.2      30\n",
       "21    4.8       2.9       2.1      54\n",
       "22    3.8       2.2       0.3      35\n",
       "23    6.9       5.1       3.8      76\n",
       "24    7.8       5.8       4.5      86"
      ]
     },
     "execution_count": 445,
     "metadata": {},
     "output_type": "execute_result"
    }
   ],
   "source": [
    "df=pd.DataFrame(data,columns=['Hours','Practice','TeamWork','Scores'])\n",
    "df"
   ]
  },
  {
   "cell_type": "code",
   "execution_count": 367,
   "id": "84efeed6",
   "metadata": {},
   "outputs": [
    {
     "data": {
      "application/vnd.microsoft.datawrangler.viewer.v0+json": {
       "columns": [
        {
         "name": "index",
         "rawType": "object",
         "type": "string"
        },
        {
         "name": "Hours",
         "rawType": "float64",
         "type": "float"
        },
        {
         "name": "Practice",
         "rawType": "float64",
         "type": "float"
        },
        {
         "name": "TeamWork",
         "rawType": "float64",
         "type": "float"
        },
        {
         "name": "Scores",
         "rawType": "float64",
         "type": "float"
        }
       ],
       "ref": "cee8eebb-55e0-4de1-99f9-59ee962f3b17",
       "rows": [
        [
         "count",
         "25.0",
         "25.0",
         "25.0",
         "25.0"
        ],
        [
         "mean",
         "5.052",
         "2.7600000000000007",
         "1.8119999999999998",
         "51.48"
        ],
        [
         "std",
         "2.5865227623201",
         "1.722885177060077",
         "1.6978712161605976",
         "25.28688724747802"
        ],
        [
         "min",
         "1.1",
         "0.2",
         "0.0",
         "17.0"
        ],
        [
         "25%",
         "2.7",
         "1.5",
         "0.5",
         "30.0"
        ],
        [
         "50%",
         "4.8",
         "2.5",
         "1.2",
         "47.0"
        ],
        [
         "75%",
         "7.4",
         "3.7",
         "3.0",
         "75.0"
        ],
        [
         "max",
         "9.3",
         "6.2",
         "6.0",
         "95.0"
        ]
       ],
       "shape": {
        "columns": 4,
        "rows": 8
       }
      },
      "text/html": [
       "<div>\n",
       "<style scoped>\n",
       "    .dataframe tbody tr th:only-of-type {\n",
       "        vertical-align: middle;\n",
       "    }\n",
       "\n",
       "    .dataframe tbody tr th {\n",
       "        vertical-align: top;\n",
       "    }\n",
       "\n",
       "    .dataframe thead th {\n",
       "        text-align: right;\n",
       "    }\n",
       "</style>\n",
       "<table border=\"1\" class=\"dataframe\">\n",
       "  <thead>\n",
       "    <tr style=\"text-align: right;\">\n",
       "      <th></th>\n",
       "      <th>Hours</th>\n",
       "      <th>Practice</th>\n",
       "      <th>TeamWork</th>\n",
       "      <th>Scores</th>\n",
       "    </tr>\n",
       "  </thead>\n",
       "  <tbody>\n",
       "    <tr>\n",
       "      <th>count</th>\n",
       "      <td>25.000000</td>\n",
       "      <td>25.000000</td>\n",
       "      <td>25.000000</td>\n",
       "      <td>25.000000</td>\n",
       "    </tr>\n",
       "    <tr>\n",
       "      <th>mean</th>\n",
       "      <td>5.052000</td>\n",
       "      <td>2.760000</td>\n",
       "      <td>1.812000</td>\n",
       "      <td>51.480000</td>\n",
       "    </tr>\n",
       "    <tr>\n",
       "      <th>std</th>\n",
       "      <td>2.586523</td>\n",
       "      <td>1.722885</td>\n",
       "      <td>1.697871</td>\n",
       "      <td>25.286887</td>\n",
       "    </tr>\n",
       "    <tr>\n",
       "      <th>min</th>\n",
       "      <td>1.100000</td>\n",
       "      <td>0.200000</td>\n",
       "      <td>0.000000</td>\n",
       "      <td>17.000000</td>\n",
       "    </tr>\n",
       "    <tr>\n",
       "      <th>25%</th>\n",
       "      <td>2.700000</td>\n",
       "      <td>1.500000</td>\n",
       "      <td>0.500000</td>\n",
       "      <td>30.000000</td>\n",
       "    </tr>\n",
       "    <tr>\n",
       "      <th>50%</th>\n",
       "      <td>4.800000</td>\n",
       "      <td>2.500000</td>\n",
       "      <td>1.200000</td>\n",
       "      <td>47.000000</td>\n",
       "    </tr>\n",
       "    <tr>\n",
       "      <th>75%</th>\n",
       "      <td>7.400000</td>\n",
       "      <td>3.700000</td>\n",
       "      <td>3.000000</td>\n",
       "      <td>75.000000</td>\n",
       "    </tr>\n",
       "    <tr>\n",
       "      <th>max</th>\n",
       "      <td>9.300000</td>\n",
       "      <td>6.200000</td>\n",
       "      <td>6.000000</td>\n",
       "      <td>95.000000</td>\n",
       "    </tr>\n",
       "  </tbody>\n",
       "</table>\n",
       "</div>"
      ],
      "text/plain": [
       "           Hours   Practice   TeamWork     Scores\n",
       "count  25.000000  25.000000  25.000000  25.000000\n",
       "mean    5.052000   2.760000   1.812000  51.480000\n",
       "std     2.586523   1.722885   1.697871  25.286887\n",
       "min     1.100000   0.200000   0.000000  17.000000\n",
       "25%     2.700000   1.500000   0.500000  30.000000\n",
       "50%     4.800000   2.500000   1.200000  47.000000\n",
       "75%     7.400000   3.700000   3.000000  75.000000\n",
       "max     9.300000   6.200000   6.000000  95.000000"
      ]
     },
     "execution_count": 367,
     "metadata": {},
     "output_type": "execute_result"
    }
   ],
   "source": [
    "df.describe()"
   ]
  },
  {
   "cell_type": "code",
   "execution_count": 368,
   "id": "1b120e6b",
   "metadata": {},
   "outputs": [
    {
     "name": "stdout",
     "output_type": "stream",
     "text": [
      "<class 'pandas.core.frame.DataFrame'>\n",
      "RangeIndex: 25 entries, 0 to 24\n",
      "Data columns (total 4 columns):\n",
      " #   Column    Non-Null Count  Dtype  \n",
      "---  ------    --------------  -----  \n",
      " 0   Hours     25 non-null     float64\n",
      " 1   Practice  25 non-null     float64\n",
      " 2   TeamWork  25 non-null     float64\n",
      " 3   Scores    25 non-null     int64  \n",
      "dtypes: float64(3), int64(1)\n",
      "memory usage: 932.0 bytes\n"
     ]
    }
   ],
   "source": [
    "df.info()"
   ]
  },
  {
   "cell_type": "code",
   "execution_count": 369,
   "id": "8bdd7e04",
   "metadata": {},
   "outputs": [
    {
     "data": {
      "text/plain": [
       "Index(['Hours', 'Practice', 'TeamWork', 'Scores'], dtype='object')"
      ]
     },
     "execution_count": 369,
     "metadata": {},
     "output_type": "execute_result"
    }
   ],
   "source": [
    "df.columns"
   ]
  },
  {
   "cell_type": "code",
   "execution_count": 370,
   "id": "55bdac8f",
   "metadata": {},
   "outputs": [],
   "source": [
    "X = pd.DataFrame(data,columns=['Hours','Practice','TeamWork'])\n",
    "Y = data['Scores'].values.reshape(-1,1)\n"
   ]
  },
  {
   "cell_type": "code",
   "execution_count": 371,
   "id": "84844481",
   "metadata": {},
   "outputs": [],
   "source": [
    "X_train,X_test,Y_train,Y_test = train_test_split(X,Y,test_size=0.2,random_state=0)"
   ]
  },
  {
   "cell_type": "code",
   "execution_count": 372,
   "id": "6f7d4629",
   "metadata": {},
   "outputs": [],
   "source": [
    "regresore = LinearRegression()"
   ]
  },
  {
   "cell_type": "code",
   "execution_count": 373,
   "id": "56563a61",
   "metadata": {},
   "outputs": [
    {
     "data": {
      "text/html": [
       "<style>#sk-container-id-10 {\n",
       "  /* Definition of color scheme common for light and dark mode */\n",
       "  --sklearn-color-text: #000;\n",
       "  --sklearn-color-text-muted: #666;\n",
       "  --sklearn-color-line: gray;\n",
       "  /* Definition of color scheme for unfitted estimators */\n",
       "  --sklearn-color-unfitted-level-0: #fff5e6;\n",
       "  --sklearn-color-unfitted-level-1: #f6e4d2;\n",
       "  --sklearn-color-unfitted-level-2: #ffe0b3;\n",
       "  --sklearn-color-unfitted-level-3: chocolate;\n",
       "  /* Definition of color scheme for fitted estimators */\n",
       "  --sklearn-color-fitted-level-0: #f0f8ff;\n",
       "  --sklearn-color-fitted-level-1: #d4ebff;\n",
       "  --sklearn-color-fitted-level-2: #b3dbfd;\n",
       "  --sklearn-color-fitted-level-3: cornflowerblue;\n",
       "\n",
       "  /* Specific color for light theme */\n",
       "  --sklearn-color-text-on-default-background: var(--sg-text-color, var(--theme-code-foreground, var(--jp-content-font-color1, black)));\n",
       "  --sklearn-color-background: var(--sg-background-color, var(--theme-background, var(--jp-layout-color0, white)));\n",
       "  --sklearn-color-border-box: var(--sg-text-color, var(--theme-code-foreground, var(--jp-content-font-color1, black)));\n",
       "  --sklearn-color-icon: #696969;\n",
       "\n",
       "  @media (prefers-color-scheme: dark) {\n",
       "    /* Redefinition of color scheme for dark theme */\n",
       "    --sklearn-color-text-on-default-background: var(--sg-text-color, var(--theme-code-foreground, var(--jp-content-font-color1, white)));\n",
       "    --sklearn-color-background: var(--sg-background-color, var(--theme-background, var(--jp-layout-color0, #111)));\n",
       "    --sklearn-color-border-box: var(--sg-text-color, var(--theme-code-foreground, var(--jp-content-font-color1, white)));\n",
       "    --sklearn-color-icon: #878787;\n",
       "  }\n",
       "}\n",
       "\n",
       "#sk-container-id-10 {\n",
       "  color: var(--sklearn-color-text);\n",
       "}\n",
       "\n",
       "#sk-container-id-10 pre {\n",
       "  padding: 0;\n",
       "}\n",
       "\n",
       "#sk-container-id-10 input.sk-hidden--visually {\n",
       "  border: 0;\n",
       "  clip: rect(1px 1px 1px 1px);\n",
       "  clip: rect(1px, 1px, 1px, 1px);\n",
       "  height: 1px;\n",
       "  margin: -1px;\n",
       "  overflow: hidden;\n",
       "  padding: 0;\n",
       "  position: absolute;\n",
       "  width: 1px;\n",
       "}\n",
       "\n",
       "#sk-container-id-10 div.sk-dashed-wrapped {\n",
       "  border: 1px dashed var(--sklearn-color-line);\n",
       "  margin: 0 0.4em 0.5em 0.4em;\n",
       "  box-sizing: border-box;\n",
       "  padding-bottom: 0.4em;\n",
       "  background-color: var(--sklearn-color-background);\n",
       "}\n",
       "\n",
       "#sk-container-id-10 div.sk-container {\n",
       "  /* jupyter's `normalize.less` sets `[hidden] { display: none; }`\n",
       "     but bootstrap.min.css set `[hidden] { display: none !important; }`\n",
       "     so we also need the `!important` here to be able to override the\n",
       "     default hidden behavior on the sphinx rendered scikit-learn.org.\n",
       "     See: https://github.com/scikit-learn/scikit-learn/issues/21755 */\n",
       "  display: inline-block !important;\n",
       "  position: relative;\n",
       "}\n",
       "\n",
       "#sk-container-id-10 div.sk-text-repr-fallback {\n",
       "  display: none;\n",
       "}\n",
       "\n",
       "div.sk-parallel-item,\n",
       "div.sk-serial,\n",
       "div.sk-item {\n",
       "  /* draw centered vertical line to link estimators */\n",
       "  background-image: linear-gradient(var(--sklearn-color-text-on-default-background), var(--sklearn-color-text-on-default-background));\n",
       "  background-size: 2px 100%;\n",
       "  background-repeat: no-repeat;\n",
       "  background-position: center center;\n",
       "}\n",
       "\n",
       "/* Parallel-specific style estimator block */\n",
       "\n",
       "#sk-container-id-10 div.sk-parallel-item::after {\n",
       "  content: \"\";\n",
       "  width: 100%;\n",
       "  border-bottom: 2px solid var(--sklearn-color-text-on-default-background);\n",
       "  flex-grow: 1;\n",
       "}\n",
       "\n",
       "#sk-container-id-10 div.sk-parallel {\n",
       "  display: flex;\n",
       "  align-items: stretch;\n",
       "  justify-content: center;\n",
       "  background-color: var(--sklearn-color-background);\n",
       "  position: relative;\n",
       "}\n",
       "\n",
       "#sk-container-id-10 div.sk-parallel-item {\n",
       "  display: flex;\n",
       "  flex-direction: column;\n",
       "}\n",
       "\n",
       "#sk-container-id-10 div.sk-parallel-item:first-child::after {\n",
       "  align-self: flex-end;\n",
       "  width: 50%;\n",
       "}\n",
       "\n",
       "#sk-container-id-10 div.sk-parallel-item:last-child::after {\n",
       "  align-self: flex-start;\n",
       "  width: 50%;\n",
       "}\n",
       "\n",
       "#sk-container-id-10 div.sk-parallel-item:only-child::after {\n",
       "  width: 0;\n",
       "}\n",
       "\n",
       "/* Serial-specific style estimator block */\n",
       "\n",
       "#sk-container-id-10 div.sk-serial {\n",
       "  display: flex;\n",
       "  flex-direction: column;\n",
       "  align-items: center;\n",
       "  background-color: var(--sklearn-color-background);\n",
       "  padding-right: 1em;\n",
       "  padding-left: 1em;\n",
       "}\n",
       "\n",
       "\n",
       "/* Toggleable style: style used for estimator/Pipeline/ColumnTransformer box that is\n",
       "clickable and can be expanded/collapsed.\n",
       "- Pipeline and ColumnTransformer use this feature and define the default style\n",
       "- Estimators will overwrite some part of the style using the `sk-estimator` class\n",
       "*/\n",
       "\n",
       "/* Pipeline and ColumnTransformer style (default) */\n",
       "\n",
       "#sk-container-id-10 div.sk-toggleable {\n",
       "  /* Default theme specific background. It is overwritten whether we have a\n",
       "  specific estimator or a Pipeline/ColumnTransformer */\n",
       "  background-color: var(--sklearn-color-background);\n",
       "}\n",
       "\n",
       "/* Toggleable label */\n",
       "#sk-container-id-10 label.sk-toggleable__label {\n",
       "  cursor: pointer;\n",
       "  display: flex;\n",
       "  width: 100%;\n",
       "  margin-bottom: 0;\n",
       "  padding: 0.5em;\n",
       "  box-sizing: border-box;\n",
       "  text-align: center;\n",
       "  align-items: start;\n",
       "  justify-content: space-between;\n",
       "  gap: 0.5em;\n",
       "}\n",
       "\n",
       "#sk-container-id-10 label.sk-toggleable__label .caption {\n",
       "  font-size: 0.6rem;\n",
       "  font-weight: lighter;\n",
       "  color: var(--sklearn-color-text-muted);\n",
       "}\n",
       "\n",
       "#sk-container-id-10 label.sk-toggleable__label-arrow:before {\n",
       "  /* Arrow on the left of the label */\n",
       "  content: \"▸\";\n",
       "  float: left;\n",
       "  margin-right: 0.25em;\n",
       "  color: var(--sklearn-color-icon);\n",
       "}\n",
       "\n",
       "#sk-container-id-10 label.sk-toggleable__label-arrow:hover:before {\n",
       "  color: var(--sklearn-color-text);\n",
       "}\n",
       "\n",
       "/* Toggleable content - dropdown */\n",
       "\n",
       "#sk-container-id-10 div.sk-toggleable__content {\n",
       "  max-height: 0;\n",
       "  max-width: 0;\n",
       "  overflow: hidden;\n",
       "  text-align: left;\n",
       "  /* unfitted */\n",
       "  background-color: var(--sklearn-color-unfitted-level-0);\n",
       "}\n",
       "\n",
       "#sk-container-id-10 div.sk-toggleable__content.fitted {\n",
       "  /* fitted */\n",
       "  background-color: var(--sklearn-color-fitted-level-0);\n",
       "}\n",
       "\n",
       "#sk-container-id-10 div.sk-toggleable__content pre {\n",
       "  margin: 0.2em;\n",
       "  border-radius: 0.25em;\n",
       "  color: var(--sklearn-color-text);\n",
       "  /* unfitted */\n",
       "  background-color: var(--sklearn-color-unfitted-level-0);\n",
       "}\n",
       "\n",
       "#sk-container-id-10 div.sk-toggleable__content.fitted pre {\n",
       "  /* unfitted */\n",
       "  background-color: var(--sklearn-color-fitted-level-0);\n",
       "}\n",
       "\n",
       "#sk-container-id-10 input.sk-toggleable__control:checked~div.sk-toggleable__content {\n",
       "  /* Expand drop-down */\n",
       "  max-height: 200px;\n",
       "  max-width: 100%;\n",
       "  overflow: auto;\n",
       "}\n",
       "\n",
       "#sk-container-id-10 input.sk-toggleable__control:checked~label.sk-toggleable__label-arrow:before {\n",
       "  content: \"▾\";\n",
       "}\n",
       "\n",
       "/* Pipeline/ColumnTransformer-specific style */\n",
       "\n",
       "#sk-container-id-10 div.sk-label input.sk-toggleable__control:checked~label.sk-toggleable__label {\n",
       "  color: var(--sklearn-color-text);\n",
       "  background-color: var(--sklearn-color-unfitted-level-2);\n",
       "}\n",
       "\n",
       "#sk-container-id-10 div.sk-label.fitted input.sk-toggleable__control:checked~label.sk-toggleable__label {\n",
       "  background-color: var(--sklearn-color-fitted-level-2);\n",
       "}\n",
       "\n",
       "/* Estimator-specific style */\n",
       "\n",
       "/* Colorize estimator box */\n",
       "#sk-container-id-10 div.sk-estimator input.sk-toggleable__control:checked~label.sk-toggleable__label {\n",
       "  /* unfitted */\n",
       "  background-color: var(--sklearn-color-unfitted-level-2);\n",
       "}\n",
       "\n",
       "#sk-container-id-10 div.sk-estimator.fitted input.sk-toggleable__control:checked~label.sk-toggleable__label {\n",
       "  /* fitted */\n",
       "  background-color: var(--sklearn-color-fitted-level-2);\n",
       "}\n",
       "\n",
       "#sk-container-id-10 div.sk-label label.sk-toggleable__label,\n",
       "#sk-container-id-10 div.sk-label label {\n",
       "  /* The background is the default theme color */\n",
       "  color: var(--sklearn-color-text-on-default-background);\n",
       "}\n",
       "\n",
       "/* On hover, darken the color of the background */\n",
       "#sk-container-id-10 div.sk-label:hover label.sk-toggleable__label {\n",
       "  color: var(--sklearn-color-text);\n",
       "  background-color: var(--sklearn-color-unfitted-level-2);\n",
       "}\n",
       "\n",
       "/* Label box, darken color on hover, fitted */\n",
       "#sk-container-id-10 div.sk-label.fitted:hover label.sk-toggleable__label.fitted {\n",
       "  color: var(--sklearn-color-text);\n",
       "  background-color: var(--sklearn-color-fitted-level-2);\n",
       "}\n",
       "\n",
       "/* Estimator label */\n",
       "\n",
       "#sk-container-id-10 div.sk-label label {\n",
       "  font-family: monospace;\n",
       "  font-weight: bold;\n",
       "  display: inline-block;\n",
       "  line-height: 1.2em;\n",
       "}\n",
       "\n",
       "#sk-container-id-10 div.sk-label-container {\n",
       "  text-align: center;\n",
       "}\n",
       "\n",
       "/* Estimator-specific */\n",
       "#sk-container-id-10 div.sk-estimator {\n",
       "  font-family: monospace;\n",
       "  border: 1px dotted var(--sklearn-color-border-box);\n",
       "  border-radius: 0.25em;\n",
       "  box-sizing: border-box;\n",
       "  margin-bottom: 0.5em;\n",
       "  /* unfitted */\n",
       "  background-color: var(--sklearn-color-unfitted-level-0);\n",
       "}\n",
       "\n",
       "#sk-container-id-10 div.sk-estimator.fitted {\n",
       "  /* fitted */\n",
       "  background-color: var(--sklearn-color-fitted-level-0);\n",
       "}\n",
       "\n",
       "/* on hover */\n",
       "#sk-container-id-10 div.sk-estimator:hover {\n",
       "  /* unfitted */\n",
       "  background-color: var(--sklearn-color-unfitted-level-2);\n",
       "}\n",
       "\n",
       "#sk-container-id-10 div.sk-estimator.fitted:hover {\n",
       "  /* fitted */\n",
       "  background-color: var(--sklearn-color-fitted-level-2);\n",
       "}\n",
       "\n",
       "/* Specification for estimator info (e.g. \"i\" and \"?\") */\n",
       "\n",
       "/* Common style for \"i\" and \"?\" */\n",
       "\n",
       ".sk-estimator-doc-link,\n",
       "a:link.sk-estimator-doc-link,\n",
       "a:visited.sk-estimator-doc-link {\n",
       "  float: right;\n",
       "  font-size: smaller;\n",
       "  line-height: 1em;\n",
       "  font-family: monospace;\n",
       "  background-color: var(--sklearn-color-background);\n",
       "  border-radius: 1em;\n",
       "  height: 1em;\n",
       "  width: 1em;\n",
       "  text-decoration: none !important;\n",
       "  margin-left: 0.5em;\n",
       "  text-align: center;\n",
       "  /* unfitted */\n",
       "  border: var(--sklearn-color-unfitted-level-1) 1pt solid;\n",
       "  color: var(--sklearn-color-unfitted-level-1);\n",
       "}\n",
       "\n",
       ".sk-estimator-doc-link.fitted,\n",
       "a:link.sk-estimator-doc-link.fitted,\n",
       "a:visited.sk-estimator-doc-link.fitted {\n",
       "  /* fitted */\n",
       "  border: var(--sklearn-color-fitted-level-1) 1pt solid;\n",
       "  color: var(--sklearn-color-fitted-level-1);\n",
       "}\n",
       "\n",
       "/* On hover */\n",
       "div.sk-estimator:hover .sk-estimator-doc-link:hover,\n",
       ".sk-estimator-doc-link:hover,\n",
       "div.sk-label-container:hover .sk-estimator-doc-link:hover,\n",
       ".sk-estimator-doc-link:hover {\n",
       "  /* unfitted */\n",
       "  background-color: var(--sklearn-color-unfitted-level-3);\n",
       "  color: var(--sklearn-color-background);\n",
       "  text-decoration: none;\n",
       "}\n",
       "\n",
       "div.sk-estimator.fitted:hover .sk-estimator-doc-link.fitted:hover,\n",
       ".sk-estimator-doc-link.fitted:hover,\n",
       "div.sk-label-container:hover .sk-estimator-doc-link.fitted:hover,\n",
       ".sk-estimator-doc-link.fitted:hover {\n",
       "  /* fitted */\n",
       "  background-color: var(--sklearn-color-fitted-level-3);\n",
       "  color: var(--sklearn-color-background);\n",
       "  text-decoration: none;\n",
       "}\n",
       "\n",
       "/* Span, style for the box shown on hovering the info icon */\n",
       ".sk-estimator-doc-link span {\n",
       "  display: none;\n",
       "  z-index: 9999;\n",
       "  position: relative;\n",
       "  font-weight: normal;\n",
       "  right: .2ex;\n",
       "  padding: .5ex;\n",
       "  margin: .5ex;\n",
       "  width: min-content;\n",
       "  min-width: 20ex;\n",
       "  max-width: 50ex;\n",
       "  color: var(--sklearn-color-text);\n",
       "  box-shadow: 2pt 2pt 4pt #999;\n",
       "  /* unfitted */\n",
       "  background: var(--sklearn-color-unfitted-level-0);\n",
       "  border: .5pt solid var(--sklearn-color-unfitted-level-3);\n",
       "}\n",
       "\n",
       ".sk-estimator-doc-link.fitted span {\n",
       "  /* fitted */\n",
       "  background: var(--sklearn-color-fitted-level-0);\n",
       "  border: var(--sklearn-color-fitted-level-3);\n",
       "}\n",
       "\n",
       ".sk-estimator-doc-link:hover span {\n",
       "  display: block;\n",
       "}\n",
       "\n",
       "/* \"?\"-specific style due to the `<a>` HTML tag */\n",
       "\n",
       "#sk-container-id-10 a.estimator_doc_link {\n",
       "  float: right;\n",
       "  font-size: 1rem;\n",
       "  line-height: 1em;\n",
       "  font-family: monospace;\n",
       "  background-color: var(--sklearn-color-background);\n",
       "  border-radius: 1rem;\n",
       "  height: 1rem;\n",
       "  width: 1rem;\n",
       "  text-decoration: none;\n",
       "  /* unfitted */\n",
       "  color: var(--sklearn-color-unfitted-level-1);\n",
       "  border: var(--sklearn-color-unfitted-level-1) 1pt solid;\n",
       "}\n",
       "\n",
       "#sk-container-id-10 a.estimator_doc_link.fitted {\n",
       "  /* fitted */\n",
       "  border: var(--sklearn-color-fitted-level-1) 1pt solid;\n",
       "  color: var(--sklearn-color-fitted-level-1);\n",
       "}\n",
       "\n",
       "/* On hover */\n",
       "#sk-container-id-10 a.estimator_doc_link:hover {\n",
       "  /* unfitted */\n",
       "  background-color: var(--sklearn-color-unfitted-level-3);\n",
       "  color: var(--sklearn-color-background);\n",
       "  text-decoration: none;\n",
       "}\n",
       "\n",
       "#sk-container-id-10 a.estimator_doc_link.fitted:hover {\n",
       "  /* fitted */\n",
       "  background-color: var(--sklearn-color-fitted-level-3);\n",
       "}\n",
       "</style><div id=\"sk-container-id-10\" class=\"sk-top-container\"><div class=\"sk-text-repr-fallback\"><pre>LinearRegression()</pre><b>In a Jupyter environment, please rerun this cell to show the HTML representation or trust the notebook. <br />On GitHub, the HTML representation is unable to render, please try loading this page with nbviewer.org.</b></div><div class=\"sk-container\" hidden><div class=\"sk-item\"><div class=\"sk-estimator fitted sk-toggleable\"><input class=\"sk-toggleable__control sk-hidden--visually\" id=\"sk-estimator-id-10\" type=\"checkbox\" checked><label for=\"sk-estimator-id-10\" class=\"sk-toggleable__label fitted sk-toggleable__label-arrow\"><div><div>LinearRegression</div></div><div><a class=\"sk-estimator-doc-link fitted\" rel=\"noreferrer\" target=\"_blank\" href=\"https://scikit-learn.org/1.6/modules/generated/sklearn.linear_model.LinearRegression.html\">?<span>Documentation for LinearRegression</span></a><span class=\"sk-estimator-doc-link fitted\">i<span>Fitted</span></span></div></label><div class=\"sk-toggleable__content fitted\"><pre>LinearRegression()</pre></div> </div></div></div></div>"
      ],
      "text/plain": [
       "LinearRegression()"
      ]
     },
     "execution_count": 373,
     "metadata": {},
     "output_type": "execute_result"
    }
   ],
   "source": [
    "regresore.fit(X_train,Y_train)"
   ]
  },
  {
   "cell_type": "code",
   "execution_count": 374,
   "id": "5fc8e7f6",
   "metadata": {},
   "outputs": [],
   "source": [
    "Y_pred = regresore.predict(X_test)"
   ]
  },
  {
   "cell_type": "code",
   "execution_count": 375,
   "id": "528dbe07",
   "metadata": {},
   "outputs": [
    {
     "data": {
      "text/plain": [
       "array([[20],\n",
       "       [27],\n",
       "       [69],\n",
       "       [30],\n",
       "       [62]])"
      ]
     },
     "execution_count": 375,
     "metadata": {},
     "output_type": "execute_result"
    }
   ],
   "source": [
    "Y_test"
   ]
  },
  {
   "cell_type": "code",
   "execution_count": 376,
   "id": "a2e15324",
   "metadata": {},
   "outputs": [
    {
     "data": {
      "text/plain": [
       "array([[18.53398612],\n",
       "       [32.56779011],\n",
       "       [73.67221622],\n",
       "       [30.34124366],\n",
       "       [58.9194762 ]])"
      ]
     },
     "execution_count": 376,
     "metadata": {},
     "output_type": "execute_result"
    }
   ],
   "source": [
    "Y_pred"
   ]
  },
  {
   "cell_type": "code",
   "execution_count": 377,
   "id": "2b40cb17",
   "metadata": {},
   "outputs": [
    {
     "data": {
      "image/png": "[encoded data removed]",
      "text/plain": [
       "<Figure size 640x480 with 1 Axes>"
      ]
     },
     "metadata": {},
     "output_type": "display_data"
    }
   ],
   "source": [
    "sns.scatterplot(\n",
    "    x=X_test.Hours, \n",
    "    y=Y_test.ravel(), \n",
    "    s=100,\n",
    "    color='blue',\n",
    "    alpha=0.5,\n",
    "    edgecolor='darkred',\n",
    "    linewidth=1.5,\n",
    "    label='test'\n",
    ")\n",
    "sns.scatterplot(\n",
    "    x=X_test.Hours, \n",
    "    y=Y_pred.ravel(), \n",
    "    s=100,\n",
    "    color='red',\n",
    "    alpha=0.5,\n",
    "    edgecolor='darkred',\n",
    "    linewidth=1.5,\n",
    "    label='predict'\n",
    ")\n",
    "plt.title('Student & Scores', fontsize=16, color='darkblue')\n",
    "plt.xlabel('Hours', fontsize=14, color='darkgreen')\n",
    "plt.ylabel('Scores', fontsize=14, color='darkgreen')\n",
    "plt.grid(True, alpha=0.3)\n",
    "plt.xticks(fontsize=12)\n",
    "plt.yticks(fontsize=12)\n",
    "plt.legend()\n",
    "plt.show()"
   ]
  },
  {
   "cell_type": "code",
   "execution_count": 378,
   "id": "607f5784",
   "metadata": {},
   "outputs": [
    {
     "data": {
      "text/plain": [
       "Index(['Hours', 'Practice', 'TeamWork', 'Scores'], dtype='object')"
      ]
     },
     "execution_count": 378,
     "metadata": {},
     "output_type": "execute_result"
    }
   ],
   "source": [
    "df.columns"
   ]
  },
  {
   "cell_type": "code",
   "execution_count": 379,
   "id": "276b7008",
   "metadata": {},
   "outputs": [
    {
     "data": {
      "image/png": "[encoded data removed]",
      "text/plain": [
       "<Figure size 640x480 with 1 Axes>"
      ]
     },
     "metadata": {},
     "output_type": "display_data"
    }
   ],
   "source": [
    "sns.scatterplot(\n",
    "    x=X_test.Practice, \n",
    "    y=Y_test.ravel(), \n",
    "    s=100,\n",
    "    color='blue',\n",
    "    alpha=0.5,\n",
    "    edgecolor='darkred',\n",
    "    linewidth=1.5,\n",
    "    label='test'\n",
    ")\n",
    "sns.scatterplot(\n",
    "    x=X_test.Practice, \n",
    "    y=Y_pred.ravel(), \n",
    "    s=100,\n",
    "    color='red',\n",
    "    alpha=0.5,\n",
    "    edgecolor='darkred',\n",
    "    linewidth=1.5,\n",
    "    label='predict'\n",
    ")\n",
    "plt.title('Student & Scores', fontsize=16, color='darkblue')\n",
    "plt.xlabel('Hours', fontsize=14, color='darkgreen')\n",
    "plt.ylabel('Scores', fontsize=14, color='darkgreen')\n",
    "plt.grid(True, alpha=0.3)\n",
    "plt.xticks(fontsize=12)\n",
    "plt.yticks(fontsize=12)\n",
    "plt.legend(loc='upper left')\n",
    "\n",
    "plt.show()"
   ]
  },
  {
   "cell_type": "code",
   "execution_count": 380,
   "id": "5712e1e6",
   "metadata": {},
   "outputs": [
    {
     "data": {
      "image/png": "[encoded data removed]",
      "text/plain": [
       "<Figure size 640x480 with 1 Axes>"
      ]
     },
     "metadata": {},
     "output_type": "display_data"
    }
   ],
   "source": [
    "sns.scatterplot(\n",
    "    x=X_test.TeamWork, \n",
    "    y=Y_test.ravel(), \n",
    "    s=100,\n",
    "    color='blue',\n",
    "    alpha=0.5,\n",
    "    edgecolor='darkred',\n",
    "    linewidth=1.5,\n",
    "    label='test'\n",
    ")\n",
    "sns.scatterplot(\n",
    "    x=X_test.TeamWork, \n",
    "    y=Y_pred.ravel(), \n",
    "    s=100,\n",
    "    color='red',\n",
    "    alpha=0.5,\n",
    "    edgecolor='darkred',\n",
    "    linewidth=1.5,\n",
    "    label='predict'\n",
    ")\n",
    "plt.title('Student & Scores', fontsize=16, color='darkblue')\n",
    "plt.xlabel('Hours', fontsize=14, color='darkgreen')\n",
    "plt.ylabel('Scores', fontsize=14, color='darkgreen')\n",
    "plt.grid(True, alpha=0.3)\n",
    "plt.xticks(fontsize=12)\n",
    "plt.yticks(fontsize=12)\n",
    "plt.legend(loc='upper left')\n",
    "\n",
    "plt.show()"
   ]
  },
  {
   "cell_type": "code",
   "execution_count": 381,
   "id": "a12a7477",
   "metadata": {},
   "outputs": [
    {
     "data": {
      "image/png": "[encoded data removed]",
      "text/plain": [
       "<Figure size 1800x500 with 3 Axes>"
      ]
     },
     "metadata": {},
     "output_type": "display_data"
    }
   ],
   "source": [
    "fig, axes = plt.subplots(1, 3, figsize=(18, 5))\n",
    "\n",
    "features = ['Hours', 'Practice', 'TeamWork']\n",
    "titles = ['Hours vs Scores', 'Practice vs Scores', 'TeamWork vs Scores']\n",
    "\n",
    "for ax, feature, title in zip(axes, features, titles):\n",
    "    sns.scatterplot(\n",
    "        x=X_test[feature], \n",
    "        y=Y_test.ravel(), \n",
    "        s=80,\n",
    "        color='blue',\n",
    "        alpha=0.5,\n",
    "        edgecolor='darkred',\n",
    "        linewidth=1.2,\n",
    "        label='Test',\n",
    "        ax=ax\n",
    "    )\n",
    "    sns.scatterplot(\n",
    "        x=X_test[feature], \n",
    "        y=Y_pred.ravel(), \n",
    "        s=80,\n",
    "        color='red',\n",
    "        alpha=0.5,\n",
    "        edgecolor='darkred',\n",
    "        linewidth=1.2,\n",
    "        label='Predicted',\n",
    "        ax=ax\n",
    "    )\n",
    "    ax.set_title(title, fontsize=14, color='darkblue')\n",
    "    ax.set_xlabel(feature, fontsize=12, color='darkgreen')\n",
    "    ax.set_ylabel('Scores', fontsize=12, color='darkgreen')\n",
    "    ax.grid(True, alpha=0.3)\n",
    "    ax.legend(loc='upper left')\n",
    "    ax.tick_params(axis='both', labelsize=10)\n",
    "plt.savefig('Student_Score01')\n",
    "plt.tight_layout()\n",
    "plt.show()\n"
   ]
  },
  {
   "cell_type": "code",
   "execution_count": 382,
   "id": "fb08cc4e",
   "metadata": {},
   "outputs": [
    {
     "data": {
      "image/png": "[encoded data removed]",
      "text/plain": [
       "<Figure size 640x480 with 1 Axes>"
      ]
     },
     "metadata": {},
     "output_type": "display_data"
    }
   ],
   "source": [
    "sns.scatterplot(\n",
    "    x=X_test.Hours, \n",
    "    y=Y_test.ravel(), \n",
    "    s=100,\n",
    "    color='blue',\n",
    "    alpha=0.5,\n",
    "    edgecolor='darkred',\n",
    "    linewidth=1.5,\n",
    "    label='test'\n",
    ")\n",
    "plt.plot(\n",
    "    X_test.Hours, \n",
    "    Y_pred.ravel(), \n",
    "    color='red',\n",
    "    label='Predicted'\n",
    ")\n",
    "plt.title('Student & Scores', fontsize=16, color='darkblue')\n",
    "plt.xlabel('Hours', fontsize=14, color='darkgreen')\n",
    "plt.ylabel('Scores', fontsize=14, color='darkgreen')\n",
    "plt.grid(True, alpha=0.3)\n",
    "plt.xticks(fontsize=12)\n",
    "plt.yticks(fontsize=12)\n",
    "plt.legend()\n",
    "plt.show()"
   ]
  },
  {
   "cell_type": "code",
   "execution_count": 383,
   "id": "e811254e",
   "metadata": {},
   "outputs": [
    {
     "data": {
      "application/vnd.microsoft.datawrangler.viewer.v0+json": {
       "columns": [
        {
         "name": "index",
         "rawType": "int64",
         "type": "integer"
        },
        {
         "name": "Hours",
         "rawType": "float64",
         "type": "float"
        },
        {
         "name": "Practice",
         "rawType": "float64",
         "type": "float"
        },
        {
         "name": "TeamWork",
         "rawType": "float64",
         "type": "float"
        }
       ],
       "ref": "f7e90f21-3a54-4321-bdfc-87ebe706d99a",
       "rows": [
        [
         "5",
         "1.5",
         "0.2",
         "0.0"
        ],
        [
         "2",
         "3.2",
         "1.0",
         "0.5"
        ],
        [
         "19",
         "7.4",
         "2.5",
         "3.0"
        ],
        [
         "16",
         "2.5",
         "1.6",
         "1.0"
        ],
        [
         "11",
         "5.9",
         "3.1",
         "2.1"
        ]
       ],
       "shape": {
        "columns": 3,
        "rows": 5
       }
      },
      "text/html": [
       "<div>\n",
       "<style scoped>\n",
       "    .dataframe tbody tr th:only-of-type {\n",
       "        vertical-align: middle;\n",
       "    }\n",
       "\n",
       "    .dataframe tbody tr th {\n",
       "        vertical-align: top;\n",
       "    }\n",
       "\n",
       "    .dataframe thead th {\n",
       "        text-align: right;\n",
       "    }\n",
       "</style>\n",
       "<table border=\"1\" class=\"dataframe\">\n",
       "  <thead>\n",
       "    <tr style=\"text-align: right;\">\n",
       "      <th></th>\n",
       "      <th>Hours</th>\n",
       "      <th>Practice</th>\n",
       "      <th>TeamWork</th>\n",
       "    </tr>\n",
       "  </thead>\n",
       "  <tbody>\n",
       "    <tr>\n",
       "      <th>5</th>\n",
       "      <td>1.5</td>\n",
       "      <td>0.2</td>\n",
       "      <td>0.0</td>\n",
       "    </tr>\n",
       "    <tr>\n",
       "      <th>2</th>\n",
       "      <td>3.2</td>\n",
       "      <td>1.0</td>\n",
       "      <td>0.5</td>\n",
       "    </tr>\n",
       "    <tr>\n",
       "      <th>19</th>\n",
       "      <td>7.4</td>\n",
       "      <td>2.5</td>\n",
       "      <td>3.0</td>\n",
       "    </tr>\n",
       "    <tr>\n",
       "      <th>16</th>\n",
       "      <td>2.5</td>\n",
       "      <td>1.6</td>\n",
       "      <td>1.0</td>\n",
       "    </tr>\n",
       "    <tr>\n",
       "      <th>11</th>\n",
       "      <td>5.9</td>\n",
       "      <td>3.1</td>\n",
       "      <td>2.1</td>\n",
       "    </tr>\n",
       "  </tbody>\n",
       "</table>\n",
       "</div>"
      ],
      "text/plain": [
       "    Hours  Practice  TeamWork\n",
       "5     1.5       0.2       0.0\n",
       "2     3.2       1.0       0.5\n",
       "19    7.4       2.5       3.0\n",
       "16    2.5       1.6       1.0\n",
       "11    5.9       3.1       2.1"
      ]
     },
     "execution_count": 383,
     "metadata": {},
     "output_type": "execute_result"
    }
   ],
   "source": [
    "X_test"
   ]
  },
  {
   "cell_type": "code",
   "execution_count": 384,
   "id": "02d84dc9",
   "metadata": {},
   "outputs": [
    {
     "data": {
      "application/vnd.microsoft.datawrangler.viewer.v0+json": {
       "columns": [
        {
         "name": "index",
         "rawType": "int64",
         "type": "integer"
        },
        {
         "name": "Hours",
         "rawType": "float64",
         "type": "float"
        },
        {
         "name": "Practice",
         "rawType": "float64",
         "type": "float"
        },
        {
         "name": "TeamWork",
         "rawType": "float64",
         "type": "float"
        },
        {
         "name": "Y_test",
         "rawType": "int64",
         "type": "integer"
        },
        {
         "name": "Y_pred",
         "rawType": "float64",
         "type": "float"
        }
       ],
       "ref": "809de09b-361d-4317-8e33-5a47c3cb6fcb",
       "rows": [
        [
         "5",
         "1.5",
         "0.2",
         "0.0",
         "20",
         "18.533986118545435"
        ],
        [
         "2",
         "3.2",
         "1.0",
         "0.5",
         "27",
         "32.56779010912577"
        ],
        [
         "19",
         "7.4",
         "2.5",
         "3.0",
         "69",
         "73.67221622449937"
        ],
        [
         "16",
         "2.5",
         "1.6",
         "1.0",
         "30",
         "30.34124366035521"
        ],
        [
         "11",
         "5.9",
         "3.1",
         "2.1",
         "62",
         "58.919476203071696"
        ]
       ],
       "shape": {
        "columns": 5,
        "rows": 5
       }
      },
      "text/html": [
       "<div>\n",
       "<style scoped>\n",
       "    .dataframe tbody tr th:only-of-type {\n",
       "        vertical-align: middle;\n",
       "    }\n",
       "\n",
       "    .dataframe tbody tr th {\n",
       "        vertical-align: top;\n",
       "    }\n",
       "\n",
       "    .dataframe thead th {\n",
       "        text-align: right;\n",
       "    }\n",
       "</style>\n",
       "<table border=\"1\" class=\"dataframe\">\n",
       "  <thead>\n",
       "    <tr style=\"text-align: right;\">\n",
       "      <th></th>\n",
       "      <th>Hours</th>\n",
       "      <th>Practice</th>\n",
       "      <th>TeamWork</th>\n",
       "      <th>Y_test</th>\n",
       "      <th>Y_pred</th>\n",
       "    </tr>\n",
       "  </thead>\n",
       "  <tbody>\n",
       "    <tr>\n",
       "      <th>5</th>\n",
       "      <td>1.5</td>\n",
       "      <td>0.2</td>\n",
       "      <td>0.0</td>\n",
       "      <td>20</td>\n",
       "      <td>18.533986</td>\n",
       "    </tr>\n",
       "    <tr>\n",
       "      <th>2</th>\n",
       "      <td>3.2</td>\n",
       "      <td>1.0</td>\n",
       "      <td>0.5</td>\n",
       "      <td>27</td>\n",
       "      <td>32.567790</td>\n",
       "    </tr>\n",
       "    <tr>\n",
       "      <th>19</th>\n",
       "      <td>7.4</td>\n",
       "      <td>2.5</td>\n",
       "      <td>3.0</td>\n",
       "      <td>69</td>\n",
       "      <td>73.672216</td>\n",
       "    </tr>\n",
       "    <tr>\n",
       "      <th>16</th>\n",
       "      <td>2.5</td>\n",
       "      <td>1.6</td>\n",
       "      <td>1.0</td>\n",
       "      <td>30</td>\n",
       "      <td>30.341244</td>\n",
       "    </tr>\n",
       "    <tr>\n",
       "      <th>11</th>\n",
       "      <td>5.9</td>\n",
       "      <td>3.1</td>\n",
       "      <td>2.1</td>\n",
       "      <td>62</td>\n",
       "      <td>58.919476</td>\n",
       "    </tr>\n",
       "  </tbody>\n",
       "</table>\n",
       "</div>"
      ],
      "text/plain": [
       "    Hours  Practice  TeamWork  Y_test     Y_pred\n",
       "5     1.5       0.2       0.0      20  18.533986\n",
       "2     3.2       1.0       0.5      27  32.567790\n",
       "19    7.4       2.5       3.0      69  73.672216\n",
       "16    2.5       1.6       1.0      30  30.341244\n",
       "11    5.9       3.1       2.1      62  58.919476"
      ]
     },
     "execution_count": 384,
     "metadata": {},
     "output_type": "execute_result"
    }
   ],
   "source": [
    "X_test.insert(3,'Y_test',Y_test)\n",
    "X_test.insert(4,'Y_pred',Y_pred)\n",
    "X_test"
   ]
  },
  {
   "cell_type": "code",
   "execution_count": 385,
   "id": "31fbd044",
   "metadata": {},
   "outputs": [
    {
     "data": {
      "application/vnd.microsoft.datawrangler.viewer.v0+json": {
       "columns": [
        {
         "name": "index",
         "rawType": "int64",
         "type": "integer"
        },
        {
         "name": "Hours",
         "rawType": "float64",
         "type": "float"
        },
        {
         "name": "Practice",
         "rawType": "float64",
         "type": "float"
        },
        {
         "name": "TeamWork",
         "rawType": "float64",
         "type": "float"
        },
        {
         "name": "Y_test",
         "rawType": "int64",
         "type": "integer"
        },
        {
         "name": "Y_pred",
         "rawType": "float64",
         "type": "float"
        }
       ],
       "ref": "c0dd7603-eb14-4816-8bfb-6d78b0817fed",
       "rows": [
        [
         "5",
         "1.5",
         "0.2",
         "0.0",
         "20",
         "18.533986118545435"
        ],
        [
         "16",
         "2.5",
         "1.6",
         "1.0",
         "30",
         "30.34124366035521"
        ],
        [
         "2",
         "3.2",
         "1.0",
         "0.5",
         "27",
         "32.56779010912577"
        ],
        [
         "11",
         "5.9",
         "3.1",
         "2.1",
         "62",
         "58.919476203071696"
        ],
        [
         "19",
         "7.4",
         "2.5",
         "3.0",
         "69",
         "73.67221622449937"
        ]
       ],
       "shape": {
        "columns": 5,
        "rows": 5
       }
      },
      "text/html": [
       "<div>\n",
       "<style scoped>\n",
       "    .dataframe tbody tr th:only-of-type {\n",
       "        vertical-align: middle;\n",
       "    }\n",
       "\n",
       "    .dataframe tbody tr th {\n",
       "        vertical-align: top;\n",
       "    }\n",
       "\n",
       "    .dataframe thead th {\n",
       "        text-align: right;\n",
       "    }\n",
       "</style>\n",
       "<table border=\"1\" class=\"dataframe\">\n",
       "  <thead>\n",
       "    <tr style=\"text-align: right;\">\n",
       "      <th></th>\n",
       "      <th>Hours</th>\n",
       "      <th>Practice</th>\n",
       "      <th>TeamWork</th>\n",
       "      <th>Y_test</th>\n",
       "      <th>Y_pred</th>\n",
       "    </tr>\n",
       "  </thead>\n",
       "  <tbody>\n",
       "    <tr>\n",
       "      <th>5</th>\n",
       "      <td>1.5</td>\n",
       "      <td>0.2</td>\n",
       "      <td>0.0</td>\n",
       "      <td>20</td>\n",
       "      <td>18.533986</td>\n",
       "    </tr>\n",
       "    <tr>\n",
       "      <th>16</th>\n",
       "      <td>2.5</td>\n",
       "      <td>1.6</td>\n",
       "      <td>1.0</td>\n",
       "      <td>30</td>\n",
       "      <td>30.341244</td>\n",
       "    </tr>\n",
       "    <tr>\n",
       "      <th>2</th>\n",
       "      <td>3.2</td>\n",
       "      <td>1.0</td>\n",
       "      <td>0.5</td>\n",
       "      <td>27</td>\n",
       "      <td>32.567790</td>\n",
       "    </tr>\n",
       "    <tr>\n",
       "      <th>11</th>\n",
       "      <td>5.9</td>\n",
       "      <td>3.1</td>\n",
       "      <td>2.1</td>\n",
       "      <td>62</td>\n",
       "      <td>58.919476</td>\n",
       "    </tr>\n",
       "    <tr>\n",
       "      <th>19</th>\n",
       "      <td>7.4</td>\n",
       "      <td>2.5</td>\n",
       "      <td>3.0</td>\n",
       "      <td>69</td>\n",
       "      <td>73.672216</td>\n",
       "    </tr>\n",
       "  </tbody>\n",
       "</table>\n",
       "</div>"
      ],
      "text/plain": [
       "    Hours  Practice  TeamWork  Y_test     Y_pred\n",
       "5     1.5       0.2       0.0      20  18.533986\n",
       "16    2.5       1.6       1.0      30  30.341244\n",
       "2     3.2       1.0       0.5      27  32.567790\n",
       "11    5.9       3.1       2.1      62  58.919476\n",
       "19    7.4       2.5       3.0      69  73.672216"
      ]
     },
     "execution_count": 385,
     "metadata": {},
     "output_type": "execute_result"
    }
   ],
   "source": [
    "df2 = X_test.sort_values(by=[\"Hours\"])\n",
    "df2"
   ]
  },
  {
   "cell_type": "code",
   "execution_count": 386,
   "id": "4bc54af9",
   "metadata": {},
   "outputs": [
    {
     "data": {
      "image/png": "[encoded data removed]",
      "text/plain": [
       "<Figure size 640x480 with 1 Axes>"
      ]
     },
     "metadata": {},
     "output_type": "display_data"
    }
   ],
   "source": [
    "sns.scatterplot(\n",
    "    x=df2.Hours, \n",
    "    y=df2.Y_test, \n",
    "    s=100,\n",
    "    color='blue',\n",
    "    alpha=0.5,\n",
    "    edgecolor='darkred',\n",
    "    linewidth=1.5,\n",
    "    label='test'\n",
    ")\n",
    "plt.plot(\n",
    "    df2.Hours, \n",
    "    df2.Y_pred, \n",
    "    color='red',\n",
    "    label='Predicted'\n",
    ")\n",
    "plt.title('Student & Scores', fontsize=16, color='darkblue')\n",
    "plt.xlabel('Hours', fontsize=14, color='darkgreen')\n",
    "plt.ylabel('Scores', fontsize=14, color='darkgreen')\n",
    "plt.grid(True, alpha=0.3)\n",
    "plt.xticks(fontsize=12)\n",
    "plt.yticks(fontsize=12)\n",
    "plt.legend()\n",
    "plt.show()"
   ]
  },
  {
   "cell_type": "code",
   "execution_count": 387,
   "id": "15a68653",
   "metadata": {},
   "outputs": [
    {
     "data": {
      "application/vnd.microsoft.datawrangler.viewer.v0+json": {
       "columns": [
        {
         "name": "index",
         "rawType": "int64",
         "type": "integer"
        },
        {
         "name": "Hours",
         "rawType": "float64",
         "type": "float"
        },
        {
         "name": "Practice",
         "rawType": "float64",
         "type": "float"
        },
        {
         "name": "TeamWork",
         "rawType": "float64",
         "type": "float"
        },
        {
         "name": "Y_test",
         "rawType": "int64",
         "type": "integer"
        },
        {
         "name": "Y_pred",
         "rawType": "float64",
         "type": "float"
        }
       ],
       "ref": "9a3d073d-00a9-462b-a87b-f3532cbf4d91",
       "rows": [
        [
         "5",
         "1.5",
         "0.2",
         "0.0",
         "20",
         "18.533986118545435"
        ],
        [
         "2",
         "3.2",
         "1.0",
         "0.5",
         "27",
         "32.56779010912577"
        ],
        [
         "16",
         "2.5",
         "1.6",
         "1.0",
         "30",
         "30.34124366035521"
        ],
        [
         "19",
         "7.4",
         "2.5",
         "3.0",
         "69",
         "73.67221622449937"
        ],
        [
         "11",
         "5.9",
         "3.1",
         "2.1",
         "62",
         "58.919476203071696"
        ]
       ],
       "shape": {
        "columns": 5,
        "rows": 5
       }
      },
      "text/html": [
       "<div>\n",
       "<style scoped>\n",
       "    .dataframe tbody tr th:only-of-type {\n",
       "        vertical-align: middle;\n",
       "    }\n",
       "\n",
       "    .dataframe tbody tr th {\n",
       "        vertical-align: top;\n",
       "    }\n",
       "\n",
       "    .dataframe thead th {\n",
       "        text-align: right;\n",
       "    }\n",
       "</style>\n",
       "<table border=\"1\" class=\"dataframe\">\n",
       "  <thead>\n",
       "    <tr style=\"text-align: right;\">\n",
       "      <th></th>\n",
       "      <th>Hours</th>\n",
       "      <th>Practice</th>\n",
       "      <th>TeamWork</th>\n",
       "      <th>Y_test</th>\n",
       "      <th>Y_pred</th>\n",
       "    </tr>\n",
       "  </thead>\n",
       "  <tbody>\n",
       "    <tr>\n",
       "      <th>5</th>\n",
       "      <td>1.5</td>\n",
       "      <td>0.2</td>\n",
       "      <td>0.0</td>\n",
       "      <td>20</td>\n",
       "      <td>18.533986</td>\n",
       "    </tr>\n",
       "    <tr>\n",
       "      <th>2</th>\n",
       "      <td>3.2</td>\n",
       "      <td>1.0</td>\n",
       "      <td>0.5</td>\n",
       "      <td>27</td>\n",
       "      <td>32.567790</td>\n",
       "    </tr>\n",
       "    <tr>\n",
       "      <th>16</th>\n",
       "      <td>2.5</td>\n",
       "      <td>1.6</td>\n",
       "      <td>1.0</td>\n",
       "      <td>30</td>\n",
       "      <td>30.341244</td>\n",
       "    </tr>\n",
       "    <tr>\n",
       "      <th>19</th>\n",
       "      <td>7.4</td>\n",
       "      <td>2.5</td>\n",
       "      <td>3.0</td>\n",
       "      <td>69</td>\n",
       "      <td>73.672216</td>\n",
       "    </tr>\n",
       "    <tr>\n",
       "      <th>11</th>\n",
       "      <td>5.9</td>\n",
       "      <td>3.1</td>\n",
       "      <td>2.1</td>\n",
       "      <td>62</td>\n",
       "      <td>58.919476</td>\n",
       "    </tr>\n",
       "  </tbody>\n",
       "</table>\n",
       "</div>"
      ],
      "text/plain": [
       "    Hours  Practice  TeamWork  Y_test     Y_pred\n",
       "5     1.5       0.2       0.0      20  18.533986\n",
       "2     3.2       1.0       0.5      27  32.567790\n",
       "16    2.5       1.6       1.0      30  30.341244\n",
       "19    7.4       2.5       3.0      69  73.672216\n",
       "11    5.9       3.1       2.1      62  58.919476"
      ]
     },
     "execution_count": 387,
     "metadata": {},
     "output_type": "execute_result"
    }
   ],
   "source": [
    "df2 = X_test.sort_values(by=[\"Practice\"])\n",
    "df2"
   ]
  },
  {
   "cell_type": "code",
   "execution_count": 388,
   "id": "4f529377",
   "metadata": {},
   "outputs": [
    {
     "data": {
      "image/png": "[encoded data removed]",
      "text/plain": [
       "<Figure size 640x480 with 1 Axes>"
      ]
     },
     "metadata": {},
     "output_type": "display_data"
    }
   ],
   "source": [
    "sns.scatterplot(\n",
    "    x=df2.Practice, \n",
    "    y=df2.Y_test, \n",
    "    s=100,\n",
    "    color='blue',\n",
    "    alpha=0.5,\n",
    "    edgecolor='darkred',\n",
    "    linewidth=1.5,\n",
    "    label='test'\n",
    ")\n",
    "plt.plot(\n",
    "    df2.Practice, \n",
    "    df2.Y_pred, \n",
    "    color='red',\n",
    "    label='Predicted'\n",
    ")\n",
    "plt.title('Student & Scores', fontsize=16, color='darkblue')\n",
    "plt.xlabel('Hours', fontsize=14, color='darkgreen')\n",
    "plt.ylabel('Scores', fontsize=14, color='darkgreen')\n",
    "plt.grid(True, alpha=0.3)\n",
    "plt.xticks(fontsize=12)\n",
    "plt.yticks(fontsize=12)\n",
    "plt.legend()\n",
    "plt.show()"
   ]
  },
  {
   "cell_type": "code",
   "execution_count": 389,
   "id": "68146fe8",
   "metadata": {},
   "outputs": [
    {
     "data": {
      "application/vnd.microsoft.datawrangler.viewer.v0+json": {
       "columns": [
        {
         "name": "index",
         "rawType": "int64",
         "type": "integer"
        },
        {
         "name": "Hours",
         "rawType": "float64",
         "type": "float"
        },
        {
         "name": "Practice",
         "rawType": "float64",
         "type": "float"
        },
        {
         "name": "TeamWork",
         "rawType": "float64",
         "type": "float"
        },
        {
         "name": "Y_test",
         "rawType": "int64",
         "type": "integer"
        },
        {
         "name": "Y_pred",
         "rawType": "float64",
         "type": "float"
        }
       ],
       "ref": "1020fa99-07d6-41cd-929b-a08b06f7f4c8",
       "rows": [
        [
         "5",
         "1.5",
         "0.2",
         "0.0",
         "20",
         "18.533986118545435"
        ],
        [
         "2",
         "3.2",
         "1.0",
         "0.5",
         "27",
         "32.56779010912577"
        ],
        [
         "16",
         "2.5",
         "1.6",
         "1.0",
         "30",
         "30.34124366035521"
        ],
        [
         "11",
         "5.9",
         "3.1",
         "2.1",
         "62",
         "58.919476203071696"
        ],
        [
         "19",
         "7.4",
         "2.5",
         "3.0",
         "69",
         "73.67221622449937"
        ]
       ],
       "shape": {
        "columns": 5,
        "rows": 5
       }
      },
      "text/html": [
       "<div>\n",
       "<style scoped>\n",
       "    .dataframe tbody tr th:only-of-type {\n",
       "        vertical-align: middle;\n",
       "    }\n",
       "\n",
       "    .dataframe tbody tr th {\n",
       "        vertical-align: top;\n",
       "    }\n",
       "\n",
       "    .dataframe thead th {\n",
       "        text-align: right;\n",
       "    }\n",
       "</style>\n",
       "<table border=\"1\" class=\"dataframe\">\n",
       "  <thead>\n",
       "    <tr style=\"text-align: right;\">\n",
       "      <th></th>\n",
       "      <th>Hours</th>\n",
       "      <th>Practice</th>\n",
       "      <th>TeamWork</th>\n",
       "      <th>Y_test</th>\n",
       "      <th>Y_pred</th>\n",
       "    </tr>\n",
       "  </thead>\n",
       "  <tbody>\n",
       "    <tr>\n",
       "      <th>5</th>\n",
       "      <td>1.5</td>\n",
       "      <td>0.2</td>\n",
       "      <td>0.0</td>\n",
       "      <td>20</td>\n",
       "      <td>18.533986</td>\n",
       "    </tr>\n",
       "    <tr>\n",
       "      <th>2</th>\n",
       "      <td>3.2</td>\n",
       "      <td>1.0</td>\n",
       "      <td>0.5</td>\n",
       "      <td>27</td>\n",
       "      <td>32.567790</td>\n",
       "    </tr>\n",
       "    <tr>\n",
       "      <th>16</th>\n",
       "      <td>2.5</td>\n",
       "      <td>1.6</td>\n",
       "      <td>1.0</td>\n",
       "      <td>30</td>\n",
       "      <td>30.341244</td>\n",
       "    </tr>\n",
       "    <tr>\n",
       "      <th>11</th>\n",
       "      <td>5.9</td>\n",
       "      <td>3.1</td>\n",
       "      <td>2.1</td>\n",
       "      <td>62</td>\n",
       "      <td>58.919476</td>\n",
       "    </tr>\n",
       "    <tr>\n",
       "      <th>19</th>\n",
       "      <td>7.4</td>\n",
       "      <td>2.5</td>\n",
       "      <td>3.0</td>\n",
       "      <td>69</td>\n",
       "      <td>73.672216</td>\n",
       "    </tr>\n",
       "  </tbody>\n",
       "</table>\n",
       "</div>"
      ],
      "text/plain": [
       "    Hours  Practice  TeamWork  Y_test     Y_pred\n",
       "5     1.5       0.2       0.0      20  18.533986\n",
       "2     3.2       1.0       0.5      27  32.567790\n",
       "16    2.5       1.6       1.0      30  30.341244\n",
       "11    5.9       3.1       2.1      62  58.919476\n",
       "19    7.4       2.5       3.0      69  73.672216"
      ]
     },
     "execution_count": 389,
     "metadata": {},
     "output_type": "execute_result"
    }
   ],
   "source": [
    "df2 = X_test.sort_values(by=[\"TeamWork\"])\n",
    "df2"
   ]
  },
  {
   "cell_type": "code",
   "execution_count": 390,
   "id": "2460313f",
   "metadata": {},
   "outputs": [
    {
     "data": {
      "image/png": "[encoded data removed]",
      "text/plain": [
       "<Figure size 640x480 with 1 Axes>"
      ]
     },
     "metadata": {},
     "output_type": "display_data"
    }
   ],
   "source": [
    "sns.scatterplot(\n",
    "    x=df2.TeamWork, \n",
    "    y=df2.Y_test, \n",
    "    s=100,\n",
    "    color='blue',\n",
    "    alpha=0.5,\n",
    "    edgecolor='darkred',\n",
    "    linewidth=1.5,\n",
    "    label='test'\n",
    ")\n",
    "plt.plot(\n",
    "    df2.TeamWork, \n",
    "    df2.Y_pred, \n",
    "    color='red',\n",
    "    label='Predicted'\n",
    ")\n",
    "plt.title('Student & Scores', fontsize=16, color='darkblue')\n",
    "plt.xlabel('Hours', fontsize=14, color='darkgreen')\n",
    "plt.ylabel('Scores', fontsize=14, color='darkgreen')\n",
    "plt.grid(True, alpha=0.3)\n",
    "plt.xticks(fontsize=12)\n",
    "plt.yticks(fontsize=12)\n",
    "plt.legend()\n",
    "plt.show()"
   ]
  },
  {
   "cell_type": "code",
   "execution_count": 391,
   "id": "2e71da85",
   "metadata": {},
   "outputs": [
    {
     "name": "stdout",
     "output_type": "stream",
     "text": [
      "[8.37366712]\n",
      "[[ 6.77781271 -0.03200033  5.07424529]]\n"
     ]
    }
   ],
   "source": [
    "print(regresore.intercept_)\n",
    "print(regresore.coef_)"
   ]
  },
  {
   "cell_type": "code",
   "execution_count": 392,
   "id": "91f31987",
   "metadata": {},
   "outputs": [
    {
     "data": {
      "application/vnd.microsoft.datawrangler.viewer.v0+json": {
       "columns": [
        {
         "name": "index",
         "rawType": "int64",
         "type": "integer"
        },
        {
         "name": "Actual",
         "rawType": "int64",
         "type": "integer"
        },
        {
         "name": "predicted",
         "rawType": "float64",
         "type": "float"
        }
       ],
       "ref": "b10fdbb1-fdd2-44b0-b320-635bd83a3764",
       "rows": [
        [
         "0",
         "20",
         "18.533986118545435"
        ],
        [
         "1",
         "27",
         "32.56779010912577"
        ],
        [
         "2",
         "69",
         "73.67221622449937"
        ],
        [
         "3",
         "30",
         "30.34124366035521"
        ],
        [
         "4",
         "62",
         "58.919476203071696"
        ]
       ],
       "shape": {
        "columns": 2,
        "rows": 5
       }
      },
      "text/html": [
       "<div>\n",
       "<style scoped>\n",
       "    .dataframe tbody tr th:only-of-type {\n",
       "        vertical-align: middle;\n",
       "    }\n",
       "\n",
       "    .dataframe tbody tr th {\n",
       "        vertical-align: top;\n",
       "    }\n",
       "\n",
       "    .dataframe thead th {\n",
       "        text-align: right;\n",
       "    }\n",
       "</style>\n",
       "<table border=\"1\" class=\"dataframe\">\n",
       "  <thead>\n",
       "    <tr style=\"text-align: right;\">\n",
       "      <th></th>\n",
       "      <th>Actual</th>\n",
       "      <th>predicted</th>\n",
       "    </tr>\n",
       "  </thead>\n",
       "  <tbody>\n",
       "    <tr>\n",
       "      <th>0</th>\n",
       "      <td>20</td>\n",
       "      <td>18.533986</td>\n",
       "    </tr>\n",
       "    <tr>\n",
       "      <th>1</th>\n",
       "      <td>27</td>\n",
       "      <td>32.567790</td>\n",
       "    </tr>\n",
       "    <tr>\n",
       "      <th>2</th>\n",
       "      <td>69</td>\n",
       "      <td>73.672216</td>\n",
       "    </tr>\n",
       "    <tr>\n",
       "      <th>3</th>\n",
       "      <td>30</td>\n",
       "      <td>30.341244</td>\n",
       "    </tr>\n",
       "    <tr>\n",
       "      <th>4</th>\n",
       "      <td>62</td>\n",
       "      <td>58.919476</td>\n",
       "    </tr>\n",
       "  </tbody>\n",
       "</table>\n",
       "</div>"
      ],
      "text/plain": [
       "   Actual  predicted\n",
       "0      20  18.533986\n",
       "1      27  32.567790\n",
       "2      69  73.672216\n",
       "3      30  30.341244\n",
       "4      62  58.919476"
      ]
     },
     "execution_count": 392,
     "metadata": {},
     "output_type": "execute_result"
    }
   ],
   "source": [
    "compare = pd.DataFrame({'Actual':Y_test.flatten(),'predicted':Y_pred.flatten()})\n",
    "compare"
   ]
  },
  {
   "cell_type": "code",
   "execution_count": 393,
   "id": "1163c6d1",
   "metadata": {},
   "outputs": [
    {
     "name": "stdout",
     "output_type": "stream",
     "text": [
      "Mean Absolute Error (MAE): 3.025557534472642\n",
      "Mean Squared Error (MSE): 12.9170323895091\n",
      "Root Mean Squared Error (RMSE): 3.5940273217532863\n",
      "R² Score: 0.9674009883164014\n"
     ]
    }
   ],
   "source": [
    "print('Mean Absolute Error (MAE):', metrics.mean_absolute_error(Y_test, Y_pred))\n",
    "print('Mean Squared Error (MSE):', metrics.mean_squared_error(Y_test, Y_pred))\n",
    "print('Root Mean Squared Error (RMSE):', np.sqrt(metrics.mean_squared_error(Y_test, Y_pred)))\n",
    "print('R² Score:', metrics.r2_score(Y_test, Y_pred))"
   ]
  },
  {
   "cell_type": "code",
   "execution_count": 394,
   "id": "a217952f",
   "metadata": {},
   "outputs": [],
   "source": [
    "df2 = pd.DataFrame({\"Hours\":[3.5,5,12,2,4],\n",
    "                    \"Practice\":[2,3,6,5,1],\n",
    "                    \"TeamWork\":[0,1,3,8,5],\n",
    "                    \"Scores\":[0,0,0,0,0]})"
   ]
  },
  {
   "cell_type": "code",
   "execution_count": 395,
   "id": "6e35113d",
   "metadata": {},
   "outputs": [
    {
     "data": {
      "application/vnd.microsoft.datawrangler.viewer.v0+json": {
       "columns": [
        {
         "name": "index",
         "rawType": "int64",
         "type": "integer"
        },
        {
         "name": "Hours",
         "rawType": "float64",
         "type": "float"
        },
        {
         "name": "Practice",
         "rawType": "float64",
         "type": "float"
        },
        {
         "name": "TeamWork",
         "rawType": "float64",
         "type": "float"
        },
        {
         "name": "Scores",
         "rawType": "int64",
         "type": "integer"
        }
       ],
       "ref": "413e6a8d-ed89-4016-8a1b-b4fe4e62e617",
       "rows": [
        [
         "0",
         "2.5",
         "0.5",
         "0.0",
         "21"
        ],
        [
         "1",
         "5.1",
         "1.5",
         "0.5",
         "47"
        ],
        [
         "2",
         "3.2",
         "1.0",
         "0.5",
         "27"
        ],
        [
         "3",
         "8.5",
         "3.7",
         "1.2",
         "75"
        ],
        [
         "4",
         "3.5",
         "1.2",
         "0.3",
         "30"
        ],
        [
         "5",
         "1.5",
         "0.2",
         "0.0",
         "20"
        ],
        [
         "6",
         "9.2",
         "4.8",
         "3.0",
         "88"
        ],
        [
         "7",
         "5.5",
         "3.2",
         "2.0",
         "60"
        ],
        [
         "8",
         "9.3",
         "5.1",
         "3.5",
         "81"
        ],
        [
         "9",
         "2.7",
         "1.5",
         "0.0",
         "25"
        ],
        [
         "10",
         "7.7",
         "4.9",
         "4.5",
         "85"
        ],
        [
         "11",
         "5.9",
         "3.1",
         "2.1",
         "62"
        ],
        [
         "12",
         "4.5",
         "2.8",
         "1.0",
         "41"
        ],
        [
         "13",
         "3.3",
         "2.2",
         "1.1",
         "42"
        ],
        [
         "14",
         "1.1",
         "1.1",
         "0.0",
         "17"
        ],
        [
         "15",
         "8.9",
         "6.2",
         "6.0",
         "95"
        ],
        [
         "16",
         "2.5",
         "1.6",
         "1.0",
         "30"
        ],
        [
         "17",
         "1.9",
         "0.9",
         "0.5",
         "24"
        ],
        [
         "18",
         "6.1",
         "2.0",
         "3.2",
         "67"
        ],
        [
         "19",
         "7.4",
         "2.5",
         "3.0",
         "69"
        ],
        [
         "20",
         "2.7",
         "3.0",
         "1.2",
         "30"
        ],
        [
         "21",
         "4.8",
         "2.9",
         "2.1",
         "54"
        ],
        [
         "22",
         "3.8",
         "2.2",
         "0.3",
         "35"
        ],
        [
         "23",
         "6.9",
         "5.1",
         "3.8",
         "76"
        ],
        [
         "24",
         "7.8",
         "5.8",
         "4.5",
         "86"
        ],
        [
         "25",
         "3.5",
         "2.0",
         "0.0",
         "0"
        ],
        [
         "26",
         "5.0",
         "3.0",
         "1.0",
         "0"
        ],
        [
         "27",
         "12.0",
         "6.0",
         "3.0",
         "0"
        ],
        [
         "28",
         "2.0",
         "5.0",
         "8.0",
         "0"
        ],
        [
         "29",
         "4.0",
         "1.0",
         "5.0",
         "0"
        ]
       ],
       "shape": {
        "columns": 4,
        "rows": 30
       }
      },
      "text/html": [
       "<div>\n",
       "<style scoped>\n",
       "    .dataframe tbody tr th:only-of-type {\n",
       "        vertical-align: middle;\n",
       "    }\n",
       "\n",
       "    .dataframe tbody tr th {\n",
       "        vertical-align: top;\n",
       "    }\n",
       "\n",
       "    .dataframe thead th {\n",
       "        text-align: right;\n",
       "    }\n",
       "</style>\n",
       "<table border=\"1\" class=\"dataframe\">\n",
       "  <thead>\n",
       "    <tr style=\"text-align: right;\">\n",
       "      <th></th>\n",
       "      <th>Hours</th>\n",
       "      <th>Practice</th>\n",
       "      <th>TeamWork</th>\n",
       "      <th>Scores</th>\n",
       "    </tr>\n",
       "  </thead>\n",
       "  <tbody>\n",
       "    <tr>\n",
       "      <th>0</th>\n",
       "      <td>2.5</td>\n",
       "      <td>0.5</td>\n",
       "      <td>0.0</td>\n",
       "      <td>21</td>\n",
       "    </tr>\n",
       "    <tr>\n",
       "      <th>1</th>\n",
       "      <td>5.1</td>\n",
       "      <td>1.5</td>\n",
       "      <td>0.5</td>\n",
       "      <td>47</td>\n",
       "    </tr>\n",
       "    <tr>\n",
       "      <th>2</th>\n",
       "      <td>3.2</td>\n",
       "      <td>1.0</td>\n",
       "      <td>0.5</td>\n",
       "      <td>27</td>\n",
       "    </tr>\n",
       "    <tr>\n",
       "      <th>3</th>\n",
       "      <td>8.5</td>\n",
       "      <td>3.7</td>\n",
       "      <td>1.2</td>\n",
       "      <td>75</td>\n",
       "    </tr>\n",
       "    <tr>\n",
       "      <th>4</th>\n",
       "      <td>3.5</td>\n",
       "      <td>1.2</td>\n",
       "      <td>0.3</td>\n",
       "      <td>30</td>\n",
       "    </tr>\n",
       "    <tr>\n",
       "      <th>5</th>\n",
       "      <td>1.5</td>\n",
       "      <td>0.2</td>\n",
       "      <td>0.0</td>\n",
       "      <td>20</td>\n",
       "    </tr>\n",
       "    <tr>\n",
       "      <th>6</th>\n",
       "      <td>9.2</td>\n",
       "      <td>4.8</td>\n",
       "      <td>3.0</td>\n",
       "      <td>88</td>\n",
       "    </tr>\n",
       "    <tr>\n",
       "      <th>7</th>\n",
       "      <td>5.5</td>\n",
       "      <td>3.2</td>\n",
       "      <td>2.0</td>\n",
       "      <td>60</td>\n",
       "    </tr>\n",
       "    <tr>\n",
       "      <th>8</th>\n",
       "      <td>9.3</td>\n",
       "      <td>5.1</td>\n",
       "      <td>3.5</td>\n",
       "      <td>81</td>\n",
       "    </tr>\n",
       "    <tr>\n",
       "      <th>9</th>\n",
       "      <td>2.7</td>\n",
       "      <td>1.5</td>\n",
       "      <td>0.0</td>\n",
       "      <td>25</td>\n",
       "    </tr>\n",
       "    <tr>\n",
       "      <th>10</th>\n",
       "      <td>7.7</td>\n",
       "      <td>4.9</td>\n",
       "      <td>4.5</td>\n",
       "      <td>85</td>\n",
       "    </tr>\n",
       "    <tr>\n",
       "      <th>11</th>\n",
       "      <td>5.9</td>\n",
       "      <td>3.1</td>\n",
       "      <td>2.1</td>\n",
       "      <td>62</td>\n",
       "    </tr>\n",
       "    <tr>\n",
       "      <th>12</th>\n",
       "      <td>4.5</td>\n",
       "      <td>2.8</td>\n",
       "      <td>1.0</td>\n",
       "      <td>41</td>\n",
       "    </tr>\n",
       "    <tr>\n",
       "      <th>13</th>\n",
       "      <td>3.3</td>\n",
       "      <td>2.2</td>\n",
       "      <td>1.1</td>\n",
       "      <td>42</td>\n",
       "    </tr>\n",
       "    <tr>\n",
       "      <th>14</th>\n",
       "      <td>1.1</td>\n",
       "      <td>1.1</td>\n",
       "      <td>0.0</td>\n",
       "      <td>17</td>\n",
       "    </tr>\n",
       "    <tr>\n",
       "      <th>15</th>\n",
       "      <td>8.9</td>\n",
       "      <td>6.2</td>\n",
       "      <td>6.0</td>\n",
       "      <td>95</td>\n",
       "    </tr>\n",
       "    <tr>\n",
       "      <th>16</th>\n",
       "      <td>2.5</td>\n",
       "      <td>1.6</td>\n",
       "      <td>1.0</td>\n",
       "      <td>30</td>\n",
       "    </tr>\n",
       "    <tr>\n",
       "      <th>17</th>\n",
       "      <td>1.9</td>\n",
       "      <td>0.9</td>\n",
       "      <td>0.5</td>\n",
       "      <td>24</td>\n",
       "    </tr>\n",
       "    <tr>\n",
       "      <th>18</th>\n",
       "      <td>6.1</td>\n",
       "      <td>2.0</td>\n",
       "      <td>3.2</td>\n",
       "      <td>67</td>\n",
       "    </tr>\n",
       "    <tr>\n",
       "      <th>19</th>\n",
       "      <td>7.4</td>\n",
       "      <td>2.5</td>\n",
       "      <td>3.0</td>\n",
       "      <td>69</td>\n",
       "    </tr>\n",
       "    <tr>\n",
       "      <th>20</th>\n",
       "      <td>2.7</td>\n",
       "      <td>3.0</td>\n",
       "      <td>1.2</td>\n",
       "      <td>30</td>\n",
       "    </tr>\n",
       "    <tr>\n",
       "      <th>21</th>\n",
       "      <td>4.8</td>\n",
       "      <td>2.9</td>\n",
       "      <td>2.1</td>\n",
       "      <td>54</td>\n",
       "    </tr>\n",
       "    <tr>\n",
       "      <th>22</th>\n",
       "      <td>3.8</td>\n",
       "      <td>2.2</td>\n",
       "      <td>0.3</td>\n",
       "      <td>35</td>\n",
       "    </tr>\n",
       "    <tr>\n",
       "      <th>23</th>\n",
       "      <td>6.9</td>\n",
       "      <td>5.1</td>\n",
       "      <td>3.8</td>\n",
       "      <td>76</td>\n",
       "    </tr>\n",
       "    <tr>\n",
       "      <th>24</th>\n",
       "      <td>7.8</td>\n",
       "      <td>5.8</td>\n",
       "      <td>4.5</td>\n",
       "      <td>86</td>\n",
       "    </tr>\n",
       "    <tr>\n",
       "      <th>25</th>\n",
       "      <td>3.5</td>\n",
       "      <td>2.0</td>\n",
       "      <td>0.0</td>\n",
       "      <td>0</td>\n",
       "    </tr>\n",
       "    <tr>\n",
       "      <th>26</th>\n",
       "      <td>5.0</td>\n",
       "      <td>3.0</td>\n",
       "      <td>1.0</td>\n",
       "      <td>0</td>\n",
       "    </tr>\n",
       "    <tr>\n",
       "      <th>27</th>\n",
       "      <td>12.0</td>\n",
       "      <td>6.0</td>\n",
       "      <td>3.0</td>\n",
       "      <td>0</td>\n",
       "    </tr>\n",
       "    <tr>\n",
       "      <th>28</th>\n",
       "      <td>2.0</td>\n",
       "      <td>5.0</td>\n",
       "      <td>8.0</td>\n",
       "      <td>0</td>\n",
       "    </tr>\n",
       "    <tr>\n",
       "      <th>29</th>\n",
       "      <td>4.0</td>\n",
       "      <td>1.0</td>\n",
       "      <td>5.0</td>\n",
       "      <td>0</td>\n",
       "    </tr>\n",
       "  </tbody>\n",
       "</table>\n",
       "</div>"
      ],
      "text/plain": [
       "    Hours  Practice  TeamWork  Scores\n",
       "0     2.5       0.5       0.0      21\n",
       "1     5.1       1.5       0.5      47\n",
       "2     3.2       1.0       0.5      27\n",
       "3     8.5       3.7       1.2      75\n",
       "4     3.5       1.2       0.3      30\n",
       "5     1.5       0.2       0.0      20\n",
       "6     9.2       4.8       3.0      88\n",
       "7     5.5       3.2       2.0      60\n",
       "8     9.3       5.1       3.5      81\n",
       "9     2.7       1.5       0.0      25\n",
       "10    7.7       4.9       4.5      85\n",
       "11    5.9       3.1       2.1      62\n",
       "12    4.5       2.8       1.0      41\n",
       "13    3.3       2.2       1.1      42\n",
       "14    1.1       1.1       0.0      17\n",
       "15    8.9       6.2       6.0      95\n",
       "16    2.5       1.6       1.0      30\n",
       "17    1.9       0.9       0.5      24\n",
       "18    6.1       2.0       3.2      67\n",
       "19    7.4       2.5       3.0      69\n",
       "20    2.7       3.0       1.2      30\n",
       "21    4.8       2.9       2.1      54\n",
       "22    3.8       2.2       0.3      35\n",
       "23    6.9       5.1       3.8      76\n",
       "24    7.8       5.8       4.5      86\n",
       "25    3.5       2.0       0.0       0\n",
       "26    5.0       3.0       1.0       0\n",
       "27   12.0       6.0       3.0       0\n",
       "28    2.0       5.0       8.0       0\n",
       "29    4.0       1.0       5.0       0"
      ]
     },
     "execution_count": 395,
     "metadata": {},
     "output_type": "execute_result"
    }
   ],
   "source": [
    "df3 = pd.concat([df, df2], ignore_index=True)\n",
    "df3"
   ]
  },
  {
   "cell_type": "code",
   "execution_count": 396,
   "id": "aae2afce",
   "metadata": {},
   "outputs": [],
   "source": [
    "train = df3.iloc[:25]\n",
    "test = df3.iloc[25:]"
   ]
  },
  {
   "cell_type": "code",
   "execution_count": 397,
   "id": "4d929dc8",
   "metadata": {},
   "outputs": [
    {
     "data": {
      "application/vnd.microsoft.datawrangler.viewer.v0+json": {
       "columns": [
        {
         "name": "index",
         "rawType": "int64",
         "type": "integer"
        },
        {
         "name": "Hours",
         "rawType": "float64",
         "type": "float"
        },
        {
         "name": "Practice",
         "rawType": "float64",
         "type": "float"
        },
        {
         "name": "TeamWork",
         "rawType": "float64",
         "type": "float"
        },
        {
         "name": "Scores",
         "rawType": "int64",
         "type": "integer"
        }
       ],
       "ref": "35e47812-b3da-4b55-a915-2bb0acac782e",
       "rows": [
        [
         "0",
         "2.5",
         "0.5",
         "0.0",
         "21"
        ],
        [
         "1",
         "5.1",
         "1.5",
         "0.5",
         "47"
        ],
        [
         "2",
         "3.2",
         "1.0",
         "0.5",
         "27"
        ],
        [
         "3",
         "8.5",
         "3.7",
         "1.2",
         "75"
        ],
        [
         "4",
         "3.5",
         "1.2",
         "0.3",
         "30"
        ],
        [
         "5",
         "1.5",
         "0.2",
         "0.0",
         "20"
        ],
        [
         "6",
         "9.2",
         "4.8",
         "3.0",
         "88"
        ],
        [
         "7",
         "5.5",
         "3.2",
         "2.0",
         "60"
        ],
        [
         "8",
         "9.3",
         "5.1",
         "3.5",
         "81"
        ],
        [
         "9",
         "2.7",
         "1.5",
         "0.0",
         "25"
        ],
        [
         "10",
         "7.7",
         "4.9",
         "4.5",
         "85"
        ],
        [
         "11",
         "5.9",
         "3.1",
         "2.1",
         "62"
        ],
        [
         "12",
         "4.5",
         "2.8",
         "1.0",
         "41"
        ],
        [
         "13",
         "3.3",
         "2.2",
         "1.1",
         "42"
        ],
        [
         "14",
         "1.1",
         "1.1",
         "0.0",
         "17"
        ],
        [
         "15",
         "8.9",
         "6.2",
         "6.0",
         "95"
        ],
        [
         "16",
         "2.5",
         "1.6",
         "1.0",
         "30"
        ],
        [
         "17",
         "1.9",
         "0.9",
         "0.5",
         "24"
        ],
        [
         "18",
         "6.1",
         "2.0",
         "3.2",
         "67"
        ],
        [
         "19",
         "7.4",
         "2.5",
         "3.0",
         "69"
        ],
        [
         "20",
         "2.7",
         "3.0",
         "1.2",
         "30"
        ],
        [
         "21",
         "4.8",
         "2.9",
         "2.1",
         "54"
        ],
        [
         "22",
         "3.8",
         "2.2",
         "0.3",
         "35"
        ],
        [
         "23",
         "6.9",
         "5.1",
         "3.8",
         "76"
        ],
        [
         "24",
         "7.8",
         "5.8",
         "4.5",
         "86"
        ]
       ],
       "shape": {
        "columns": 4,
        "rows": 25
       }
      },
      "text/html": [
       "<div>\n",
       "<style scoped>\n",
       "    .dataframe tbody tr th:only-of-type {\n",
       "        vertical-align: middle;\n",
       "    }\n",
       "\n",
       "    .dataframe tbody tr th {\n",
       "        vertical-align: top;\n",
       "    }\n",
       "\n",
       "    .dataframe thead th {\n",
       "        text-align: right;\n",
       "    }\n",
       "</style>\n",
       "<table border=\"1\" class=\"dataframe\">\n",
       "  <thead>\n",
       "    <tr style=\"text-align: right;\">\n",
       "      <th></th>\n",
       "      <th>Hours</th>\n",
       "      <th>Practice</th>\n",
       "      <th>TeamWork</th>\n",
       "      <th>Scores</th>\n",
       "    </tr>\n",
       "  </thead>\n",
       "  <tbody>\n",
       "    <tr>\n",
       "      <th>0</th>\n",
       "      <td>2.5</td>\n",
       "      <td>0.5</td>\n",
       "      <td>0.0</td>\n",
       "      <td>21</td>\n",
       "    </tr>\n",
       "    <tr>\n",
       "      <th>1</th>\n",
       "      <td>5.1</td>\n",
       "      <td>1.5</td>\n",
       "      <td>0.5</td>\n",
       "      <td>47</td>\n",
       "    </tr>\n",
       "    <tr>\n",
       "      <th>2</th>\n",
       "      <td>3.2</td>\n",
       "      <td>1.0</td>\n",
       "      <td>0.5</td>\n",
       "      <td>27</td>\n",
       "    </tr>\n",
       "    <tr>\n",
       "      <th>3</th>\n",
       "      <td>8.5</td>\n",
       "      <td>3.7</td>\n",
       "      <td>1.2</td>\n",
       "      <td>75</td>\n",
       "    </tr>\n",
       "    <tr>\n",
       "      <th>4</th>\n",
       "      <td>3.5</td>\n",
       "      <td>1.2</td>\n",
       "      <td>0.3</td>\n",
       "      <td>30</td>\n",
       "    </tr>\n",
       "    <tr>\n",
       "      <th>5</th>\n",
       "      <td>1.5</td>\n",
       "      <td>0.2</td>\n",
       "      <td>0.0</td>\n",
       "      <td>20</td>\n",
       "    </tr>\n",
       "    <tr>\n",
       "      <th>6</th>\n",
       "      <td>9.2</td>\n",
       "      <td>4.8</td>\n",
       "      <td>3.0</td>\n",
       "      <td>88</td>\n",
       "    </tr>\n",
       "    <tr>\n",
       "      <th>7</th>\n",
       "      <td>5.5</td>\n",
       "      <td>3.2</td>\n",
       "      <td>2.0</td>\n",
       "      <td>60</td>\n",
       "    </tr>\n",
       "    <tr>\n",
       "      <th>8</th>\n",
       "      <td>9.3</td>\n",
       "      <td>5.1</td>\n",
       "      <td>3.5</td>\n",
       "      <td>81</td>\n",
       "    </tr>\n",
       "    <tr>\n",
       "      <th>9</th>\n",
       "      <td>2.7</td>\n",
       "      <td>1.5</td>\n",
       "      <td>0.0</td>\n",
       "      <td>25</td>\n",
       "    </tr>\n",
       "    <tr>\n",
       "      <th>10</th>\n",
       "      <td>7.7</td>\n",
       "      <td>4.9</td>\n",
       "      <td>4.5</td>\n",
       "      <td>85</td>\n",
       "    </tr>\n",
       "    <tr>\n",
       "      <th>11</th>\n",
       "      <td>5.9</td>\n",
       "      <td>3.1</td>\n",
       "      <td>2.1</td>\n",
       "      <td>62</td>\n",
       "    </tr>\n",
       "    <tr>\n",
       "      <th>12</th>\n",
       "      <td>4.5</td>\n",
       "      <td>2.8</td>\n",
       "      <td>1.0</td>\n",
       "      <td>41</td>\n",
       "    </tr>\n",
       "    <tr>\n",
       "      <th>13</th>\n",
       "      <td>3.3</td>\n",
       "      <td>2.2</td>\n",
       "      <td>1.1</td>\n",
       "      <td>42</td>\n",
       "    </tr>\n",
       "    <tr>\n",
       "      <th>14</th>\n",
       "      <td>1.1</td>\n",
       "      <td>1.1</td>\n",
       "      <td>0.0</td>\n",
       "      <td>17</td>\n",
       "    </tr>\n",
       "    <tr>\n",
       "      <th>15</th>\n",
       "      <td>8.9</td>\n",
       "      <td>6.2</td>\n",
       "      <td>6.0</td>\n",
       "      <td>95</td>\n",
       "    </tr>\n",
       "    <tr>\n",
       "      <th>16</th>\n",
       "      <td>2.5</td>\n",
       "      <td>1.6</td>\n",
       "      <td>1.0</td>\n",
       "      <td>30</td>\n",
       "    </tr>\n",
       "    <tr>\n",
       "      <th>17</th>\n",
       "      <td>1.9</td>\n",
       "      <td>0.9</td>\n",
       "      <td>0.5</td>\n",
       "      <td>24</td>\n",
       "    </tr>\n",
       "    <tr>\n",
       "      <th>18</th>\n",
       "      <td>6.1</td>\n",
       "      <td>2.0</td>\n",
       "      <td>3.2</td>\n",
       "      <td>67</td>\n",
       "    </tr>\n",
       "    <tr>\n",
       "      <th>19</th>\n",
       "      <td>7.4</td>\n",
       "      <td>2.5</td>\n",
       "      <td>3.0</td>\n",
       "      <td>69</td>\n",
       "    </tr>\n",
       "    <tr>\n",
       "      <th>20</th>\n",
       "      <td>2.7</td>\n",
       "      <td>3.0</td>\n",
       "      <td>1.2</td>\n",
       "      <td>30</td>\n",
       "    </tr>\n",
       "    <tr>\n",
       "      <th>21</th>\n",
       "      <td>4.8</td>\n",
       "      <td>2.9</td>\n",
       "      <td>2.1</td>\n",
       "      <td>54</td>\n",
       "    </tr>\n",
       "    <tr>\n",
       "      <th>22</th>\n",
       "      <td>3.8</td>\n",
       "      <td>2.2</td>\n",
       "      <td>0.3</td>\n",
       "      <td>35</td>\n",
       "    </tr>\n",
       "    <tr>\n",
       "      <th>23</th>\n",
       "      <td>6.9</td>\n",
       "      <td>5.1</td>\n",
       "      <td>3.8</td>\n",
       "      <td>76</td>\n",
       "    </tr>\n",
       "    <tr>\n",
       "      <th>24</th>\n",
       "      <td>7.8</td>\n",
       "      <td>5.8</td>\n",
       "      <td>4.5</td>\n",
       "      <td>86</td>\n",
       "    </tr>\n",
       "  </tbody>\n",
       "</table>\n",
       "</div>"
      ],
      "text/plain": [
       "    Hours  Practice  TeamWork  Scores\n",
       "0     2.5       0.5       0.0      21\n",
       "1     5.1       1.5       0.5      47\n",
       "2     3.2       1.0       0.5      27\n",
       "3     8.5       3.7       1.2      75\n",
       "4     3.5       1.2       0.3      30\n",
       "5     1.5       0.2       0.0      20\n",
       "6     9.2       4.8       3.0      88\n",
       "7     5.5       3.2       2.0      60\n",
       "8     9.3       5.1       3.5      81\n",
       "9     2.7       1.5       0.0      25\n",
       "10    7.7       4.9       4.5      85\n",
       "11    5.9       3.1       2.1      62\n",
       "12    4.5       2.8       1.0      41\n",
       "13    3.3       2.2       1.1      42\n",
       "14    1.1       1.1       0.0      17\n",
       "15    8.9       6.2       6.0      95\n",
       "16    2.5       1.6       1.0      30\n",
       "17    1.9       0.9       0.5      24\n",
       "18    6.1       2.0       3.2      67\n",
       "19    7.4       2.5       3.0      69\n",
       "20    2.7       3.0       1.2      30\n",
       "21    4.8       2.9       2.1      54\n",
       "22    3.8       2.2       0.3      35\n",
       "23    6.9       5.1       3.8      76\n",
       "24    7.8       5.8       4.5      86"
      ]
     },
     "execution_count": 397,
     "metadata": {},
     "output_type": "execute_result"
    }
   ],
   "source": [
    "train"
   ]
  },
  {
   "cell_type": "code",
   "execution_count": 398,
   "id": "3de69981",
   "metadata": {},
   "outputs": [
    {
     "data": {
      "application/vnd.microsoft.datawrangler.viewer.v0+json": {
       "columns": [
        {
         "name": "index",
         "rawType": "int64",
         "type": "integer"
        },
        {
         "name": "Hours",
         "rawType": "float64",
         "type": "float"
        },
        {
         "name": "Practice",
         "rawType": "float64",
         "type": "float"
        },
        {
         "name": "TeamWork",
         "rawType": "float64",
         "type": "float"
        },
        {
         "name": "Scores",
         "rawType": "int64",
         "type": "integer"
        }
       ],
       "ref": "c45a4d66-2452-4d95-ab9c-cd6d66a8845c",
       "rows": [
        [
         "25",
         "3.5",
         "2.0",
         "0.0",
         "0"
        ],
        [
         "26",
         "5.0",
         "3.0",
         "1.0",
         "0"
        ],
        [
         "27",
         "12.0",
         "6.0",
         "3.0",
         "0"
        ],
        [
         "28",
         "2.0",
         "5.0",
         "8.0",
         "0"
        ],
        [
         "29",
         "4.0",
         "1.0",
         "5.0",
         "0"
        ]
       ],
       "shape": {
        "columns": 4,
        "rows": 5
       }
      },
      "text/html": [
       "<div>\n",
       "<style scoped>\n",
       "    .dataframe tbody tr th:only-of-type {\n",
       "        vertical-align: middle;\n",
       "    }\n",
       "\n",
       "    .dataframe tbody tr th {\n",
       "        vertical-align: top;\n",
       "    }\n",
       "\n",
       "    .dataframe thead th {\n",
       "        text-align: right;\n",
       "    }\n",
       "</style>\n",
       "<table border=\"1\" class=\"dataframe\">\n",
       "  <thead>\n",
       "    <tr style=\"text-align: right;\">\n",
       "      <th></th>\n",
       "      <th>Hours</th>\n",
       "      <th>Practice</th>\n",
       "      <th>TeamWork</th>\n",
       "      <th>Scores</th>\n",
       "    </tr>\n",
       "  </thead>\n",
       "  <tbody>\n",
       "    <tr>\n",
       "      <th>25</th>\n",
       "      <td>3.5</td>\n",
       "      <td>2.0</td>\n",
       "      <td>0.0</td>\n",
       "      <td>0</td>\n",
       "    </tr>\n",
       "    <tr>\n",
       "      <th>26</th>\n",
       "      <td>5.0</td>\n",
       "      <td>3.0</td>\n",
       "      <td>1.0</td>\n",
       "      <td>0</td>\n",
       "    </tr>\n",
       "    <tr>\n",
       "      <th>27</th>\n",
       "      <td>12.0</td>\n",
       "      <td>6.0</td>\n",
       "      <td>3.0</td>\n",
       "      <td>0</td>\n",
       "    </tr>\n",
       "    <tr>\n",
       "      <th>28</th>\n",
       "      <td>2.0</td>\n",
       "      <td>5.0</td>\n",
       "      <td>8.0</td>\n",
       "      <td>0</td>\n",
       "    </tr>\n",
       "    <tr>\n",
       "      <th>29</th>\n",
       "      <td>4.0</td>\n",
       "      <td>1.0</td>\n",
       "      <td>5.0</td>\n",
       "      <td>0</td>\n",
       "    </tr>\n",
       "  </tbody>\n",
       "</table>\n",
       "</div>"
      ],
      "text/plain": [
       "    Hours  Practice  TeamWork  Scores\n",
       "25    3.5       2.0       0.0       0\n",
       "26    5.0       3.0       1.0       0\n",
       "27   12.0       6.0       3.0       0\n",
       "28    2.0       5.0       8.0       0\n",
       "29    4.0       1.0       5.0       0"
      ]
     },
     "execution_count": 398,
     "metadata": {},
     "output_type": "execute_result"
    }
   ],
   "source": [
    "test"
   ]
  },
  {
   "cell_type": "code",
   "execution_count": 399,
   "id": "0e89a981",
   "metadata": {},
   "outputs": [],
   "source": [
    "X_train =df3[[\"Hours\", \"Practice\", \"TeamWork\"]][:25]\n",
    "Y_train =df3[[\"Scores\"]][:25].values.reshape(-1,1)"
   ]
  },
  {
   "cell_type": "code",
   "execution_count": 400,
   "id": "652db28e",
   "metadata": {},
   "outputs": [],
   "source": [
    "X_test =df3[[\"Hours\", \"Practice\", \"TeamWork\"]][25:]"
   ]
  },
  {
   "cell_type": "code",
   "execution_count": 401,
   "id": "03a1408d",
   "metadata": {},
   "outputs": [],
   "source": [
    "regresore.fit(X_train,Y_train)\n",
    "Y_pred = regresore.predict(X_test)"
   ]
  },
  {
   "cell_type": "code",
   "execution_count": 402,
   "id": "7dab9c59",
   "metadata": {},
   "outputs": [
    {
     "name": "stdout",
     "output_type": "stream",
     "text": [
      "[[ 32.29721684]\n",
      " [ 47.52462159]\n",
      " [104.79055067]\n",
      " [ 62.36005265]\n",
      " [ 58.19618857]]\n"
     ]
    }
   ],
   "source": [
    "print(Y_pred)"
   ]
  },
  {
   "cell_type": "code",
   "execution_count": 403,
   "id": "294aa135",
   "metadata": {},
   "outputs": [
    {
     "name": "stdout",
     "output_type": "stream",
     "text": [
      "    Hours  Practice  TeamWork      Y_pred\n",
      "25    3.5       2.0       0.0   32.297217\n",
      "26    5.0       3.0       1.0   47.524622\n",
      "27   12.0       6.0       3.0  104.790551\n",
      "28    2.0       5.0       8.0   62.360053\n",
      "29    4.0       1.0       5.0   58.196189\n"
     ]
    }
   ],
   "source": [
    "df4 = X_test.copy()  \n",
    "df4['Y_pred'] = Y_pred  \n",
    "print(df4)\n"
   ]
  },
  {
   "cell_type": "code",
   "execution_count": 404,
   "id": "ce07f7be",
   "metadata": {},
   "outputs": [
    {
     "data": {
      "image/png": "[encoded data removed]",
      "text/plain": [
       "<Figure size 800x600 with 1 Axes>"
      ]
     },
     "metadata": {},
     "output_type": "display_data"
    }
   ],
   "source": [
    "plt.figure(figsize=(8, 6))\n",
    "plt.scatter(Y_test, Y_pred, alpha=0.6, color='blue', label='Predicted vs Actual')\n",
    "plt.xlabel('Actual Values')\n",
    "plt.ylabel('Predicted Values')\n",
    "plt.title('Actual vs Predicted')\n",
    "plt.legend()\n",
    "plt.grid(True)\n",
    "plt.show()\n"
   ]
  },
  {
   "cell_type": "code",
   "execution_count": 419,
   "id": "88b1a726",
   "metadata": {},
   "outputs": [
    {
     "name": "stdout",
     "output_type": "stream",
     "text": [
      "16.038260737999998\n"
     ]
    }
   ],
   "source": [
    "Hourse = float(input('inter Hourse: '))\n",
    "practice = float(input('inter practice: '))\n",
    "TeamWork = float(input('inter teamwork: '))\n",
    "print(8.37366712+(6.99981271)*Hourse+(-0.03200033)*practice+(5.07424529)*TeamWork)"
   ]
  },
  {
   "cell_type": "code",
   "execution_count": 406,
   "id": "ed8690c5",
   "metadata": {},
   "outputs": [
    {
     "data": {
      "application/vnd.microsoft.datawrangler.viewer.v0+json": {
       "columns": [
        {
         "name": "index",
         "rawType": "int64",
         "type": "integer"
        },
        {
         "name": "Hours",
         "rawType": "float64",
         "type": "float"
        },
        {
         "name": "Practice",
         "rawType": "float64",
         "type": "float"
        },
        {
         "name": "TeamWork",
         "rawType": "float64",
         "type": "float"
        }
       ],
       "ref": "f846240f-dcb9-42aa-bd60-975d05b03599",
       "rows": [
        [
         "25",
         "3.5",
         "2.0",
         "0.0"
        ],
        [
         "26",
         "5.0",
         "3.0",
         "1.0"
        ],
        [
         "27",
         "12.0",
         "6.0",
         "3.0"
        ],
        [
         "28",
         "2.0",
         "5.0",
         "8.0"
        ],
        [
         "29",
         "4.0",
         "1.0",
         "5.0"
        ]
       ],
       "shape": {
        "columns": 3,
        "rows": 5
       }
      },
      "text/html": [
       "<div>\n",
       "<style scoped>\n",
       "    .dataframe tbody tr th:only-of-type {\n",
       "        vertical-align: middle;\n",
       "    }\n",
       "\n",
       "    .dataframe tbody tr th {\n",
       "        vertical-align: top;\n",
       "    }\n",
       "\n",
       "    .dataframe thead th {\n",
       "        text-align: right;\n",
       "    }\n",
       "</style>\n",
       "<table border=\"1\" class=\"dataframe\">\n",
       "  <thead>\n",
       "    <tr style=\"text-align: right;\">\n",
       "      <th></th>\n",
       "      <th>Hours</th>\n",
       "      <th>Practice</th>\n",
       "      <th>TeamWork</th>\n",
       "    </tr>\n",
       "  </thead>\n",
       "  <tbody>\n",
       "    <tr>\n",
       "      <th>25</th>\n",
       "      <td>3.5</td>\n",
       "      <td>2.0</td>\n",
       "      <td>0.0</td>\n",
       "    </tr>\n",
       "    <tr>\n",
       "      <th>26</th>\n",
       "      <td>5.0</td>\n",
       "      <td>3.0</td>\n",
       "      <td>1.0</td>\n",
       "    </tr>\n",
       "    <tr>\n",
       "      <th>27</th>\n",
       "      <td>12.0</td>\n",
       "      <td>6.0</td>\n",
       "      <td>3.0</td>\n",
       "    </tr>\n",
       "    <tr>\n",
       "      <th>28</th>\n",
       "      <td>2.0</td>\n",
       "      <td>5.0</td>\n",
       "      <td>8.0</td>\n",
       "    </tr>\n",
       "    <tr>\n",
       "      <th>29</th>\n",
       "      <td>4.0</td>\n",
       "      <td>1.0</td>\n",
       "      <td>5.0</td>\n",
       "    </tr>\n",
       "  </tbody>\n",
       "</table>\n",
       "</div>"
      ],
      "text/plain": [
       "    Hours  Practice  TeamWork\n",
       "25    3.5       2.0       0.0\n",
       "26    5.0       3.0       1.0\n",
       "27   12.0       6.0       3.0\n",
       "28    2.0       5.0       8.0\n",
       "29    4.0       1.0       5.0"
      ]
     },
     "execution_count": 406,
     "metadata": {},
     "output_type": "execute_result"
    }
   ],
   "source": [
    "X_test"
   ]
  },
  {
   "cell_type": "markdown",
   "id": "3a5ab9a1",
   "metadata": {},
   "source": [
    "### 90-10"
   ]
  },
  {
   "cell_type": "code",
   "execution_count": 407,
   "id": "e8c1ea62",
   "metadata": {},
   "outputs": [],
   "source": [
    "X = pd.DataFrame(data,columns=['Hours','Practice','TeamWork'])\n",
    "Y = data['Scores'].values.reshape(-1,1)\n",
    "X_train,X_test,Y_train,Y_test = train_test_split(X,Y,test_size=0.1,random_state=0)\n",
    "regresore = LinearRegression()\n",
    "regresore.fit(X_train,Y_train)\n",
    "Y_pred = regresore.predict(X_test)"
   ]
  },
  {
   "cell_type": "code",
   "execution_count": 408,
   "id": "68b453d1",
   "metadata": {},
   "outputs": [
    {
     "data": {
      "application/vnd.microsoft.datawrangler.viewer.v0+json": {
       "columns": [
        {
         "name": "index",
         "rawType": "int64",
         "type": "integer"
        },
        {
         "name": "Actual",
         "rawType": "int64",
         "type": "integer"
        },
        {
         "name": "predicted",
         "rawType": "float64",
         "type": "float"
        }
       ],
       "ref": "d34865fd-b943-4120-936e-e5470bceb35f",
       "rows": [
        [
         "0",
         "20",
         "18.615570709651042"
        ],
        [
         "1",
         "27",
         "32.69887149400979"
        ],
        [
         "2",
         "69",
         "73.95407886061932"
        ]
       ],
       "shape": {
        "columns": 2,
        "rows": 3
       }
      },
      "text/html": [
       "<div>\n",
       "<style scoped>\n",
       "    .dataframe tbody tr th:only-of-type {\n",
       "        vertical-align: middle;\n",
       "    }\n",
       "\n",
       "    .dataframe tbody tr th {\n",
       "        vertical-align: top;\n",
       "    }\n",
       "\n",
       "    .dataframe thead th {\n",
       "        text-align: right;\n",
       "    }\n",
       "</style>\n",
       "<table border=\"1\" class=\"dataframe\">\n",
       "  <thead>\n",
       "    <tr style=\"text-align: right;\">\n",
       "      <th></th>\n",
       "      <th>Actual</th>\n",
       "      <th>predicted</th>\n",
       "    </tr>\n",
       "  </thead>\n",
       "  <tbody>\n",
       "    <tr>\n",
       "      <th>0</th>\n",
       "      <td>20</td>\n",
       "      <td>18.615571</td>\n",
       "    </tr>\n",
       "    <tr>\n",
       "      <th>1</th>\n",
       "      <td>27</td>\n",
       "      <td>32.698871</td>\n",
       "    </tr>\n",
       "    <tr>\n",
       "      <th>2</th>\n",
       "      <td>69</td>\n",
       "      <td>73.954079</td>\n",
       "    </tr>\n",
       "  </tbody>\n",
       "</table>\n",
       "</div>"
      ],
      "text/plain": [
       "   Actual  predicted\n",
       "0      20  18.615571\n",
       "1      27  32.698871\n",
       "2      69  73.954079"
      ]
     },
     "execution_count": 408,
     "metadata": {},
     "output_type": "execute_result"
    }
   ],
   "source": [
    "compare = pd.DataFrame({'Actual':Y_test.flatten(),'predicted':Y_pred.flatten()})\n",
    "compare"
   ]
  },
  {
   "cell_type": "code",
   "execution_count": 409,
   "id": "ae6234aa",
   "metadata": {},
   "outputs": [
    {
     "name": "stdout",
     "output_type": "stream",
     "text": [
      "Mean Absolute Error (MAE): 4.012459881659357\n",
      "Mean Squared Error (MSE): 19.64555937414958\n",
      "Root Mean Squared Error (RMSE): 4.432331144459942\n",
      "R² Score: 0.9580422319963583\n"
     ]
    }
   ],
   "source": [
    "print('Mean Absolute Error (MAE):', metrics.mean_absolute_error(Y_test, Y_pred))\n",
    "print('Mean Squared Error (MSE):', metrics.mean_squared_error(Y_test, Y_pred))\n",
    "print('Root Mean Squared Error (RMSE):', np.sqrt(metrics.mean_squared_error(Y_test, Y_pred)))\n",
    "print('R² Score:', metrics.r2_score(Y_test, Y_pred))"
   ]
  },
  {
   "cell_type": "markdown",
   "id": "48cc6b07",
   "metadata": {},
   "source": [
    "### 70-30"
   ]
  },
  {
   "cell_type": "code",
   "execution_count": 410,
   "id": "231534e9",
   "metadata": {},
   "outputs": [
    {
     "data": {
      "application/vnd.microsoft.datawrangler.viewer.v0+json": {
       "columns": [
        {
         "name": "index",
         "rawType": "int64",
         "type": "integer"
        },
        {
         "name": "Actual",
         "rawType": "int64",
         "type": "integer"
        },
        {
         "name": "predicted",
         "rawType": "float64",
         "type": "float"
        }
       ],
       "ref": "60fa0c5f-e3eb-46e7-a8e8-a1fe65d3653c",
       "rows": [
        [
         "0",
         "20",
         "18.72442976337447"
        ],
        [
         "1",
         "27",
         "32.73330755356206"
        ],
        [
         "2",
         "69",
         "73.76749030597327"
        ],
        [
         "3",
         "30",
         "30.29890147232043"
        ],
        [
         "4",
         "62",
         "58.83771771407207"
        ],
        [
         "5",
         "35",
         "35.60209582081675"
        ],
        [
         "6",
         "24",
         "23.824775181293603"
        ],
        [
         "7",
         "86",
         "83.32088343212135"
        ]
       ],
       "shape": {
        "columns": 2,
        "rows": 8
       }
      },
      "text/html": [
       "<div>\n",
       "<style scoped>\n",
       "    .dataframe tbody tr th:only-of-type {\n",
       "        vertical-align: middle;\n",
       "    }\n",
       "\n",
       "    .dataframe tbody tr th {\n",
       "        vertical-align: top;\n",
       "    }\n",
       "\n",
       "    .dataframe thead th {\n",
       "        text-align: right;\n",
       "    }\n",
       "</style>\n",
       "<table border=\"1\" class=\"dataframe\">\n",
       "  <thead>\n",
       "    <tr style=\"text-align: right;\">\n",
       "      <th></th>\n",
       "      <th>Actual</th>\n",
       "      <th>predicted</th>\n",
       "    </tr>\n",
       "  </thead>\n",
       "  <tbody>\n",
       "    <tr>\n",
       "      <th>0</th>\n",
       "      <td>20</td>\n",
       "      <td>18.724430</td>\n",
       "    </tr>\n",
       "    <tr>\n",
       "      <th>1</th>\n",
       "      <td>27</td>\n",
       "      <td>32.733308</td>\n",
       "    </tr>\n",
       "    <tr>\n",
       "      <th>2</th>\n",
       "      <td>69</td>\n",
       "      <td>73.767490</td>\n",
       "    </tr>\n",
       "    <tr>\n",
       "      <th>3</th>\n",
       "      <td>30</td>\n",
       "      <td>30.298901</td>\n",
       "    </tr>\n",
       "    <tr>\n",
       "      <th>4</th>\n",
       "      <td>62</td>\n",
       "      <td>58.837718</td>\n",
       "    </tr>\n",
       "    <tr>\n",
       "      <th>5</th>\n",
       "      <td>35</td>\n",
       "      <td>35.602096</td>\n",
       "    </tr>\n",
       "    <tr>\n",
       "      <th>6</th>\n",
       "      <td>24</td>\n",
       "      <td>23.824775</td>\n",
       "    </tr>\n",
       "    <tr>\n",
       "      <th>7</th>\n",
       "      <td>86</td>\n",
       "      <td>83.320883</td>\n",
       "    </tr>\n",
       "  </tbody>\n",
       "</table>\n",
       "</div>"
      ],
      "text/plain": [
       "   Actual  predicted\n",
       "0      20  18.724430\n",
       "1      27  32.733308\n",
       "2      69  73.767490\n",
       "3      30  30.298901\n",
       "4      62  58.837718\n",
       "5      35  35.602096\n",
       "6      24  23.824775\n",
       "7      86  83.320883"
      ]
     },
     "execution_count": 410,
     "metadata": {},
     "output_type": "execute_result"
    }
   ],
   "source": [
    "X = pd.DataFrame(data,columns=['Hours','Practice','TeamWork'])\n",
    "Y = data['Scores'].values.reshape(-1,1)\n",
    "X_train,X_test,Y_train,Y_test = train_test_split(X,Y,test_size=0.3,random_state=0)\n",
    "regresore = LinearRegression()\n",
    "regresore.fit(X_train,Y_train)\n",
    "Y_pred = regresore.predict(X_test)\n",
    "compare = pd.DataFrame({'Actual':Y_test.flatten(),'predicted':Y_pred.flatten()})\n",
    "compare\n"
   ]
  },
  {
   "cell_type": "code",
   "execution_count": 411,
   "id": "a005a497",
   "metadata": {},
   "outputs": [
    {
     "name": "stdout",
     "output_type": "stream",
     "text": [
      "Mean Absolute Error (MAE): 2.3367486327263767\n",
      "Mean Squared Error (MSE): 9.360889849339024\n",
      "Root Mean Squared Error (RMSE): 3.059557132877081\n",
      "R² Score: 0.9823996900508917\n"
     ]
    }
   ],
   "source": [
    "print('Mean Absolute Error (MAE):', metrics.mean_absolute_error(Y_test, Y_pred))\n",
    "print('Mean Squared Error (MSE):', metrics.mean_squared_error(Y_test, Y_pred))\n",
    "print('Root Mean Squared Error (RMSE):', np.sqrt(metrics.mean_squared_error(Y_test, Y_pred)))\n",
    "print('R² Score:', metrics.r2_score(Y_test, Y_pred))"
   ]
  },
  {
   "cell_type": "code",
   "execution_count": 412,
   "id": "435912d3",
   "metadata": {},
   "outputs": [
    {
     "data": {
      "image/png": "[encoded data removed]",
      "text/plain": [
       "<Figure size 1000x600 with 1 Axes>"
      ]
     },
     "metadata": {},
     "output_type": "display_data"
    }
   ],
   "source": [
    "import matplotlib.pyplot as plt\n",
    "import numpy as np\n",
    "\n",
    "# داده‌های نهایی برای هر تقسیم\n",
    "splits = ['70-30', '90-10', '80-20']\n",
    "mae = [2.3367, 4.0125, 3.0256]\n",
    "mse = [9.3609, 19.6456, 12.9170]\n",
    "rmse = [3.0596, 4.4323, 3.5940]\n",
    "r2 = [0.9824, 0.9580, 0.9674]\n",
    "\n",
    "# موقعیت‌های هر ستون\n",
    "x = np.arange(len(splits))\n",
    "width = 0.2\n",
    "\n",
    "# رسم نمودار میله‌ای\n",
    "fig, ax = plt.subplots(figsize=(10, 6))\n",
    "bars1 = ax.bar(x - 1.5*width, mae, width, label='MAE', color='gold')\n",
    "bars2 = ax.bar(x - 0.5*width, mse, width, label='MSE', color='tomato')\n",
    "bars3 = ax.bar(x + 0.5*width, rmse, width, label='RMSE', color='mediumvioletred')\n",
    "bars4 = ax.bar(x + 1.5*width, r2, width, label='R² Score', color='mediumseagreen')\n",
    "\n",
    "# تنظیمات نمودار\n",
    "ax.set_xlabel('Data Split')\n",
    "ax.set_title('Regression Metrics Comparison (Final Values)')\n",
    "ax.set_xticks(x)\n",
    "ax.set_xticklabels(splits)\n",
    "ax.legend()\n",
    "ax.grid(axis='y', linestyle='--', alpha=0.6)\n",
    "\n",
    "# اضافه کردن مقادیر روی ستون‌ها\n",
    "for bars in [bars1, bars2, bars3, bars4]:\n",
    "    for bar in bars:\n",
    "        height = bar.get_height()\n",
    "        ax.annotate(f'{height:.2f}', xy=(bar.get_x() + bar.get_width() / 2, height),\n",
    "                    xytext=(0, 3), textcoords='offset points',\n",
    "                    ha='center', va='bottom', fontsize=8)\n",
    "plt.savefig('Student_Score01.png')\n",
    "plt.tight_layout()\n",
    "plt.show()\n"
   ]
  },
  {
   "cell_type": "code",
   "execution_count": 434,
   "id": "5e69351b",
   "metadata": {},
   "outputs": [
    {
     "data": {
      "application/vnd.microsoft.datawrangler.viewer.v0+json": {
       "columns": [
        {
         "name": "index",
         "rawType": "int64",
         "type": "integer"
        },
        {
         "name": "Hours",
         "rawType": "float64",
         "type": "float"
        },
        {
         "name": "Practice",
         "rawType": "float64",
         "type": "float"
        },
        {
         "name": "TeamWork",
         "rawType": "float64",
         "type": "float"
        },
        {
         "name": "Scores",
         "rawType": "int64",
         "type": "integer"
        }
       ],
       "ref": "95b1d7b6-7b78-4ec1-9d7b-87cca093db14",
       "rows": [
        [
         "0",
         "2.5",
         "0.5",
         "0.0",
         "21"
        ],
        [
         "1",
         "5.1",
         "1.5",
         "0.5",
         "47"
        ],
        [
         "2",
         "3.2",
         "1.0",
         "0.5",
         "27"
        ],
        [
         "3",
         "8.5",
         "3.7",
         "1.2",
         "75"
        ],
        [
         "4",
         "3.5",
         "1.2",
         "0.3",
         "30"
        ],
        [
         "5",
         "1.5",
         "0.2",
         "0.0",
         "20"
        ],
        [
         "6",
         "9.2",
         "4.8",
         "3.0",
         "88"
        ],
        [
         "7",
         "5.5",
         "3.2",
         "2.0",
         "60"
        ],
        [
         "8",
         "9.3",
         "5.1",
         "3.5",
         "81"
        ],
        [
         "9",
         "2.7",
         "1.5",
         "0.0",
         "25"
        ],
        [
         "10",
         "7.7",
         "4.9",
         "4.5",
         "85"
        ],
        [
         "11",
         "5.9",
         "3.1",
         "2.1",
         "62"
        ],
        [
         "12",
         "4.5",
         "2.8",
         "1.0",
         "41"
        ],
        [
         "13",
         "3.3",
         "2.2",
         "1.1",
         "42"
        ],
        [
         "14",
         "1.1",
         "1.1",
         "0.0",
         "17"
        ],
        [
         "15",
         "8.9",
         "6.2",
         "6.0",
         "95"
        ],
        [
         "16",
         "2.5",
         "1.6",
         "1.0",
         "30"
        ],
        [
         "17",
         "1.9",
         "0.9",
         "0.5",
         "24"
        ],
        [
         "18",
         "6.1",
         "2.0",
         "3.2",
         "67"
        ],
        [
         "19",
         "7.4",
         "2.5",
         "3.0",
         "69"
        ],
        [
         "20",
         "2.7",
         "3.0",
         "1.2",
         "30"
        ],
        [
         "21",
         "4.8",
         "2.9",
         "2.1",
         "54"
        ],
        [
         "22",
         "3.8",
         "2.2",
         "0.3",
         "35"
        ],
        [
         "23",
         "6.9",
         "5.1",
         "3.8",
         "76"
        ],
        [
         "24",
         "7.8",
         "5.8",
         "4.5",
         "86"
        ]
       ],
       "shape": {
        "columns": 4,
        "rows": 25
       }
      },
      "text/html": [
       "<div>\n",
       "<style scoped>\n",
       "    .dataframe tbody tr th:only-of-type {\n",
       "        vertical-align: middle;\n",
       "    }\n",
       "\n",
       "    .dataframe tbody tr th {\n",
       "        vertical-align: top;\n",
       "    }\n",
       "\n",
       "    .dataframe thead th {\n",
       "        text-align: right;\n",
       "    }\n",
       "</style>\n",
       "<table border=\"1\" class=\"dataframe\">\n",
       "  <thead>\n",
       "    <tr style=\"text-align: right;\">\n",
       "      <th></th>\n",
       "      <th>Hours</th>\n",
       "      <th>Practice</th>\n",
       "      <th>TeamWork</th>\n",
       "      <th>Scores</th>\n",
       "    </tr>\n",
       "  </thead>\n",
       "  <tbody>\n",
       "    <tr>\n",
       "      <th>0</th>\n",
       "      <td>2.5</td>\n",
       "      <td>0.5</td>\n",
       "      <td>0.0</td>\n",
       "      <td>21</td>\n",
       "    </tr>\n",
       "    <tr>\n",
       "      <th>1</th>\n",
       "      <td>5.1</td>\n",
       "      <td>1.5</td>\n",
       "      <td>0.5</td>\n",
       "      <td>47</td>\n",
       "    </tr>\n",
       "    <tr>\n",
       "      <th>2</th>\n",
       "      <td>3.2</td>\n",
       "      <td>1.0</td>\n",
       "      <td>0.5</td>\n",
       "      <td>27</td>\n",
       "    </tr>\n",
       "    <tr>\n",
       "      <th>3</th>\n",
       "      <td>8.5</td>\n",
       "      <td>3.7</td>\n",
       "      <td>1.2</td>\n",
       "      <td>75</td>\n",
       "    </tr>\n",
       "    <tr>\n",
       "      <th>4</th>\n",
       "      <td>3.5</td>\n",
       "      <td>1.2</td>\n",
       "      <td>0.3</td>\n",
       "      <td>30</td>\n",
       "    </tr>\n",
       "    <tr>\n",
       "      <th>5</th>\n",
       "      <td>1.5</td>\n",
       "      <td>0.2</td>\n",
       "      <td>0.0</td>\n",
       "      <td>20</td>\n",
       "    </tr>\n",
       "    <tr>\n",
       "      <th>6</th>\n",
       "      <td>9.2</td>\n",
       "      <td>4.8</td>\n",
       "      <td>3.0</td>\n",
       "      <td>88</td>\n",
       "    </tr>\n",
       "    <tr>\n",
       "      <th>7</th>\n",
       "      <td>5.5</td>\n",
       "      <td>3.2</td>\n",
       "      <td>2.0</td>\n",
       "      <td>60</td>\n",
       "    </tr>\n",
       "    <tr>\n",
       "      <th>8</th>\n",
       "      <td>9.3</td>\n",
       "      <td>5.1</td>\n",
       "      <td>3.5</td>\n",
       "      <td>81</td>\n",
       "    </tr>\n",
       "    <tr>\n",
       "      <th>9</th>\n",
       "      <td>2.7</td>\n",
       "      <td>1.5</td>\n",
       "      <td>0.0</td>\n",
       "      <td>25</td>\n",
       "    </tr>\n",
       "    <tr>\n",
       "      <th>10</th>\n",
       "      <td>7.7</td>\n",
       "      <td>4.9</td>\n",
       "      <td>4.5</td>\n",
       "      <td>85</td>\n",
       "    </tr>\n",
       "    <tr>\n",
       "      <th>11</th>\n",
       "      <td>5.9</td>\n",
       "      <td>3.1</td>\n",
       "      <td>2.1</td>\n",
       "      <td>62</td>\n",
       "    </tr>\n",
       "    <tr>\n",
       "      <th>12</th>\n",
       "      <td>4.5</td>\n",
       "      <td>2.8</td>\n",
       "      <td>1.0</td>\n",
       "      <td>41</td>\n",
       "    </tr>\n",
       "    <tr>\n",
       "      <th>13</th>\n",
       "      <td>3.3</td>\n",
       "      <td>2.2</td>\n",
       "      <td>1.1</td>\n",
       "      <td>42</td>\n",
       "    </tr>\n",
       "    <tr>\n",
       "      <th>14</th>\n",
       "      <td>1.1</td>\n",
       "      <td>1.1</td>\n",
       "      <td>0.0</td>\n",
       "      <td>17</td>\n",
       "    </tr>\n",
       "    <tr>\n",
       "      <th>15</th>\n",
       "      <td>8.9</td>\n",
       "      <td>6.2</td>\n",
       "      <td>6.0</td>\n",
       "      <td>95</td>\n",
       "    </tr>\n",
       "    <tr>\n",
       "      <th>16</th>\n",
       "      <td>2.5</td>\n",
       "      <td>1.6</td>\n",
       "      <td>1.0</td>\n",
       "      <td>30</td>\n",
       "    </tr>\n",
       "    <tr>\n",
       "      <th>17</th>\n",
       "      <td>1.9</td>\n",
       "      <td>0.9</td>\n",
       "      <td>0.5</td>\n",
       "      <td>24</td>\n",
       "    </tr>\n",
       "    <tr>\n",
       "      <th>18</th>\n",
       "      <td>6.1</td>\n",
       "      <td>2.0</td>\n",
       "      <td>3.2</td>\n",
       "      <td>67</td>\n",
       "    </tr>\n",
       "    <tr>\n",
       "      <th>19</th>\n",
       "      <td>7.4</td>\n",
       "      <td>2.5</td>\n",
       "      <td>3.0</td>\n",
       "      <td>69</td>\n",
       "    </tr>\n",
       "    <tr>\n",
       "      <th>20</th>\n",
       "      <td>2.7</td>\n",
       "      <td>3.0</td>\n",
       "      <td>1.2</td>\n",
       "      <td>30</td>\n",
       "    </tr>\n",
       "    <tr>\n",
       "      <th>21</th>\n",
       "      <td>4.8</td>\n",
       "      <td>2.9</td>\n",
       "      <td>2.1</td>\n",
       "      <td>54</td>\n",
       "    </tr>\n",
       "    <tr>\n",
       "      <th>22</th>\n",
       "      <td>3.8</td>\n",
       "      <td>2.2</td>\n",
       "      <td>0.3</td>\n",
       "      <td>35</td>\n",
       "    </tr>\n",
       "    <tr>\n",
       "      <th>23</th>\n",
       "      <td>6.9</td>\n",
       "      <td>5.1</td>\n",
       "      <td>3.8</td>\n",
       "      <td>76</td>\n",
       "    </tr>\n",
       "    <tr>\n",
       "      <th>24</th>\n",
       "      <td>7.8</td>\n",
       "      <td>5.8</td>\n",
       "      <td>4.5</td>\n",
       "      <td>86</td>\n",
       "    </tr>\n",
       "  </tbody>\n",
       "</table>\n",
       "</div>"
      ],
      "text/plain": [
       "    Hours  Practice  TeamWork  Scores\n",
       "0     2.5       0.5       0.0      21\n",
       "1     5.1       1.5       0.5      47\n",
       "2     3.2       1.0       0.5      27\n",
       "3     8.5       3.7       1.2      75\n",
       "4     3.5       1.2       0.3      30\n",
       "5     1.5       0.2       0.0      20\n",
       "6     9.2       4.8       3.0      88\n",
       "7     5.5       3.2       2.0      60\n",
       "8     9.3       5.1       3.5      81\n",
       "9     2.7       1.5       0.0      25\n",
       "10    7.7       4.9       4.5      85\n",
       "11    5.9       3.1       2.1      62\n",
       "12    4.5       2.8       1.0      41\n",
       "13    3.3       2.2       1.1      42\n",
       "14    1.1       1.1       0.0      17\n",
       "15    8.9       6.2       6.0      95\n",
       "16    2.5       1.6       1.0      30\n",
       "17    1.9       0.9       0.5      24\n",
       "18    6.1       2.0       3.2      67\n",
       "19    7.4       2.5       3.0      69\n",
       "20    2.7       3.0       1.2      30\n",
       "21    4.8       2.9       2.1      54\n",
       "22    3.8       2.2       0.3      35\n",
       "23    6.9       5.1       3.8      76\n",
       "24    7.8       5.8       4.5      86"
      ]
     },
     "execution_count": 434,
     "metadata": {},
     "output_type": "execute_result"
    }
   ],
   "source": [
    "df"
   ]
  },
  {
   "cell_type": "code",
   "execution_count": 435,
   "id": "14335019",
   "metadata": {},
   "outputs": [],
   "source": [
    "Hourse2 = df.Hours**2"
   ]
  },
  {
   "cell_type": "code",
   "execution_count": 446,
   "id": "9cfc9af9",
   "metadata": {},
   "outputs": [
    {
     "data": {
      "application/vnd.microsoft.datawrangler.viewer.v0+json": {
       "columns": [
        {
         "name": "index",
         "rawType": "int64",
         "type": "integer"
        },
        {
         "name": "Hours",
         "rawType": "float64",
         "type": "float"
        },
        {
         "name": "Hourse2",
         "rawType": "float64",
         "type": "float"
        },
        {
         "name": "Practice",
         "rawType": "float64",
         "type": "float"
        },
        {
         "name": "TeamWork",
         "rawType": "float64",
         "type": "float"
        },
        {
         "name": "Scores",
         "rawType": "int64",
         "type": "integer"
        }
       ],
       "ref": "7196e7d7-41d9-4417-8251-396029577235",
       "rows": [
        [
         "0",
         "2.5",
         "6.25",
         "0.5",
         "0.0",
         "21"
        ],
        [
         "1",
         "5.1",
         "26.009999999999998",
         "1.5",
         "0.5",
         "47"
        ],
        [
         "2",
         "3.2",
         "10.240000000000002",
         "1.0",
         "0.5",
         "27"
        ],
        [
         "3",
         "8.5",
         "72.25",
         "3.7",
         "1.2",
         "75"
        ],
        [
         "4",
         "3.5",
         "12.25",
         "1.2",
         "0.3",
         "30"
        ],
        [
         "5",
         "1.5",
         "2.25",
         "0.2",
         "0.0",
         "20"
        ],
        [
         "6",
         "9.2",
         "84.63999999999999",
         "4.8",
         "3.0",
         "88"
        ],
        [
         "7",
         "5.5",
         "30.25",
         "3.2",
         "2.0",
         "60"
        ],
        [
         "8",
         "9.3",
         "86.49000000000001",
         "5.1",
         "3.5",
         "81"
        ],
        [
         "9",
         "2.7",
         "7.290000000000001",
         "1.5",
         "0.0",
         "25"
        ],
        [
         "10",
         "7.7",
         "59.290000000000006",
         "4.9",
         "4.5",
         "85"
        ],
        [
         "11",
         "5.9",
         "34.81",
         "3.1",
         "2.1",
         "62"
        ],
        [
         "12",
         "4.5",
         "20.25",
         "2.8",
         "1.0",
         "41"
        ],
        [
         "13",
         "3.3",
         "10.889999999999999",
         "2.2",
         "1.1",
         "42"
        ],
        [
         "14",
         "1.1",
         "1.2100000000000002",
         "1.1",
         "0.0",
         "17"
        ],
        [
         "15",
         "8.9",
         "79.21000000000001",
         "6.2",
         "6.0",
         "95"
        ],
        [
         "16",
         "2.5",
         "6.25",
         "1.6",
         "1.0",
         "30"
        ],
        [
         "17",
         "1.9",
         "3.61",
         "0.9",
         "0.5",
         "24"
        ],
        [
         "18",
         "6.1",
         "37.209999999999994",
         "2.0",
         "3.2",
         "67"
        ],
        [
         "19",
         "7.4",
         "54.760000000000005",
         "2.5",
         "3.0",
         "69"
        ],
        [
         "20",
         "2.7",
         "7.290000000000001",
         "3.0",
         "1.2",
         "30"
        ],
        [
         "21",
         "4.8",
         "23.04",
         "2.9",
         "2.1",
         "54"
        ],
        [
         "22",
         "3.8",
         "14.44",
         "2.2",
         "0.3",
         "35"
        ],
        [
         "23",
         "6.9",
         "47.61000000000001",
         "5.1",
         "3.8",
         "76"
        ],
        [
         "24",
         "7.8",
         "60.839999999999996",
         "5.8",
         "4.5",
         "86"
        ]
       ],
       "shape": {
        "columns": 5,
        "rows": 25
       }
      },
      "text/html": [
       "<div>\n",
       "<style scoped>\n",
       "    .dataframe tbody tr th:only-of-type {\n",
       "        vertical-align: middle;\n",
       "    }\n",
       "\n",
       "    .dataframe tbody tr th {\n",
       "        vertical-align: top;\n",
       "    }\n",
       "\n",
       "    .dataframe thead th {\n",
       "        text-align: right;\n",
       "    }\n",
       "</style>\n",
       "<table border=\"1\" class=\"dataframe\">\n",
       "  <thead>\n",
       "    <tr style=\"text-align: right;\">\n",
       "      <th></th>\n",
       "      <th>Hours</th>\n",
       "      <th>Hourse2</th>\n",
       "      <th>Practice</th>\n",
       "      <th>TeamWork</th>\n",
       "      <th>Scores</th>\n",
       "    </tr>\n",
       "  </thead>\n",
       "  <tbody>\n",
       "    <tr>\n",
       "      <th>0</th>\n",
       "      <td>2.5</td>\n",
       "      <td>6.25</td>\n",
       "      <td>0.5</td>\n",
       "      <td>0.0</td>\n",
       "      <td>21</td>\n",
       "    </tr>\n",
       "    <tr>\n",
       "      <th>1</th>\n",
       "      <td>5.1</td>\n",
       "      <td>26.01</td>\n",
       "      <td>1.5</td>\n",
       "      <td>0.5</td>\n",
       "      <td>47</td>\n",
       "    </tr>\n",
       "    <tr>\n",
       "      <th>2</th>\n",
       "      <td>3.2</td>\n",
       "      <td>10.24</td>\n",
       "      <td>1.0</td>\n",
       "      <td>0.5</td>\n",
       "      <td>27</td>\n",
       "    </tr>\n",
       "    <tr>\n",
       "      <th>3</th>\n",
       "      <td>8.5</td>\n",
       "      <td>72.25</td>\n",
       "      <td>3.7</td>\n",
       "      <td>1.2</td>\n",
       "      <td>75</td>\n",
       "    </tr>\n",
       "    <tr>\n",
       "      <th>4</th>\n",
       "      <td>3.5</td>\n",
       "      <td>12.25</td>\n",
       "      <td>1.2</td>\n",
       "      <td>0.3</td>\n",
       "      <td>30</td>\n",
       "    </tr>\n",
       "    <tr>\n",
       "      <th>5</th>\n",
       "      <td>1.5</td>\n",
       "      <td>2.25</td>\n",
       "      <td>0.2</td>\n",
       "      <td>0.0</td>\n",
       "      <td>20</td>\n",
       "    </tr>\n",
       "    <tr>\n",
       "      <th>6</th>\n",
       "      <td>9.2</td>\n",
       "      <td>84.64</td>\n",
       "      <td>4.8</td>\n",
       "      <td>3.0</td>\n",
       "      <td>88</td>\n",
       "    </tr>\n",
       "    <tr>\n",
       "      <th>7</th>\n",
       "      <td>5.5</td>\n",
       "      <td>30.25</td>\n",
       "      <td>3.2</td>\n",
       "      <td>2.0</td>\n",
       "      <td>60</td>\n",
       "    </tr>\n",
       "    <tr>\n",
       "      <th>8</th>\n",
       "      <td>9.3</td>\n",
       "      <td>86.49</td>\n",
       "      <td>5.1</td>\n",
       "      <td>3.5</td>\n",
       "      <td>81</td>\n",
       "    </tr>\n",
       "    <tr>\n",
       "      <th>9</th>\n",
       "      <td>2.7</td>\n",
       "      <td>7.29</td>\n",
       "      <td>1.5</td>\n",
       "      <td>0.0</td>\n",
       "      <td>25</td>\n",
       "    </tr>\n",
       "    <tr>\n",
       "      <th>10</th>\n",
       "      <td>7.7</td>\n",
       "      <td>59.29</td>\n",
       "      <td>4.9</td>\n",
       "      <td>4.5</td>\n",
       "      <td>85</td>\n",
       "    </tr>\n",
       "    <tr>\n",
       "      <th>11</th>\n",
       "      <td>5.9</td>\n",
       "      <td>34.81</td>\n",
       "      <td>3.1</td>\n",
       "      <td>2.1</td>\n",
       "      <td>62</td>\n",
       "    </tr>\n",
       "    <tr>\n",
       "      <th>12</th>\n",
       "      <td>4.5</td>\n",
       "      <td>20.25</td>\n",
       "      <td>2.8</td>\n",
       "      <td>1.0</td>\n",
       "      <td>41</td>\n",
       "    </tr>\n",
       "    <tr>\n",
       "      <th>13</th>\n",
       "      <td>3.3</td>\n",
       "      <td>10.89</td>\n",
       "      <td>2.2</td>\n",
       "      <td>1.1</td>\n",
       "      <td>42</td>\n",
       "    </tr>\n",
       "    <tr>\n",
       "      <th>14</th>\n",
       "      <td>1.1</td>\n",
       "      <td>1.21</td>\n",
       "      <td>1.1</td>\n",
       "      <td>0.0</td>\n",
       "      <td>17</td>\n",
       "    </tr>\n",
       "    <tr>\n",
       "      <th>15</th>\n",
       "      <td>8.9</td>\n",
       "      <td>79.21</td>\n",
       "      <td>6.2</td>\n",
       "      <td>6.0</td>\n",
       "      <td>95</td>\n",
       "    </tr>\n",
       "    <tr>\n",
       "      <th>16</th>\n",
       "      <td>2.5</td>\n",
       "      <td>6.25</td>\n",
       "      <td>1.6</td>\n",
       "      <td>1.0</td>\n",
       "      <td>30</td>\n",
       "    </tr>\n",
       "    <tr>\n",
       "      <th>17</th>\n",
       "      <td>1.9</td>\n",
       "      <td>3.61</td>\n",
       "      <td>0.9</td>\n",
       "      <td>0.5</td>\n",
       "      <td>24</td>\n",
       "    </tr>\n",
       "    <tr>\n",
       "      <th>18</th>\n",
       "      <td>6.1</td>\n",
       "      <td>37.21</td>\n",
       "      <td>2.0</td>\n",
       "      <td>3.2</td>\n",
       "      <td>67</td>\n",
       "    </tr>\n",
       "    <tr>\n",
       "      <th>19</th>\n",
       "      <td>7.4</td>\n",
       "      <td>54.76</td>\n",
       "      <td>2.5</td>\n",
       "      <td>3.0</td>\n",
       "      <td>69</td>\n",
       "    </tr>\n",
       "    <tr>\n",
       "      <th>20</th>\n",
       "      <td>2.7</td>\n",
       "      <td>7.29</td>\n",
       "      <td>3.0</td>\n",
       "      <td>1.2</td>\n",
       "      <td>30</td>\n",
       "    </tr>\n",
       "    <tr>\n",
       "      <th>21</th>\n",
       "      <td>4.8</td>\n",
       "      <td>23.04</td>\n",
       "      <td>2.9</td>\n",
       "      <td>2.1</td>\n",
       "      <td>54</td>\n",
       "    </tr>\n",
       "    <tr>\n",
       "      <th>22</th>\n",
       "      <td>3.8</td>\n",
       "      <td>14.44</td>\n",
       "      <td>2.2</td>\n",
       "      <td>0.3</td>\n",
       "      <td>35</td>\n",
       "    </tr>\n",
       "    <tr>\n",
       "      <th>23</th>\n",
       "      <td>6.9</td>\n",
       "      <td>47.61</td>\n",
       "      <td>5.1</td>\n",
       "      <td>3.8</td>\n",
       "      <td>76</td>\n",
       "    </tr>\n",
       "    <tr>\n",
       "      <th>24</th>\n",
       "      <td>7.8</td>\n",
       "      <td>60.84</td>\n",
       "      <td>5.8</td>\n",
       "      <td>4.5</td>\n",
       "      <td>86</td>\n",
       "    </tr>\n",
       "  </tbody>\n",
       "</table>\n",
       "</div>"
      ],
      "text/plain": [
       "    Hours  Hourse2  Practice  TeamWork  Scores\n",
       "0     2.5     6.25       0.5       0.0      21\n",
       "1     5.1    26.01       1.5       0.5      47\n",
       "2     3.2    10.24       1.0       0.5      27\n",
       "3     8.5    72.25       3.7       1.2      75\n",
       "4     3.5    12.25       1.2       0.3      30\n",
       "5     1.5     2.25       0.2       0.0      20\n",
       "6     9.2    84.64       4.8       3.0      88\n",
       "7     5.5    30.25       3.2       2.0      60\n",
       "8     9.3    86.49       5.1       3.5      81\n",
       "9     2.7     7.29       1.5       0.0      25\n",
       "10    7.7    59.29       4.9       4.5      85\n",
       "11    5.9    34.81       3.1       2.1      62\n",
       "12    4.5    20.25       2.8       1.0      41\n",
       "13    3.3    10.89       2.2       1.1      42\n",
       "14    1.1     1.21       1.1       0.0      17\n",
       "15    8.9    79.21       6.2       6.0      95\n",
       "16    2.5     6.25       1.6       1.0      30\n",
       "17    1.9     3.61       0.9       0.5      24\n",
       "18    6.1    37.21       2.0       3.2      67\n",
       "19    7.4    54.76       2.5       3.0      69\n",
       "20    2.7     7.29       3.0       1.2      30\n",
       "21    4.8    23.04       2.9       2.1      54\n",
       "22    3.8    14.44       2.2       0.3      35\n",
       "23    6.9    47.61       5.1       3.8      76\n",
       "24    7.8    60.84       5.8       4.5      86"
      ]
     },
     "execution_count": 446,
     "metadata": {},
     "output_type": "execute_result"
    }
   ],
   "source": [
    "df.insert(1,'Hourse2',Hourse2)\n",
    "df"
   ]
  },
  {
   "cell_type": "code",
   "execution_count": 447,
   "id": "e3c27cb1",
   "metadata": {},
   "outputs": [
    {
     "data": {
      "application/vnd.microsoft.datawrangler.viewer.v0+json": {
       "columns": [
        {
         "name": "index",
         "rawType": "int64",
         "type": "integer"
        },
        {
         "name": "Hours",
         "rawType": "float64",
         "type": "float"
        },
        {
         "name": "Hourse2",
         "rawType": "float64",
         "type": "float"
        },
        {
         "name": "Practice",
         "rawType": "float64",
         "type": "float"
        },
        {
         "name": "TeamWork",
         "rawType": "float64",
         "type": "float"
        },
        {
         "name": "Scores",
         "rawType": "int64",
         "type": "integer"
        }
       ],
       "ref": "4a2e4cbf-4f6f-4387-9f68-d1226a4e593f",
       "rows": [
        [
         "0",
         "2.5",
         "6.25",
         "0.5",
         "0.0",
         "21"
        ],
        [
         "1",
         "5.1",
         "26.009999999999998",
         "1.5",
         "0.5",
         "47"
        ],
        [
         "2",
         "3.2",
         "10.240000000000002",
         "1.0",
         "0.5",
         "27"
        ],
        [
         "3",
         "8.5",
         "72.25",
         "3.7",
         "1.2",
         "75"
        ],
        [
         "4",
         "3.5",
         "12.25",
         "1.2",
         "0.3",
         "30"
        ],
        [
         "5",
         "1.5",
         "2.25",
         "0.2",
         "0.0",
         "20"
        ],
        [
         "6",
         "9.2",
         "84.63999999999999",
         "4.8",
         "3.0",
         "88"
        ],
        [
         "7",
         "5.5",
         "30.25",
         "3.2",
         "2.0",
         "60"
        ],
        [
         "8",
         "9.3",
         "86.49000000000001",
         "5.1",
         "3.5",
         "81"
        ],
        [
         "9",
         "2.7",
         "7.290000000000001",
         "1.5",
         "0.0",
         "25"
        ],
        [
         "10",
         "7.7",
         "59.290000000000006",
         "4.9",
         "4.5",
         "85"
        ],
        [
         "11",
         "5.9",
         "34.81",
         "3.1",
         "2.1",
         "62"
        ],
        [
         "12",
         "4.5",
         "20.25",
         "2.8",
         "1.0",
         "41"
        ],
        [
         "13",
         "3.3",
         "10.889999999999999",
         "2.2",
         "1.1",
         "42"
        ],
        [
         "14",
         "1.1",
         "1.2100000000000002",
         "1.1",
         "0.0",
         "17"
        ],
        [
         "15",
         "8.9",
         "79.21000000000001",
         "6.2",
         "6.0",
         "95"
        ],
        [
         "16",
         "2.5",
         "6.25",
         "1.6",
         "1.0",
         "30"
        ],
        [
         "17",
         "1.9",
         "3.61",
         "0.9",
         "0.5",
         "24"
        ],
        [
         "18",
         "6.1",
         "37.209999999999994",
         "2.0",
         "3.2",
         "67"
        ],
        [
         "19",
         "7.4",
         "54.760000000000005",
         "2.5",
         "3.0",
         "69"
        ],
        [
         "20",
         "2.7",
         "7.290000000000001",
         "3.0",
         "1.2",
         "30"
        ],
        [
         "21",
         "4.8",
         "23.04",
         "2.9",
         "2.1",
         "54"
        ],
        [
         "22",
         "3.8",
         "14.44",
         "2.2",
         "0.3",
         "35"
        ],
        [
         "23",
         "6.9",
         "47.61000000000001",
         "5.1",
         "3.8",
         "76"
        ],
        [
         "24",
         "7.8",
         "60.839999999999996",
         "5.8",
         "4.5",
         "86"
        ]
       ],
       "shape": {
        "columns": 5,
        "rows": 25
       }
      },
      "text/html": [
       "<div>\n",
       "<style scoped>\n",
       "    .dataframe tbody tr th:only-of-type {\n",
       "        vertical-align: middle;\n",
       "    }\n",
       "\n",
       "    .dataframe tbody tr th {\n",
       "        vertical-align: top;\n",
       "    }\n",
       "\n",
       "    .dataframe thead th {\n",
       "        text-align: right;\n",
       "    }\n",
       "</style>\n",
       "<table border=\"1\" class=\"dataframe\">\n",
       "  <thead>\n",
       "    <tr style=\"text-align: right;\">\n",
       "      <th></th>\n",
       "      <th>Hours</th>\n",
       "      <th>Hourse2</th>\n",
       "      <th>Practice</th>\n",
       "      <th>TeamWork</th>\n",
       "      <th>Scores</th>\n",
       "    </tr>\n",
       "  </thead>\n",
       "  <tbody>\n",
       "    <tr>\n",
       "      <th>0</th>\n",
       "      <td>2.5</td>\n",
       "      <td>6.25</td>\n",
       "      <td>0.5</td>\n",
       "      <td>0.0</td>\n",
       "      <td>21</td>\n",
       "    </tr>\n",
       "    <tr>\n",
       "      <th>1</th>\n",
       "      <td>5.1</td>\n",
       "      <td>26.01</td>\n",
       "      <td>1.5</td>\n",
       "      <td>0.5</td>\n",
       "      <td>47</td>\n",
       "    </tr>\n",
       "    <tr>\n",
       "      <th>2</th>\n",
       "      <td>3.2</td>\n",
       "      <td>10.24</td>\n",
       "      <td>1.0</td>\n",
       "      <td>0.5</td>\n",
       "      <td>27</td>\n",
       "    </tr>\n",
       "    <tr>\n",
       "      <th>3</th>\n",
       "      <td>8.5</td>\n",
       "      <td>72.25</td>\n",
       "      <td>3.7</td>\n",
       "      <td>1.2</td>\n",
       "      <td>75</td>\n",
       "    </tr>\n",
       "    <tr>\n",
       "      <th>4</th>\n",
       "      <td>3.5</td>\n",
       "      <td>12.25</td>\n",
       "      <td>1.2</td>\n",
       "      <td>0.3</td>\n",
       "      <td>30</td>\n",
       "    </tr>\n",
       "    <tr>\n",
       "      <th>5</th>\n",
       "      <td>1.5</td>\n",
       "      <td>2.25</td>\n",
       "      <td>0.2</td>\n",
       "      <td>0.0</td>\n",
       "      <td>20</td>\n",
       "    </tr>\n",
       "    <tr>\n",
       "      <th>6</th>\n",
       "      <td>9.2</td>\n",
       "      <td>84.64</td>\n",
       "      <td>4.8</td>\n",
       "      <td>3.0</td>\n",
       "      <td>88</td>\n",
       "    </tr>\n",
       "    <tr>\n",
       "      <th>7</th>\n",
       "      <td>5.5</td>\n",
       "      <td>30.25</td>\n",
       "      <td>3.2</td>\n",
       "      <td>2.0</td>\n",
       "      <td>60</td>\n",
       "    </tr>\n",
       "    <tr>\n",
       "      <th>8</th>\n",
       "      <td>9.3</td>\n",
       "      <td>86.49</td>\n",
       "      <td>5.1</td>\n",
       "      <td>3.5</td>\n",
       "      <td>81</td>\n",
       "    </tr>\n",
       "    <tr>\n",
       "      <th>9</th>\n",
       "      <td>2.7</td>\n",
       "      <td>7.29</td>\n",
       "      <td>1.5</td>\n",
       "      <td>0.0</td>\n",
       "      <td>25</td>\n",
       "    </tr>\n",
       "    <tr>\n",
       "      <th>10</th>\n",
       "      <td>7.7</td>\n",
       "      <td>59.29</td>\n",
       "      <td>4.9</td>\n",
       "      <td>4.5</td>\n",
       "      <td>85</td>\n",
       "    </tr>\n",
       "    <tr>\n",
       "      <th>11</th>\n",
       "      <td>5.9</td>\n",
       "      <td>34.81</td>\n",
       "      <td>3.1</td>\n",
       "      <td>2.1</td>\n",
       "      <td>62</td>\n",
       "    </tr>\n",
       "    <tr>\n",
       "      <th>12</th>\n",
       "      <td>4.5</td>\n",
       "      <td>20.25</td>\n",
       "      <td>2.8</td>\n",
       "      <td>1.0</td>\n",
       "      <td>41</td>\n",
       "    </tr>\n",
       "    <tr>\n",
       "      <th>13</th>\n",
       "      <td>3.3</td>\n",
       "      <td>10.89</td>\n",
       "      <td>2.2</td>\n",
       "      <td>1.1</td>\n",
       "      <td>42</td>\n",
       "    </tr>\n",
       "    <tr>\n",
       "      <th>14</th>\n",
       "      <td>1.1</td>\n",
       "      <td>1.21</td>\n",
       "      <td>1.1</td>\n",
       "      <td>0.0</td>\n",
       "      <td>17</td>\n",
       "    </tr>\n",
       "    <tr>\n",
       "      <th>15</th>\n",
       "      <td>8.9</td>\n",
       "      <td>79.21</td>\n",
       "      <td>6.2</td>\n",
       "      <td>6.0</td>\n",
       "      <td>95</td>\n",
       "    </tr>\n",
       "    <tr>\n",
       "      <th>16</th>\n",
       "      <td>2.5</td>\n",
       "      <td>6.25</td>\n",
       "      <td>1.6</td>\n",
       "      <td>1.0</td>\n",
       "      <td>30</td>\n",
       "    </tr>\n",
       "    <tr>\n",
       "      <th>17</th>\n",
       "      <td>1.9</td>\n",
       "      <td>3.61</td>\n",
       "      <td>0.9</td>\n",
       "      <td>0.5</td>\n",
       "      <td>24</td>\n",
       "    </tr>\n",
       "    <tr>\n",
       "      <th>18</th>\n",
       "      <td>6.1</td>\n",
       "      <td>37.21</td>\n",
       "      <td>2.0</td>\n",
       "      <td>3.2</td>\n",
       "      <td>67</td>\n",
       "    </tr>\n",
       "    <tr>\n",
       "      <th>19</th>\n",
       "      <td>7.4</td>\n",
       "      <td>54.76</td>\n",
       "      <td>2.5</td>\n",
       "      <td>3.0</td>\n",
       "      <td>69</td>\n",
       "    </tr>\n",
       "    <tr>\n",
       "      <th>20</th>\n",
       "      <td>2.7</td>\n",
       "      <td>7.29</td>\n",
       "      <td>3.0</td>\n",
       "      <td>1.2</td>\n",
       "      <td>30</td>\n",
       "    </tr>\n",
       "    <tr>\n",
       "      <th>21</th>\n",
       "      <td>4.8</td>\n",
       "      <td>23.04</td>\n",
       "      <td>2.9</td>\n",
       "      <td>2.1</td>\n",
       "      <td>54</td>\n",
       "    </tr>\n",
       "    <tr>\n",
       "      <th>22</th>\n",
       "      <td>3.8</td>\n",
       "      <td>14.44</td>\n",
       "      <td>2.2</td>\n",
       "      <td>0.3</td>\n",
       "      <td>35</td>\n",
       "    </tr>\n",
       "    <tr>\n",
       "      <th>23</th>\n",
       "      <td>6.9</td>\n",
       "      <td>47.61</td>\n",
       "      <td>5.1</td>\n",
       "      <td>3.8</td>\n",
       "      <td>76</td>\n",
       "    </tr>\n",
       "    <tr>\n",
       "      <th>24</th>\n",
       "      <td>7.8</td>\n",
       "      <td>60.84</td>\n",
       "      <td>5.8</td>\n",
       "      <td>4.5</td>\n",
       "      <td>86</td>\n",
       "    </tr>\n",
       "  </tbody>\n",
       "</table>\n",
       "</div>"
      ],
      "text/plain": [
       "    Hours  Hourse2  Practice  TeamWork  Scores\n",
       "0     2.5     6.25       0.5       0.0      21\n",
       "1     5.1    26.01       1.5       0.5      47\n",
       "2     3.2    10.24       1.0       0.5      27\n",
       "3     8.5    72.25       3.7       1.2      75\n",
       "4     3.5    12.25       1.2       0.3      30\n",
       "5     1.5     2.25       0.2       0.0      20\n",
       "6     9.2    84.64       4.8       3.0      88\n",
       "7     5.5    30.25       3.2       2.0      60\n",
       "8     9.3    86.49       5.1       3.5      81\n",
       "9     2.7     7.29       1.5       0.0      25\n",
       "10    7.7    59.29       4.9       4.5      85\n",
       "11    5.9    34.81       3.1       2.1      62\n",
       "12    4.5    20.25       2.8       1.0      41\n",
       "13    3.3    10.89       2.2       1.1      42\n",
       "14    1.1     1.21       1.1       0.0      17\n",
       "15    8.9    79.21       6.2       6.0      95\n",
       "16    2.5     6.25       1.6       1.0      30\n",
       "17    1.9     3.61       0.9       0.5      24\n",
       "18    6.1    37.21       2.0       3.2      67\n",
       "19    7.4    54.76       2.5       3.0      69\n",
       "20    2.7     7.29       3.0       1.2      30\n",
       "21    4.8    23.04       2.9       2.1      54\n",
       "22    3.8    14.44       2.2       0.3      35\n",
       "23    6.9    47.61       5.1       3.8      76\n",
       "24    7.8    60.84       5.8       4.5      86"
      ]
     },
     "execution_count": 447,
     "metadata": {},
     "output_type": "execute_result"
    }
   ],
   "source": [
    "df"
   ]
  },
  {
   "cell_type": "code",
   "execution_count": 448,
   "id": "cf02b0b9",
   "metadata": {},
   "outputs": [],
   "source": [
    "sinHourse = np.sin((2*np.pi*df.Hours)/365)"
   ]
  },
  {
   "cell_type": "code",
   "execution_count": 449,
   "id": "c6b4b2a9",
   "metadata": {},
   "outputs": [],
   "source": [
    "df.insert(2,'sinHours',sinHourse)"
   ]
  },
  {
   "cell_type": "code",
   "execution_count": 450,
   "id": "c7d24585",
   "metadata": {},
   "outputs": [],
   "source": [
    "df = df.round(5)\n"
   ]
  },
  {
   "cell_type": "code",
   "execution_count": 451,
   "id": "24c8ceac",
   "metadata": {},
   "outputs": [
    {
     "data": {
      "application/vnd.microsoft.datawrangler.viewer.v0+json": {
       "columns": [
        {
         "name": "index",
         "rawType": "int64",
         "type": "integer"
        },
        {
         "name": "Hours",
         "rawType": "float64",
         "type": "float"
        },
        {
         "name": "Hourse2",
         "rawType": "float64",
         "type": "float"
        },
        {
         "name": "sinHours",
         "rawType": "float64",
         "type": "float"
        },
        {
         "name": "Practice",
         "rawType": "float64",
         "type": "float"
        },
        {
         "name": "TeamWork",
         "rawType": "float64",
         "type": "float"
        },
        {
         "name": "Scores",
         "rawType": "int64",
         "type": "integer"
        }
       ],
       "ref": "9a86fa73-940a-405e-8596-5be2c65a05d2",
       "rows": [
        [
         "0",
         "2.5",
         "6.25",
         "0.04302",
         "0.5",
         "0.0",
         "21"
        ],
        [
         "1",
         "5.1",
         "26.01",
         "0.08768",
         "1.5",
         "0.5",
         "47"
        ],
        [
         "2",
         "3.2",
         "10.24",
         "0.05506",
         "1.0",
         "0.5",
         "27"
        ],
        [
         "3",
         "8.5",
         "72.25",
         "0.1458",
         "3.7",
         "1.2",
         "75"
        ],
        [
         "4",
         "3.5",
         "12.25",
         "0.06021",
         "1.2",
         "0.3",
         "30"
        ],
        [
         "5",
         "1.5",
         "2.25",
         "0.02582",
         "0.2",
         "0.0",
         "20"
        ],
        [
         "6",
         "9.2",
         "84.64",
         "0.15771",
         "4.8",
         "3.0",
         "88"
        ],
        [
         "7",
         "5.5",
         "30.25",
         "0.09454",
         "3.2",
         "2.0",
         "60"
        ],
        [
         "8",
         "9.3",
         "86.49",
         "0.15941",
         "5.1",
         "3.5",
         "81"
        ],
        [
         "9",
         "2.7",
         "7.29",
         "0.04646",
         "1.5",
         "0.0",
         "25"
        ],
        [
         "10",
         "7.7",
         "59.29",
         "0.13216",
         "4.9",
         "4.5",
         "85"
        ],
        [
         "11",
         "5.9",
         "34.81",
         "0.10139",
         "3.1",
         "2.1",
         "62"
        ],
        [
         "12",
         "4.5",
         "20.25",
         "0.07739",
         "2.8",
         "1.0",
         "41"
        ],
        [
         "13",
         "3.3",
         "10.89",
         "0.05678",
         "2.2",
         "1.1",
         "42"
        ],
        [
         "14",
         "1.1",
         "1.21",
         "0.01893",
         "1.1",
         "0.0",
         "17"
        ],
        [
         "15",
         "8.9",
         "79.21",
         "0.15261",
         "6.2",
         "6.0",
         "95"
        ],
        [
         "16",
         "2.5",
         "6.25",
         "0.04302",
         "1.6",
         "1.0",
         "30"
        ],
        [
         "17",
         "1.9",
         "3.61",
         "0.0327",
         "0.9",
         "0.5",
         "24"
        ],
        [
         "18",
         "6.1",
         "37.21",
         "0.10481",
         "2.0",
         "3.2",
         "67"
        ],
        [
         "19",
         "7.4",
         "54.76",
         "0.12704",
         "2.5",
         "3.0",
         "69"
        ],
        [
         "20",
         "2.7",
         "7.29",
         "0.04646",
         "3.0",
         "1.2",
         "30"
        ],
        [
         "21",
         "4.8",
         "23.04",
         "0.08253",
         "2.9",
         "2.1",
         "54"
        ],
        [
         "22",
         "3.8",
         "14.44",
         "0.06537",
         "2.2",
         "0.3",
         "35"
        ],
        [
         "23",
         "6.9",
         "47.61",
         "0.1185",
         "5.1",
         "3.8",
         "76"
        ],
        [
         "24",
         "7.8",
         "60.84",
         "0.13387",
         "5.8",
         "4.5",
         "86"
        ]
       ],
       "shape": {
        "columns": 6,
        "rows": 25
       }
      },
      "text/html": [
       "<div>\n",
       "<style scoped>\n",
       "    .dataframe tbody tr th:only-of-type {\n",
       "        vertical-align: middle;\n",
       "    }\n",
       "\n",
       "    .dataframe tbody tr th {\n",
       "        vertical-align: top;\n",
       "    }\n",
       "\n",
       "    .dataframe thead th {\n",
       "        text-align: right;\n",
       "    }\n",
       "</style>\n",
       "<table border=\"1\" class=\"dataframe\">\n",
       "  <thead>\n",
       "    <tr style=\"text-align: right;\">\n",
       "      <th></th>\n",
       "      <th>Hours</th>\n",
       "      <th>Hourse2</th>\n",
       "      <th>sinHours</th>\n",
       "      <th>Practice</th>\n",
       "      <th>TeamWork</th>\n",
       "      <th>Scores</th>\n",
       "    </tr>\n",
       "  </thead>\n",
       "  <tbody>\n",
       "    <tr>\n",
       "      <th>0</th>\n",
       "      <td>2.5</td>\n",
       "      <td>6.25</td>\n",
       "      <td>0.04302</td>\n",
       "      <td>0.5</td>\n",
       "      <td>0.0</td>\n",
       "      <td>21</td>\n",
       "    </tr>\n",
       "    <tr>\n",
       "      <th>1</th>\n",
       "      <td>5.1</td>\n",
       "      <td>26.01</td>\n",
       "      <td>0.08768</td>\n",
       "      <td>1.5</td>\n",
       "      <td>0.5</td>\n",
       "      <td>47</td>\n",
       "    </tr>\n",
       "    <tr>\n",
       "      <th>2</th>\n",
       "      <td>3.2</td>\n",
       "      <td>10.24</td>\n",
       "      <td>0.05506</td>\n",
       "      <td>1.0</td>\n",
       "      <td>0.5</td>\n",
       "      <td>27</td>\n",
       "    </tr>\n",
       "    <tr>\n",
       "      <th>3</th>\n",
       "      <td>8.5</td>\n",
       "      <td>72.25</td>\n",
       "      <td>0.14580</td>\n",
       "      <td>3.7</td>\n",
       "      <td>1.2</td>\n",
       "      <td>75</td>\n",
       "    </tr>\n",
       "    <tr>\n",
       "      <th>4</th>\n",
       "      <td>3.5</td>\n",
       "      <td>12.25</td>\n",
       "      <td>0.06021</td>\n",
       "      <td>1.2</td>\n",
       "      <td>0.3</td>\n",
       "      <td>30</td>\n",
       "    </tr>\n",
       "    <tr>\n",
       "      <th>5</th>\n",
       "      <td>1.5</td>\n",
       "      <td>2.25</td>\n",
       "      <td>0.02582</td>\n",
       "      <td>0.2</td>\n",
       "      <td>0.0</td>\n",
       "      <td>20</td>\n",
       "    </tr>\n",
       "    <tr>\n",
       "      <th>6</th>\n",
       "      <td>9.2</td>\n",
       "      <td>84.64</td>\n",
       "      <td>0.15771</td>\n",
       "      <td>4.8</td>\n",
       "      <td>3.0</td>\n",
       "      <td>88</td>\n",
       "    </tr>\n",
       "    <tr>\n",
       "      <th>7</th>\n",
       "      <td>5.5</td>\n",
       "      <td>30.25</td>\n",
       "      <td>0.09454</td>\n",
       "      <td>3.2</td>\n",
       "      <td>2.0</td>\n",
       "      <td>60</td>\n",
       "    </tr>\n",
       "    <tr>\n",
       "      <th>8</th>\n",
       "      <td>9.3</td>\n",
       "      <td>86.49</td>\n",
       "      <td>0.15941</td>\n",
       "      <td>5.1</td>\n",
       "      <td>3.5</td>\n",
       "      <td>81</td>\n",
       "    </tr>\n",
       "    <tr>\n",
       "      <th>9</th>\n",
       "      <td>2.7</td>\n",
       "      <td>7.29</td>\n",
       "      <td>0.04646</td>\n",
       "      <td>1.5</td>\n",
       "      <td>0.0</td>\n",
       "      <td>25</td>\n",
       "    </tr>\n",
       "    <tr>\n",
       "      <th>10</th>\n",
       "      <td>7.7</td>\n",
       "      <td>59.29</td>\n",
       "      <td>0.13216</td>\n",
       "      <td>4.9</td>\n",
       "      <td>4.5</td>\n",
       "      <td>85</td>\n",
       "    </tr>\n",
       "    <tr>\n",
       "      <th>11</th>\n",
       "      <td>5.9</td>\n",
       "      <td>34.81</td>\n",
       "      <td>0.10139</td>\n",
       "      <td>3.1</td>\n",
       "      <td>2.1</td>\n",
       "      <td>62</td>\n",
       "    </tr>\n",
       "    <tr>\n",
       "      <th>12</th>\n",
       "      <td>4.5</td>\n",
       "      <td>20.25</td>\n",
       "      <td>0.07739</td>\n",
       "      <td>2.8</td>\n",
       "      <td>1.0</td>\n",
       "      <td>41</td>\n",
       "    </tr>\n",
       "    <tr>\n",
       "      <th>13</th>\n",
       "      <td>3.3</td>\n",
       "      <td>10.89</td>\n",
       "      <td>0.05678</td>\n",
       "      <td>2.2</td>\n",
       "      <td>1.1</td>\n",
       "      <td>42</td>\n",
       "    </tr>\n",
       "    <tr>\n",
       "      <th>14</th>\n",
       "      <td>1.1</td>\n",
       "      <td>1.21</td>\n",
       "      <td>0.01893</td>\n",
       "      <td>1.1</td>\n",
       "      <td>0.0</td>\n",
       "      <td>17</td>\n",
       "    </tr>\n",
       "    <tr>\n",
       "      <th>15</th>\n",
       "      <td>8.9</td>\n",
       "      <td>79.21</td>\n",
       "      <td>0.15261</td>\n",
       "      <td>6.2</td>\n",
       "      <td>6.0</td>\n",
       "      <td>95</td>\n",
       "    </tr>\n",
       "    <tr>\n",
       "      <th>16</th>\n",
       "      <td>2.5</td>\n",
       "      <td>6.25</td>\n",
       "      <td>0.04302</td>\n",
       "      <td>1.6</td>\n",
       "      <td>1.0</td>\n",
       "      <td>30</td>\n",
       "    </tr>\n",
       "    <tr>\n",
       "      <th>17</th>\n",
       "      <td>1.9</td>\n",
       "      <td>3.61</td>\n",
       "      <td>0.03270</td>\n",
       "      <td>0.9</td>\n",
       "      <td>0.5</td>\n",
       "      <td>24</td>\n",
       "    </tr>\n",
       "    <tr>\n",
       "      <th>18</th>\n",
       "      <td>6.1</td>\n",
       "      <td>37.21</td>\n",
       "      <td>0.10481</td>\n",
       "      <td>2.0</td>\n",
       "      <td>3.2</td>\n",
       "      <td>67</td>\n",
       "    </tr>\n",
       "    <tr>\n",
       "      <th>19</th>\n",
       "      <td>7.4</td>\n",
       "      <td>54.76</td>\n",
       "      <td>0.12704</td>\n",
       "      <td>2.5</td>\n",
       "      <td>3.0</td>\n",
       "      <td>69</td>\n",
       "    </tr>\n",
       "    <tr>\n",
       "      <th>20</th>\n",
       "      <td>2.7</td>\n",
       "      <td>7.29</td>\n",
       "      <td>0.04646</td>\n",
       "      <td>3.0</td>\n",
       "      <td>1.2</td>\n",
       "      <td>30</td>\n",
       "    </tr>\n",
       "    <tr>\n",
       "      <th>21</th>\n",
       "      <td>4.8</td>\n",
       "      <td>23.04</td>\n",
       "      <td>0.08253</td>\n",
       "      <td>2.9</td>\n",
       "      <td>2.1</td>\n",
       "      <td>54</td>\n",
       "    </tr>\n",
       "    <tr>\n",
       "      <th>22</th>\n",
       "      <td>3.8</td>\n",
       "      <td>14.44</td>\n",
       "      <td>0.06537</td>\n",
       "      <td>2.2</td>\n",
       "      <td>0.3</td>\n",
       "      <td>35</td>\n",
       "    </tr>\n",
       "    <tr>\n",
       "      <th>23</th>\n",
       "      <td>6.9</td>\n",
       "      <td>47.61</td>\n",
       "      <td>0.11850</td>\n",
       "      <td>5.1</td>\n",
       "      <td>3.8</td>\n",
       "      <td>76</td>\n",
       "    </tr>\n",
       "    <tr>\n",
       "      <th>24</th>\n",
       "      <td>7.8</td>\n",
       "      <td>60.84</td>\n",
       "      <td>0.13387</td>\n",
       "      <td>5.8</td>\n",
       "      <td>4.5</td>\n",
       "      <td>86</td>\n",
       "    </tr>\n",
       "  </tbody>\n",
       "</table>\n",
       "</div>"
      ],
      "text/plain": [
       "    Hours  Hourse2  sinHours  Practice  TeamWork  Scores\n",
       "0     2.5     6.25   0.04302       0.5       0.0      21\n",
       "1     5.1    26.01   0.08768       1.5       0.5      47\n",
       "2     3.2    10.24   0.05506       1.0       0.5      27\n",
       "3     8.5    72.25   0.14580       3.7       1.2      75\n",
       "4     3.5    12.25   0.06021       1.2       0.3      30\n",
       "5     1.5     2.25   0.02582       0.2       0.0      20\n",
       "6     9.2    84.64   0.15771       4.8       3.0      88\n",
       "7     5.5    30.25   0.09454       3.2       2.0      60\n",
       "8     9.3    86.49   0.15941       5.1       3.5      81\n",
       "9     2.7     7.29   0.04646       1.5       0.0      25\n",
       "10    7.7    59.29   0.13216       4.9       4.5      85\n",
       "11    5.9    34.81   0.10139       3.1       2.1      62\n",
       "12    4.5    20.25   0.07739       2.8       1.0      41\n",
       "13    3.3    10.89   0.05678       2.2       1.1      42\n",
       "14    1.1     1.21   0.01893       1.1       0.0      17\n",
       "15    8.9    79.21   0.15261       6.2       6.0      95\n",
       "16    2.5     6.25   0.04302       1.6       1.0      30\n",
       "17    1.9     3.61   0.03270       0.9       0.5      24\n",
       "18    6.1    37.21   0.10481       2.0       3.2      67\n",
       "19    7.4    54.76   0.12704       2.5       3.0      69\n",
       "20    2.7     7.29   0.04646       3.0       1.2      30\n",
       "21    4.8    23.04   0.08253       2.9       2.1      54\n",
       "22    3.8    14.44   0.06537       2.2       0.3      35\n",
       "23    6.9    47.61   0.11850       5.1       3.8      76\n",
       "24    7.8    60.84   0.13387       5.8       4.5      86"
      ]
     },
     "execution_count": 451,
     "metadata": {},
     "output_type": "execute_result"
    }
   ],
   "source": [
    "df"
   ]
  },
  {
   "cell_type": "code",
   "execution_count": null,
   "id": "656e044e",
   "metadata": {},
   "outputs": [],
   "source": []
  }
 ],
 "metadata": {
  "kernelspec": {
   "display_name": "Python 3",
   "language": "python",
   "name": "python3"
  },
  "language_info": {
   "codemirror_mode": {
    "name": "ipython",
    "version": 3
   },
   "file_extension": ".py",
   "mimetype": "text/x-python",
   "name": "python",
   "nbconvert_exporter": "python",
   "pygments_lexer": "ipython3",
   "version": "3.13.3"
  }
 },
 "nbformat": 4,
 "nbformat_minor": 5
}
