{
 "cells": [
  {
   "cell_type": "code",
   "execution_count": 340,
   "id": "bb128181",
   "metadata": {},
   "outputs": [],
   "source": [
    "import numpy as np\n",
    "import pandas as pd\n",
    "import matplotlib.pyplot as plt\n",
    "import seaborn as sns\n",
    "from sklearn.linear_model import LinearRegression\n",
    "from sklearn import metrics\n",
    "from sklearn.model_selection import train_test_split"
   ]
  },
  {
   "cell_type": "code",
   "execution_count": 341,
   "id": "89eebeb1",
   "metadata": {},
   "outputs": [
    {
     "data": {
      "application/vnd.microsoft.datawrangler.viewer.v0+json": {
       "columns": [
        {
         "name": "index",
         "rawType": "int64",
         "type": "integer"
        },
        {
         "name": "Hours",
         "rawType": "float64",
         "type": "float"
        },
        {
         "name": "Practice",
         "rawType": "float64",
         "type": "float"
        },
        {
         "name": "TeamWork",
         "rawType": "float64",
         "type": "float"
        },
        {
         "name": "Scores",
         "rawType": "int64",
         "type": "integer"
        }
       ],
       "ref": "efd0812c-5661-4e66-8c75-0682f0c27c02",
       "rows": [
        [
         "0",
         "2.5",
         "0.5",
         "0.0",
         "21"
        ],
        [
         "1",
         "5.1",
         "1.5",
         "0.5",
         "47"
        ],
        [
         "2",
         "3.2",
         "1.0",
         "0.5",
         "27"
        ],
        [
         "3",
         "8.5",
         "3.7",
         "1.2",
         "75"
        ],
        [
         "4",
         "3.5",
         "1.2",
         "0.3",
         "30"
        ],
        [
         "5",
         "1.5",
         "0.2",
         "0.0",
         "20"
        ],
        [
         "6",
         "9.2",
         "4.8",
         "3.0",
         "88"
        ],
        [
         "7",
         "5.5",
         "3.2",
         "2.0",
         "60"
        ],
        [
         "8",
         "9.3",
         "5.1",
         "3.5",
         "81"
        ],
        [
         "9",
         "2.7",
         "1.5",
         "0.0",
         "25"
        ],
        [
         "10",
         "7.7",
         "4.9",
         "4.5",
         "85"
        ],
        [
         "11",
         "5.9",
         "3.1",
         "2.1",
         "62"
        ],
        [
         "12",
         "4.5",
         "2.8",
         "1.0",
         "41"
        ],
        [
         "13",
         "3.3",
         "2.2",
         "1.1",
         "42"
        ],
        [
         "14",
         "1.1",
         "1.1",
         "0.0",
         "17"
        ],
        [
         "15",
         "8.9",
         "6.2",
         "6.0",
         "95"
        ],
        [
         "16",
         "2.5",
         "1.6",
         "1.0",
         "30"
        ],
        [
         "17",
         "1.9",
         "0.9",
         "0.5",
         "24"
        ],
        [
         "18",
         "6.1",
         "2.0",
         "3.2",
         "67"
        ],
        [
         "19",
         "7.4",
         "2.5",
         "3.0",
         "69"
        ],
        [
         "20",
         "2.7",
         "3.0",
         "1.2",
         "30"
        ],
        [
         "21",
         "4.8",
         "2.9",
         "2.1",
         "54"
        ],
        [
         "22",
         "3.8",
         "2.2",
         "0.3",
         "35"
        ],
        [
         "23",
         "6.9",
         "5.1",
         "3.8",
         "76"
        ],
        [
         "24",
         "7.8",
         "5.8",
         "4.5",
         "86"
        ]
       ],
       "shape": {
        "columns": 4,
        "rows": 25
       }
      },
      "text/html": [
       "<div>\n",
       "<style scoped>\n",
       "    .dataframe tbody tr th:only-of-type {\n",
       "        vertical-align: middle;\n",
       "    }\n",
       "\n",
       "    .dataframe tbody tr th {\n",
       "        vertical-align: top;\n",
       "    }\n",
       "\n",
       "    .dataframe thead th {\n",
       "        text-align: right;\n",
       "    }\n",
       "</style>\n",
       "<table border=\"1\" class=\"dataframe\">\n",
       "  <thead>\n",
       "    <tr style=\"text-align: right;\">\n",
       "      <th></th>\n",
       "      <th>Hours</th>\n",
       "      <th>Practice</th>\n",
       "      <th>TeamWork</th>\n",
       "      <th>Scores</th>\n",
       "    </tr>\n",
       "  </thead>\n",
       "  <tbody>\n",
       "    <tr>\n",
       "      <th>0</th>\n",
       "      <td>2.5</td>\n",
       "      <td>0.5</td>\n",
       "      <td>0.0</td>\n",
       "      <td>21</td>\n",
       "    </tr>\n",
       "    <tr>\n",
       "      <th>1</th>\n",
       "      <td>5.1</td>\n",
       "      <td>1.5</td>\n",
       "      <td>0.5</td>\n",
       "      <td>47</td>\n",
       "    </tr>\n",
       "    <tr>\n",
       "      <th>2</th>\n",
       "      <td>3.2</td>\n",
       "      <td>1.0</td>\n",
       "      <td>0.5</td>\n",
       "      <td>27</td>\n",
       "    </tr>\n",
       "    <tr>\n",
       "      <th>3</th>\n",
       "      <td>8.5</td>\n",
       "      <td>3.7</td>\n",
       "      <td>1.2</td>\n",
       "      <td>75</td>\n",
       "    </tr>\n",
       "    <tr>\n",
       "      <th>4</th>\n",
       "      <td>3.5</td>\n",
       "      <td>1.2</td>\n",
       "      <td>0.3</td>\n",
       "      <td>30</td>\n",
       "    </tr>\n",
       "    <tr>\n",
       "      <th>5</th>\n",
       "      <td>1.5</td>\n",
       "      <td>0.2</td>\n",
       "      <td>0.0</td>\n",
       "      <td>20</td>\n",
       "    </tr>\n",
       "    <tr>\n",
       "      <th>6</th>\n",
       "      <td>9.2</td>\n",
       "      <td>4.8</td>\n",
       "      <td>3.0</td>\n",
       "      <td>88</td>\n",
       "    </tr>\n",
       "    <tr>\n",
       "      <th>7</th>\n",
       "      <td>5.5</td>\n",
       "      <td>3.2</td>\n",
       "      <td>2.0</td>\n",
       "      <td>60</td>\n",
       "    </tr>\n",
       "    <tr>\n",
       "      <th>8</th>\n",
       "      <td>9.3</td>\n",
       "      <td>5.1</td>\n",
       "      <td>3.5</td>\n",
       "      <td>81</td>\n",
       "    </tr>\n",
       "    <tr>\n",
       "      <th>9</th>\n",
       "      <td>2.7</td>\n",
       "      <td>1.5</td>\n",
       "      <td>0.0</td>\n",
       "      <td>25</td>\n",
       "    </tr>\n",
       "    <tr>\n",
       "      <th>10</th>\n",
       "      <td>7.7</td>\n",
       "      <td>4.9</td>\n",
       "      <td>4.5</td>\n",
       "      <td>85</td>\n",
       "    </tr>\n",
       "    <tr>\n",
       "      <th>11</th>\n",
       "      <td>5.9</td>\n",
       "      <td>3.1</td>\n",
       "      <td>2.1</td>\n",
       "      <td>62</td>\n",
       "    </tr>\n",
       "    <tr>\n",
       "      <th>12</th>\n",
       "      <td>4.5</td>\n",
       "      <td>2.8</td>\n",
       "      <td>1.0</td>\n",
       "      <td>41</td>\n",
       "    </tr>\n",
       "    <tr>\n",
       "      <th>13</th>\n",
       "      <td>3.3</td>\n",
       "      <td>2.2</td>\n",
       "      <td>1.1</td>\n",
       "      <td>42</td>\n",
       "    </tr>\n",
       "    <tr>\n",
       "      <th>14</th>\n",
       "      <td>1.1</td>\n",
       "      <td>1.1</td>\n",
       "      <td>0.0</td>\n",
       "      <td>17</td>\n",
       "    </tr>\n",
       "    <tr>\n",
       "      <th>15</th>\n",
       "      <td>8.9</td>\n",
       "      <td>6.2</td>\n",
       "      <td>6.0</td>\n",
       "      <td>95</td>\n",
       "    </tr>\n",
       "    <tr>\n",
       "      <th>16</th>\n",
       "      <td>2.5</td>\n",
       "      <td>1.6</td>\n",
       "      <td>1.0</td>\n",
       "      <td>30</td>\n",
       "    </tr>\n",
       "    <tr>\n",
       "      <th>17</th>\n",
       "      <td>1.9</td>\n",
       "      <td>0.9</td>\n",
       "      <td>0.5</td>\n",
       "      <td>24</td>\n",
       "    </tr>\n",
       "    <tr>\n",
       "      <th>18</th>\n",
       "      <td>6.1</td>\n",
       "      <td>2.0</td>\n",
       "      <td>3.2</td>\n",
       "      <td>67</td>\n",
       "    </tr>\n",
       "    <tr>\n",
       "      <th>19</th>\n",
       "      <td>7.4</td>\n",
       "      <td>2.5</td>\n",
       "      <td>3.0</td>\n",
       "      <td>69</td>\n",
       "    </tr>\n",
       "    <tr>\n",
       "      <th>20</th>\n",
       "      <td>2.7</td>\n",
       "      <td>3.0</td>\n",
       "      <td>1.2</td>\n",
       "      <td>30</td>\n",
       "    </tr>\n",
       "    <tr>\n",
       "      <th>21</th>\n",
       "      <td>4.8</td>\n",
       "      <td>2.9</td>\n",
       "      <td>2.1</td>\n",
       "      <td>54</td>\n",
       "    </tr>\n",
       "    <tr>\n",
       "      <th>22</th>\n",
       "      <td>3.8</td>\n",
       "      <td>2.2</td>\n",
       "      <td>0.3</td>\n",
       "      <td>35</td>\n",
       "    </tr>\n",
       "    <tr>\n",
       "      <th>23</th>\n",
       "      <td>6.9</td>\n",
       "      <td>5.1</td>\n",
       "      <td>3.8</td>\n",
       "      <td>76</td>\n",
       "    </tr>\n",
       "    <tr>\n",
       "      <th>24</th>\n",
       "      <td>7.8</td>\n",
       "      <td>5.8</td>\n",
       "      <td>4.5</td>\n",
       "      <td>86</td>\n",
       "    </tr>\n",
       "  </tbody>\n",
       "</table>\n",
       "</div>"
      ],
      "text/plain": [
       "    Hours  Practice  TeamWork  Scores\n",
       "0     2.5       0.5       0.0      21\n",
       "1     5.1       1.5       0.5      47\n",
       "2     3.2       1.0       0.5      27\n",
       "3     8.5       3.7       1.2      75\n",
       "4     3.5       1.2       0.3      30\n",
       "5     1.5       0.2       0.0      20\n",
       "6     9.2       4.8       3.0      88\n",
       "7     5.5       3.2       2.0      60\n",
       "8     9.3       5.1       3.5      81\n",
       "9     2.7       1.5       0.0      25\n",
       "10    7.7       4.9       4.5      85\n",
       "11    5.9       3.1       2.1      62\n",
       "12    4.5       2.8       1.0      41\n",
       "13    3.3       2.2       1.1      42\n",
       "14    1.1       1.1       0.0      17\n",
       "15    8.9       6.2       6.0      95\n",
       "16    2.5       1.6       1.0      30\n",
       "17    1.9       0.9       0.5      24\n",
       "18    6.1       2.0       3.2      67\n",
       "19    7.4       2.5       3.0      69\n",
       "20    2.7       3.0       1.2      30\n",
       "21    4.8       2.9       2.1      54\n",
       "22    3.8       2.2       0.3      35\n",
       "23    6.9       5.1       3.8      76\n",
       "24    7.8       5.8       4.5      86"
      ]
     },
     "execution_count": 341,
     "metadata": {},
     "output_type": "execute_result"
    }
   ],
   "source": [
    "data = pd.read_csv('Data.csv')\n",
    "data"
   ]
  },
  {
   "cell_type": "code",
   "execution_count": 342,
   "id": "5bb7b8bc",
   "metadata": {},
   "outputs": [
    {
     "data": {
      "application/vnd.microsoft.datawrangler.viewer.v0+json": {
       "columns": [
        {
         "name": "index",
         "rawType": "int64",
         "type": "integer"
        },
        {
         "name": "Hours",
         "rawType": "float64",
         "type": "float"
        },
        {
         "name": "Practice",
         "rawType": "float64",
         "type": "float"
        },
        {
         "name": "TeamWork",
         "rawType": "float64",
         "type": "float"
        },
        {
         "name": "Scores",
         "rawType": "int64",
         "type": "integer"
        }
       ],
       "ref": "7562796d-0002-4c58-862e-36437b84dd82",
       "rows": [
        [
         "0",
         "2.5",
         "0.5",
         "0.0",
         "21"
        ],
        [
         "1",
         "5.1",
         "1.5",
         "0.5",
         "47"
        ],
        [
         "2",
         "3.2",
         "1.0",
         "0.5",
         "27"
        ],
        [
         "3",
         "8.5",
         "3.7",
         "1.2",
         "75"
        ],
        [
         "4",
         "3.5",
         "1.2",
         "0.3",
         "30"
        ],
        [
         "5",
         "1.5",
         "0.2",
         "0.0",
         "20"
        ],
        [
         "6",
         "9.2",
         "4.8",
         "3.0",
         "88"
        ],
        [
         "7",
         "5.5",
         "3.2",
         "2.0",
         "60"
        ],
        [
         "8",
         "9.3",
         "5.1",
         "3.5",
         "81"
        ],
        [
         "9",
         "2.7",
         "1.5",
         "0.0",
         "25"
        ],
        [
         "10",
         "7.7",
         "4.9",
         "4.5",
         "85"
        ],
        [
         "11",
         "5.9",
         "3.1",
         "2.1",
         "62"
        ],
        [
         "12",
         "4.5",
         "2.8",
         "1.0",
         "41"
        ],
        [
         "13",
         "3.3",
         "2.2",
         "1.1",
         "42"
        ],
        [
         "14",
         "1.1",
         "1.1",
         "0.0",
         "17"
        ],
        [
         "15",
         "8.9",
         "6.2",
         "6.0",
         "95"
        ],
        [
         "16",
         "2.5",
         "1.6",
         "1.0",
         "30"
        ],
        [
         "17",
         "1.9",
         "0.9",
         "0.5",
         "24"
        ],
        [
         "18",
         "6.1",
         "2.0",
         "3.2",
         "67"
        ],
        [
         "19",
         "7.4",
         "2.5",
         "3.0",
         "69"
        ],
        [
         "20",
         "2.7",
         "3.0",
         "1.2",
         "30"
        ],
        [
         "21",
         "4.8",
         "2.9",
         "2.1",
         "54"
        ],
        [
         "22",
         "3.8",
         "2.2",
         "0.3",
         "35"
        ],
        [
         "23",
         "6.9",
         "5.1",
         "3.8",
         "76"
        ],
        [
         "24",
         "7.8",
         "5.8",
         "4.5",
         "86"
        ]
       ],
       "shape": {
        "columns": 4,
        "rows": 25
       }
      },
      "text/html": [
       "<div>\n",
       "<style scoped>\n",
       "    .dataframe tbody tr th:only-of-type {\n",
       "        vertical-align: middle;\n",
       "    }\n",
       "\n",
       "    .dataframe tbody tr th {\n",
       "        vertical-align: top;\n",
       "    }\n",
       "\n",
       "    .dataframe thead th {\n",
       "        text-align: right;\n",
       "    }\n",
       "</style>\n",
       "<table border=\"1\" class=\"dataframe\">\n",
       "  <thead>\n",
       "    <tr style=\"text-align: right;\">\n",
       "      <th></th>\n",
       "      <th>Hours</th>\n",
       "      <th>Practice</th>\n",
       "      <th>TeamWork</th>\n",
       "      <th>Scores</th>\n",
       "    </tr>\n",
       "  </thead>\n",
       "  <tbody>\n",
       "    <tr>\n",
       "      <th>0</th>\n",
       "      <td>2.5</td>\n",
       "      <td>0.5</td>\n",
       "      <td>0.0</td>\n",
       "      <td>21</td>\n",
       "    </tr>\n",
       "    <tr>\n",
       "      <th>1</th>\n",
       "      <td>5.1</td>\n",
       "      <td>1.5</td>\n",
       "      <td>0.5</td>\n",
       "      <td>47</td>\n",
       "    </tr>\n",
       "    <tr>\n",
       "      <th>2</th>\n",
       "      <td>3.2</td>\n",
       "      <td>1.0</td>\n",
       "      <td>0.5</td>\n",
       "      <td>27</td>\n",
       "    </tr>\n",
       "    <tr>\n",
       "      <th>3</th>\n",
       "      <td>8.5</td>\n",
       "      <td>3.7</td>\n",
       "      <td>1.2</td>\n",
       "      <td>75</td>\n",
       "    </tr>\n",
       "    <tr>\n",
       "      <th>4</th>\n",
       "      <td>3.5</td>\n",
       "      <td>1.2</td>\n",
       "      <td>0.3</td>\n",
       "      <td>30</td>\n",
       "    </tr>\n",
       "    <tr>\n",
       "      <th>5</th>\n",
       "      <td>1.5</td>\n",
       "      <td>0.2</td>\n",
       "      <td>0.0</td>\n",
       "      <td>20</td>\n",
       "    </tr>\n",
       "    <tr>\n",
       "      <th>6</th>\n",
       "      <td>9.2</td>\n",
       "      <td>4.8</td>\n",
       "      <td>3.0</td>\n",
       "      <td>88</td>\n",
       "    </tr>\n",
       "    <tr>\n",
       "      <th>7</th>\n",
       "      <td>5.5</td>\n",
       "      <td>3.2</td>\n",
       "      <td>2.0</td>\n",
       "      <td>60</td>\n",
       "    </tr>\n",
       "    <tr>\n",
       "      <th>8</th>\n",
       "      <td>9.3</td>\n",
       "      <td>5.1</td>\n",
       "      <td>3.5</td>\n",
       "      <td>81</td>\n",
       "    </tr>\n",
       "    <tr>\n",
       "      <th>9</th>\n",
       "      <td>2.7</td>\n",
       "      <td>1.5</td>\n",
       "      <td>0.0</td>\n",
       "      <td>25</td>\n",
       "    </tr>\n",
       "    <tr>\n",
       "      <th>10</th>\n",
       "      <td>7.7</td>\n",
       "      <td>4.9</td>\n",
       "      <td>4.5</td>\n",
       "      <td>85</td>\n",
       "    </tr>\n",
       "    <tr>\n",
       "      <th>11</th>\n",
       "      <td>5.9</td>\n",
       "      <td>3.1</td>\n",
       "      <td>2.1</td>\n",
       "      <td>62</td>\n",
       "    </tr>\n",
       "    <tr>\n",
       "      <th>12</th>\n",
       "      <td>4.5</td>\n",
       "      <td>2.8</td>\n",
       "      <td>1.0</td>\n",
       "      <td>41</td>\n",
       "    </tr>\n",
       "    <tr>\n",
       "      <th>13</th>\n",
       "      <td>3.3</td>\n",
       "      <td>2.2</td>\n",
       "      <td>1.1</td>\n",
       "      <td>42</td>\n",
       "    </tr>\n",
       "    <tr>\n",
       "      <th>14</th>\n",
       "      <td>1.1</td>\n",
       "      <td>1.1</td>\n",
       "      <td>0.0</td>\n",
       "      <td>17</td>\n",
       "    </tr>\n",
       "    <tr>\n",
       "      <th>15</th>\n",
       "      <td>8.9</td>\n",
       "      <td>6.2</td>\n",
       "      <td>6.0</td>\n",
       "      <td>95</td>\n",
       "    </tr>\n",
       "    <tr>\n",
       "      <th>16</th>\n",
       "      <td>2.5</td>\n",
       "      <td>1.6</td>\n",
       "      <td>1.0</td>\n",
       "      <td>30</td>\n",
       "    </tr>\n",
       "    <tr>\n",
       "      <th>17</th>\n",
       "      <td>1.9</td>\n",
       "      <td>0.9</td>\n",
       "      <td>0.5</td>\n",
       "      <td>24</td>\n",
       "    </tr>\n",
       "    <tr>\n",
       "      <th>18</th>\n",
       "      <td>6.1</td>\n",
       "      <td>2.0</td>\n",
       "      <td>3.2</td>\n",
       "      <td>67</td>\n",
       "    </tr>\n",
       "    <tr>\n",
       "      <th>19</th>\n",
       "      <td>7.4</td>\n",
       "      <td>2.5</td>\n",
       "      <td>3.0</td>\n",
       "      <td>69</td>\n",
       "    </tr>\n",
       "    <tr>\n",
       "      <th>20</th>\n",
       "      <td>2.7</td>\n",
       "      <td>3.0</td>\n",
       "      <td>1.2</td>\n",
       "      <td>30</td>\n",
       "    </tr>\n",
       "    <tr>\n",
       "      <th>21</th>\n",
       "      <td>4.8</td>\n",
       "      <td>2.9</td>\n",
       "      <td>2.1</td>\n",
       "      <td>54</td>\n",
       "    </tr>\n",
       "    <tr>\n",
       "      <th>22</th>\n",
       "      <td>3.8</td>\n",
       "      <td>2.2</td>\n",
       "      <td>0.3</td>\n",
       "      <td>35</td>\n",
       "    </tr>\n",
       "    <tr>\n",
       "      <th>23</th>\n",
       "      <td>6.9</td>\n",
       "      <td>5.1</td>\n",
       "      <td>3.8</td>\n",
       "      <td>76</td>\n",
       "    </tr>\n",
       "    <tr>\n",
       "      <th>24</th>\n",
       "      <td>7.8</td>\n",
       "      <td>5.8</td>\n",
       "      <td>4.5</td>\n",
       "      <td>86</td>\n",
       "    </tr>\n",
       "  </tbody>\n",
       "</table>\n",
       "</div>"
      ],
      "text/plain": [
       "    Hours  Practice  TeamWork  Scores\n",
       "0     2.5       0.5       0.0      21\n",
       "1     5.1       1.5       0.5      47\n",
       "2     3.2       1.0       0.5      27\n",
       "3     8.5       3.7       1.2      75\n",
       "4     3.5       1.2       0.3      30\n",
       "5     1.5       0.2       0.0      20\n",
       "6     9.2       4.8       3.0      88\n",
       "7     5.5       3.2       2.0      60\n",
       "8     9.3       5.1       3.5      81\n",
       "9     2.7       1.5       0.0      25\n",
       "10    7.7       4.9       4.5      85\n",
       "11    5.9       3.1       2.1      62\n",
       "12    4.5       2.8       1.0      41\n",
       "13    3.3       2.2       1.1      42\n",
       "14    1.1       1.1       0.0      17\n",
       "15    8.9       6.2       6.0      95\n",
       "16    2.5       1.6       1.0      30\n",
       "17    1.9       0.9       0.5      24\n",
       "18    6.1       2.0       3.2      67\n",
       "19    7.4       2.5       3.0      69\n",
       "20    2.7       3.0       1.2      30\n",
       "21    4.8       2.9       2.1      54\n",
       "22    3.8       2.2       0.3      35\n",
       "23    6.9       5.1       3.8      76\n",
       "24    7.8       5.8       4.5      86"
      ]
     },
     "execution_count": 342,
     "metadata": {},
     "output_type": "execute_result"
    }
   ],
   "source": [
    "df=pd.DataFrame(data,columns=['Hours','Practice','TeamWork','Scores'])\n",
    "df"
   ]
  },
  {
   "cell_type": "code",
   "execution_count": 343,
   "id": "84efeed6",
   "metadata": {},
   "outputs": [
    {
     "data": {
      "application/vnd.microsoft.datawrangler.viewer.v0+json": {
       "columns": [
        {
         "name": "index",
         "rawType": "object",
         "type": "string"
        },
        {
         "name": "Hours",
         "rawType": "float64",
         "type": "float"
        },
        {
         "name": "Practice",
         "rawType": "float64",
         "type": "float"
        },
        {
         "name": "TeamWork",
         "rawType": "float64",
         "type": "float"
        },
        {
         "name": "Scores",
         "rawType": "float64",
         "type": "float"
        }
       ],
       "ref": "d08f83b5-64ad-4b37-9f7d-c651c71300bd",
       "rows": [
        [
         "count",
         "25.0",
         "25.0",
         "25.0",
         "25.0"
        ],
        [
         "mean",
         "5.052",
         "2.7600000000000007",
         "1.8119999999999998",
         "51.48"
        ],
        [
         "std",
         "2.5865227623201",
         "1.722885177060077",
         "1.6978712161605976",
         "25.28688724747802"
        ],
        [
         "min",
         "1.1",
         "0.2",
         "0.0",
         "17.0"
        ],
        [
         "25%",
         "2.7",
         "1.5",
         "0.5",
         "30.0"
        ],
        [
         "50%",
         "4.8",
         "2.5",
         "1.2",
         "47.0"
        ],
        [
         "75%",
         "7.4",
         "3.7",
         "3.0",
         "75.0"
        ],
        [
         "max",
         "9.3",
         "6.2",
         "6.0",
         "95.0"
        ]
       ],
       "shape": {
        "columns": 4,
        "rows": 8
       }
      },
      "text/html": [
       "<div>\n",
       "<style scoped>\n",
       "    .dataframe tbody tr th:only-of-type {\n",
       "        vertical-align: middle;\n",
       "    }\n",
       "\n",
       "    .dataframe tbody tr th {\n",
       "        vertical-align: top;\n",
       "    }\n",
       "\n",
       "    .dataframe thead th {\n",
       "        text-align: right;\n",
       "    }\n",
       "</style>\n",
       "<table border=\"1\" class=\"dataframe\">\n",
       "  <thead>\n",
       "    <tr style=\"text-align: right;\">\n",
       "      <th></th>\n",
       "      <th>Hours</th>\n",
       "      <th>Practice</th>\n",
       "      <th>TeamWork</th>\n",
       "      <th>Scores</th>\n",
       "    </tr>\n",
       "  </thead>\n",
       "  <tbody>\n",
       "    <tr>\n",
       "      <th>count</th>\n",
       "      <td>25.000000</td>\n",
       "      <td>25.000000</td>\n",
       "      <td>25.000000</td>\n",
       "      <td>25.000000</td>\n",
       "    </tr>\n",
       "    <tr>\n",
       "      <th>mean</th>\n",
       "      <td>5.052000</td>\n",
       "      <td>2.760000</td>\n",
       "      <td>1.812000</td>\n",
       "      <td>51.480000</td>\n",
       "    </tr>\n",
       "    <tr>\n",
       "      <th>std</th>\n",
       "      <td>2.586523</td>\n",
       "      <td>1.722885</td>\n",
       "      <td>1.697871</td>\n",
       "      <td>25.286887</td>\n",
       "    </tr>\n",
       "    <tr>\n",
       "      <th>min</th>\n",
       "      <td>1.100000</td>\n",
       "      <td>0.200000</td>\n",
       "      <td>0.000000</td>\n",
       "      <td>17.000000</td>\n",
       "    </tr>\n",
       "    <tr>\n",
       "      <th>25%</th>\n",
       "      <td>2.700000</td>\n",
       "      <td>1.500000</td>\n",
       "      <td>0.500000</td>\n",
       "      <td>30.000000</td>\n",
       "    </tr>\n",
       "    <tr>\n",
       "      <th>50%</th>\n",
       "      <td>4.800000</td>\n",
       "      <td>2.500000</td>\n",
       "      <td>1.200000</td>\n",
       "      <td>47.000000</td>\n",
       "    </tr>\n",
       "    <tr>\n",
       "      <th>75%</th>\n",
       "      <td>7.400000</td>\n",
       "      <td>3.700000</td>\n",
       "      <td>3.000000</td>\n",
       "      <td>75.000000</td>\n",
       "    </tr>\n",
       "    <tr>\n",
       "      <th>max</th>\n",
       "      <td>9.300000</td>\n",
       "      <td>6.200000</td>\n",
       "      <td>6.000000</td>\n",
       "      <td>95.000000</td>\n",
       "    </tr>\n",
       "  </tbody>\n",
       "</table>\n",
       "</div>"
      ],
      "text/plain": [
       "           Hours   Practice   TeamWork     Scores\n",
       "count  25.000000  25.000000  25.000000  25.000000\n",
       "mean    5.052000   2.760000   1.812000  51.480000\n",
       "std     2.586523   1.722885   1.697871  25.286887\n",
       "min     1.100000   0.200000   0.000000  17.000000\n",
       "25%     2.700000   1.500000   0.500000  30.000000\n",
       "50%     4.800000   2.500000   1.200000  47.000000\n",
       "75%     7.400000   3.700000   3.000000  75.000000\n",
       "max     9.300000   6.200000   6.000000  95.000000"
      ]
     },
     "execution_count": 343,
     "metadata": {},
     "output_type": "execute_result"
    }
   ],
   "source": [
    "df.describe()"
   ]
  },
  {
   "cell_type": "code",
   "execution_count": 344,
   "id": "1b120e6b",
   "metadata": {},
   "outputs": [
    {
     "name": "stdout",
     "output_type": "stream",
     "text": [
      "<class 'pandas.core.frame.DataFrame'>\n",
      "RangeIndex: 25 entries, 0 to 24\n",
      "Data columns (total 4 columns):\n",
      " #   Column    Non-Null Count  Dtype  \n",
      "---  ------    --------------  -----  \n",
      " 0   Hours     25 non-null     float64\n",
      " 1   Practice  25 non-null     float64\n",
      " 2   TeamWork  25 non-null     float64\n",
      " 3   Scores    25 non-null     int64  \n",
      "dtypes: float64(3), int64(1)\n",
      "memory usage: 932.0 bytes\n"
     ]
    }
   ],
   "source": [
    "df.info()"
   ]
  },
  {
   "cell_type": "code",
   "execution_count": 345,
   "id": "8bdd7e04",
   "metadata": {},
   "outputs": [
    {
     "data": {
      "text/plain": [
       "Index(['Hours', 'Practice', 'TeamWork', 'Scores'], dtype='object')"
      ]
     },
     "execution_count": 345,
     "metadata": {},
     "output_type": "execute_result"
    }
   ],
   "source": [
    "df.columns"
   ]
  },
  {
   "cell_type": "code",
   "execution_count": 348,
   "id": "55bdac8f",
   "metadata": {},
   "outputs": [],
   "source": [
    "X = pd.DataFrame(data,columns=['Hours','Practice','TeamWork'])\n",
    "Y = data['Scores'].values.reshape(-1,1)\n"
   ]
  },
  {
   "cell_type": "code",
   "execution_count": 349,
   "id": "84844481",
   "metadata": {},
   "outputs": [],
   "source": [
    "X_train,X_test,Y_train,Y_test = train_test_split(X,Y,test_size=0.2,random_state=0)"
   ]
  },
  {
   "cell_type": "code",
   "execution_count": 267,
   "id": "6f7d4629",
   "metadata": {},
   "outputs": [],
   "source": [
    "regresore = LinearRegression()"
   ]
  },
  {
   "cell_type": "code",
   "execution_count": 268,
   "id": "56563a61",
   "metadata": {},
   "outputs": [
    {
     "data": {
      "text/html": [
       "<style>#sk-container-id-9 {\n",
       "  /* Definition of color scheme common for light and dark mode */\n",
       "  --sklearn-color-text: #000;\n",
       "  --sklearn-color-text-muted: #666;\n",
       "  --sklearn-color-line: gray;\n",
       "  /* Definition of color scheme for unfitted estimators */\n",
       "  --sklearn-color-unfitted-level-0: #fff5e6;\n",
       "  --sklearn-color-unfitted-level-1: #f6e4d2;\n",
       "  --sklearn-color-unfitted-level-2: #ffe0b3;\n",
       "  --sklearn-color-unfitted-level-3: chocolate;\n",
       "  /* Definition of color scheme for fitted estimators */\n",
       "  --sklearn-color-fitted-level-0: #f0f8ff;\n",
       "  --sklearn-color-fitted-level-1: #d4ebff;\n",
       "  --sklearn-color-fitted-level-2: #b3dbfd;\n",
       "  --sklearn-color-fitted-level-3: cornflowerblue;\n",
       "\n",
       "  /* Specific color for light theme */\n",
       "  --sklearn-color-text-on-default-background: var(--sg-text-color, var(--theme-code-foreground, var(--jp-content-font-color1, black)));\n",
       "  --sklearn-color-background: var(--sg-background-color, var(--theme-background, var(--jp-layout-color0, white)));\n",
       "  --sklearn-color-border-box: var(--sg-text-color, var(--theme-code-foreground, var(--jp-content-font-color1, black)));\n",
       "  --sklearn-color-icon: #696969;\n",
       "\n",
       "  @media (prefers-color-scheme: dark) {\n",
       "    /* Redefinition of color scheme for dark theme */\n",
       "    --sklearn-color-text-on-default-background: var(--sg-text-color, var(--theme-code-foreground, var(--jp-content-font-color1, white)));\n",
       "    --sklearn-color-background: var(--sg-background-color, var(--theme-background, var(--jp-layout-color0, #111)));\n",
       "    --sklearn-color-border-box: var(--sg-text-color, var(--theme-code-foreground, var(--jp-content-font-color1, white)));\n",
       "    --sklearn-color-icon: #878787;\n",
       "  }\n",
       "}\n",
       "\n",
       "#sk-container-id-9 {\n",
       "  color: var(--sklearn-color-text);\n",
       "}\n",
       "\n",
       "#sk-container-id-9 pre {\n",
       "  padding: 0;\n",
       "}\n",
       "\n",
       "#sk-container-id-9 input.sk-hidden--visually {\n",
       "  border: 0;\n",
       "  clip: rect(1px 1px 1px 1px);\n",
       "  clip: rect(1px, 1px, 1px, 1px);\n",
       "  height: 1px;\n",
       "  margin: -1px;\n",
       "  overflow: hidden;\n",
       "  padding: 0;\n",
       "  position: absolute;\n",
       "  width: 1px;\n",
       "}\n",
       "\n",
       "#sk-container-id-9 div.sk-dashed-wrapped {\n",
       "  border: 1px dashed var(--sklearn-color-line);\n",
       "  margin: 0 0.4em 0.5em 0.4em;\n",
       "  box-sizing: border-box;\n",
       "  padding-bottom: 0.4em;\n",
       "  background-color: var(--sklearn-color-background);\n",
       "}\n",
       "\n",
       "#sk-container-id-9 div.sk-container {\n",
       "  /* jupyter's `normalize.less` sets `[hidden] { display: none; }`\n",
       "     but bootstrap.min.css set `[hidden] { display: none !important; }`\n",
       "     so we also need the `!important` here to be able to override the\n",
       "     default hidden behavior on the sphinx rendered scikit-learn.org.\n",
       "     See: https://github.com/scikit-learn/scikit-learn/issues/21755 */\n",
       "  display: inline-block !important;\n",
       "  position: relative;\n",
       "}\n",
       "\n",
       "#sk-container-id-9 div.sk-text-repr-fallback {\n",
       "  display: none;\n",
       "}\n",
       "\n",
       "div.sk-parallel-item,\n",
       "div.sk-serial,\n",
       "div.sk-item {\n",
       "  /* draw centered vertical line to link estimators */\n",
       "  background-image: linear-gradient(var(--sklearn-color-text-on-default-background), var(--sklearn-color-text-on-default-background));\n",
       "  background-size: 2px 100%;\n",
       "  background-repeat: no-repeat;\n",
       "  background-position: center center;\n",
       "}\n",
       "\n",
       "/* Parallel-specific style estimator block */\n",
       "\n",
       "#sk-container-id-9 div.sk-parallel-item::after {\n",
       "  content: \"\";\n",
       "  width: 100%;\n",
       "  border-bottom: 2px solid var(--sklearn-color-text-on-default-background);\n",
       "  flex-grow: 1;\n",
       "}\n",
       "\n",
       "#sk-container-id-9 div.sk-parallel {\n",
       "  display: flex;\n",
       "  align-items: stretch;\n",
       "  justify-content: center;\n",
       "  background-color: var(--sklearn-color-background);\n",
       "  position: relative;\n",
       "}\n",
       "\n",
       "#sk-container-id-9 div.sk-parallel-item {\n",
       "  display: flex;\n",
       "  flex-direction: column;\n",
       "}\n",
       "\n",
       "#sk-container-id-9 div.sk-parallel-item:first-child::after {\n",
       "  align-self: flex-end;\n",
       "  width: 50%;\n",
       "}\n",
       "\n",
       "#sk-container-id-9 div.sk-parallel-item:last-child::after {\n",
       "  align-self: flex-start;\n",
       "  width: 50%;\n",
       "}\n",
       "\n",
       "#sk-container-id-9 div.sk-parallel-item:only-child::after {\n",
       "  width: 0;\n",
       "}\n",
       "\n",
       "/* Serial-specific style estimator block */\n",
       "\n",
       "#sk-container-id-9 div.sk-serial {\n",
       "  display: flex;\n",
       "  flex-direction: column;\n",
       "  align-items: center;\n",
       "  background-color: var(--sklearn-color-background);\n",
       "  padding-right: 1em;\n",
       "  padding-left: 1em;\n",
       "}\n",
       "\n",
       "\n",
       "/* Toggleable style: style used for estimator/Pipeline/ColumnTransformer box that is\n",
       "clickable and can be expanded/collapsed.\n",
       "- Pipeline and ColumnTransformer use this feature and define the default style\n",
       "- Estimators will overwrite some part of the style using the `sk-estimator` class\n",
       "*/\n",
       "\n",
       "/* Pipeline and ColumnTransformer style (default) */\n",
       "\n",
       "#sk-container-id-9 div.sk-toggleable {\n",
       "  /* Default theme specific background. It is overwritten whether we have a\n",
       "  specific estimator or a Pipeline/ColumnTransformer */\n",
       "  background-color: var(--sklearn-color-background);\n",
       "}\n",
       "\n",
       "/* Toggleable label */\n",
       "#sk-container-id-9 label.sk-toggleable__label {\n",
       "  cursor: pointer;\n",
       "  display: flex;\n",
       "  width: 100%;\n",
       "  margin-bottom: 0;\n",
       "  padding: 0.5em;\n",
       "  box-sizing: border-box;\n",
       "  text-align: center;\n",
       "  align-items: start;\n",
       "  justify-content: space-between;\n",
       "  gap: 0.5em;\n",
       "}\n",
       "\n",
       "#sk-container-id-9 label.sk-toggleable__label .caption {\n",
       "  font-size: 0.6rem;\n",
       "  font-weight: lighter;\n",
       "  color: var(--sklearn-color-text-muted);\n",
       "}\n",
       "\n",
       "#sk-container-id-9 label.sk-toggleable__label-arrow:before {\n",
       "  /* Arrow on the left of the label */\n",
       "  content: \"▸\";\n",
       "  float: left;\n",
       "  margin-right: 0.25em;\n",
       "  color: var(--sklearn-color-icon);\n",
       "}\n",
       "\n",
       "#sk-container-id-9 label.sk-toggleable__label-arrow:hover:before {\n",
       "  color: var(--sklearn-color-text);\n",
       "}\n",
       "\n",
       "/* Toggleable content - dropdown */\n",
       "\n",
       "#sk-container-id-9 div.sk-toggleable__content {\n",
       "  max-height: 0;\n",
       "  max-width: 0;\n",
       "  overflow: hidden;\n",
       "  text-align: left;\n",
       "  /* unfitted */\n",
       "  background-color: var(--sklearn-color-unfitted-level-0);\n",
       "}\n",
       "\n",
       "#sk-container-id-9 div.sk-toggleable__content.fitted {\n",
       "  /* fitted */\n",
       "  background-color: var(--sklearn-color-fitted-level-0);\n",
       "}\n",
       "\n",
       "#sk-container-id-9 div.sk-toggleable__content pre {\n",
       "  margin: 0.2em;\n",
       "  border-radius: 0.25em;\n",
       "  color: var(--sklearn-color-text);\n",
       "  /* unfitted */\n",
       "  background-color: var(--sklearn-color-unfitted-level-0);\n",
       "}\n",
       "\n",
       "#sk-container-id-9 div.sk-toggleable__content.fitted pre {\n",
       "  /* unfitted */\n",
       "  background-color: var(--sklearn-color-fitted-level-0);\n",
       "}\n",
       "\n",
       "#sk-container-id-9 input.sk-toggleable__control:checked~div.sk-toggleable__content {\n",
       "  /* Expand drop-down */\n",
       "  max-height: 200px;\n",
       "  max-width: 100%;\n",
       "  overflow: auto;\n",
       "}\n",
       "\n",
       "#sk-container-id-9 input.sk-toggleable__control:checked~label.sk-toggleable__label-arrow:before {\n",
       "  content: \"▾\";\n",
       "}\n",
       "\n",
       "/* Pipeline/ColumnTransformer-specific style */\n",
       "\n",
       "#sk-container-id-9 div.sk-label input.sk-toggleable__control:checked~label.sk-toggleable__label {\n",
       "  color: var(--sklearn-color-text);\n",
       "  background-color: var(--sklearn-color-unfitted-level-2);\n",
       "}\n",
       "\n",
       "#sk-container-id-9 div.sk-label.fitted input.sk-toggleable__control:checked~label.sk-toggleable__label {\n",
       "  background-color: var(--sklearn-color-fitted-level-2);\n",
       "}\n",
       "\n",
       "/* Estimator-specific style */\n",
       "\n",
       "/* Colorize estimator box */\n",
       "#sk-container-id-9 div.sk-estimator input.sk-toggleable__control:checked~label.sk-toggleable__label {\n",
       "  /* unfitted */\n",
       "  background-color: var(--sklearn-color-unfitted-level-2);\n",
       "}\n",
       "\n",
       "#sk-container-id-9 div.sk-estimator.fitted input.sk-toggleable__control:checked~label.sk-toggleable__label {\n",
       "  /* fitted */\n",
       "  background-color: var(--sklearn-color-fitted-level-2);\n",
       "}\n",
       "\n",
       "#sk-container-id-9 div.sk-label label.sk-toggleable__label,\n",
       "#sk-container-id-9 div.sk-label label {\n",
       "  /* The background is the default theme color */\n",
       "  color: var(--sklearn-color-text-on-default-background);\n",
       "}\n",
       "\n",
       "/* On hover, darken the color of the background */\n",
       "#sk-container-id-9 div.sk-label:hover label.sk-toggleable__label {\n",
       "  color: var(--sklearn-color-text);\n",
       "  background-color: var(--sklearn-color-unfitted-level-2);\n",
       "}\n",
       "\n",
       "/* Label box, darken color on hover, fitted */\n",
       "#sk-container-id-9 div.sk-label.fitted:hover label.sk-toggleable__label.fitted {\n",
       "  color: var(--sklearn-color-text);\n",
       "  background-color: var(--sklearn-color-fitted-level-2);\n",
       "}\n",
       "\n",
       "/* Estimator label */\n",
       "\n",
       "#sk-container-id-9 div.sk-label label {\n",
       "  font-family: monospace;\n",
       "  font-weight: bold;\n",
       "  display: inline-block;\n",
       "  line-height: 1.2em;\n",
       "}\n",
       "\n",
       "#sk-container-id-9 div.sk-label-container {\n",
       "  text-align: center;\n",
       "}\n",
       "\n",
       "/* Estimator-specific */\n",
       "#sk-container-id-9 div.sk-estimator {\n",
       "  font-family: monospace;\n",
       "  border: 1px dotted var(--sklearn-color-border-box);\n",
       "  border-radius: 0.25em;\n",
       "  box-sizing: border-box;\n",
       "  margin-bottom: 0.5em;\n",
       "  /* unfitted */\n",
       "  background-color: var(--sklearn-color-unfitted-level-0);\n",
       "}\n",
       "\n",
       "#sk-container-id-9 div.sk-estimator.fitted {\n",
       "  /* fitted */\n",
       "  background-color: var(--sklearn-color-fitted-level-0);\n",
       "}\n",
       "\n",
       "/* on hover */\n",
       "#sk-container-id-9 div.sk-estimator:hover {\n",
       "  /* unfitted */\n",
       "  background-color: var(--sklearn-color-unfitted-level-2);\n",
       "}\n",
       "\n",
       "#sk-container-id-9 div.sk-estimator.fitted:hover {\n",
       "  /* fitted */\n",
       "  background-color: var(--sklearn-color-fitted-level-2);\n",
       "}\n",
       "\n",
       "/* Specification for estimator info (e.g. \"i\" and \"?\") */\n",
       "\n",
       "/* Common style for \"i\" and \"?\" */\n",
       "\n",
       ".sk-estimator-doc-link,\n",
       "a:link.sk-estimator-doc-link,\n",
       "a:visited.sk-estimator-doc-link {\n",
       "  float: right;\n",
       "  font-size: smaller;\n",
       "  line-height: 1em;\n",
       "  font-family: monospace;\n",
       "  background-color: var(--sklearn-color-background);\n",
       "  border-radius: 1em;\n",
       "  height: 1em;\n",
       "  width: 1em;\n",
       "  text-decoration: none !important;\n",
       "  margin-left: 0.5em;\n",
       "  text-align: center;\n",
       "  /* unfitted */\n",
       "  border: var(--sklearn-color-unfitted-level-1) 1pt solid;\n",
       "  color: var(--sklearn-color-unfitted-level-1);\n",
       "}\n",
       "\n",
       ".sk-estimator-doc-link.fitted,\n",
       "a:link.sk-estimator-doc-link.fitted,\n",
       "a:visited.sk-estimator-doc-link.fitted {\n",
       "  /* fitted */\n",
       "  border: var(--sklearn-color-fitted-level-1) 1pt solid;\n",
       "  color: var(--sklearn-color-fitted-level-1);\n",
       "}\n",
       "\n",
       "/* On hover */\n",
       "div.sk-estimator:hover .sk-estimator-doc-link:hover,\n",
       ".sk-estimator-doc-link:hover,\n",
       "div.sk-label-container:hover .sk-estimator-doc-link:hover,\n",
       ".sk-estimator-doc-link:hover {\n",
       "  /* unfitted */\n",
       "  background-color: var(--sklearn-color-unfitted-level-3);\n",
       "  color: var(--sklearn-color-background);\n",
       "  text-decoration: none;\n",
       "}\n",
       "\n",
       "div.sk-estimator.fitted:hover .sk-estimator-doc-link.fitted:hover,\n",
       ".sk-estimator-doc-link.fitted:hover,\n",
       "div.sk-label-container:hover .sk-estimator-doc-link.fitted:hover,\n",
       ".sk-estimator-doc-link.fitted:hover {\n",
       "  /* fitted */\n",
       "  background-color: var(--sklearn-color-fitted-level-3);\n",
       "  color: var(--sklearn-color-background);\n",
       "  text-decoration: none;\n",
       "}\n",
       "\n",
       "/* Span, style for the box shown on hovering the info icon */\n",
       ".sk-estimator-doc-link span {\n",
       "  display: none;\n",
       "  z-index: 9999;\n",
       "  position: relative;\n",
       "  font-weight: normal;\n",
       "  right: .2ex;\n",
       "  padding: .5ex;\n",
       "  margin: .5ex;\n",
       "  width: min-content;\n",
       "  min-width: 20ex;\n",
       "  max-width: 50ex;\n",
       "  color: var(--sklearn-color-text);\n",
       "  box-shadow: 2pt 2pt 4pt #999;\n",
       "  /* unfitted */\n",
       "  background: var(--sklearn-color-unfitted-level-0);\n",
       "  border: .5pt solid var(--sklearn-color-unfitted-level-3);\n",
       "}\n",
       "\n",
       ".sk-estimator-doc-link.fitted span {\n",
       "  /* fitted */\n",
       "  background: var(--sklearn-color-fitted-level-0);\n",
       "  border: var(--sklearn-color-fitted-level-3);\n",
       "}\n",
       "\n",
       ".sk-estimator-doc-link:hover span {\n",
       "  display: block;\n",
       "}\n",
       "\n",
       "/* \"?\"-specific style due to the `<a>` HTML tag */\n",
       "\n",
       "#sk-container-id-9 a.estimator_doc_link {\n",
       "  float: right;\n",
       "  font-size: 1rem;\n",
       "  line-height: 1em;\n",
       "  font-family: monospace;\n",
       "  background-color: var(--sklearn-color-background);\n",
       "  border-radius: 1rem;\n",
       "  height: 1rem;\n",
       "  width: 1rem;\n",
       "  text-decoration: none;\n",
       "  /* unfitted */\n",
       "  color: var(--sklearn-color-unfitted-level-1);\n",
       "  border: var(--sklearn-color-unfitted-level-1) 1pt solid;\n",
       "}\n",
       "\n",
       "#sk-container-id-9 a.estimator_doc_link.fitted {\n",
       "  /* fitted */\n",
       "  border: var(--sklearn-color-fitted-level-1) 1pt solid;\n",
       "  color: var(--sklearn-color-fitted-level-1);\n",
       "}\n",
       "\n",
       "/* On hover */\n",
       "#sk-container-id-9 a.estimator_doc_link:hover {\n",
       "  /* unfitted */\n",
       "  background-color: var(--sklearn-color-unfitted-level-3);\n",
       "  color: var(--sklearn-color-background);\n",
       "  text-decoration: none;\n",
       "}\n",
       "\n",
       "#sk-container-id-9 a.estimator_doc_link.fitted:hover {\n",
       "  /* fitted */\n",
       "  background-color: var(--sklearn-color-fitted-level-3);\n",
       "}\n",
       "</style><div id=\"sk-container-id-9\" class=\"sk-top-container\"><div class=\"sk-text-repr-fallback\"><pre>LinearRegression()</pre><b>In a Jupyter environment, please rerun this cell to show the HTML representation or trust the notebook. <br />On GitHub, the HTML representation is unable to render, please try loading this page with nbviewer.org.</b></div><div class=\"sk-container\" hidden><div class=\"sk-item\"><div class=\"sk-estimator fitted sk-toggleable\"><input class=\"sk-toggleable__control sk-hidden--visually\" id=\"sk-estimator-id-9\" type=\"checkbox\" checked><label for=\"sk-estimator-id-9\" class=\"sk-toggleable__label fitted sk-toggleable__label-arrow\"><div><div>LinearRegression</div></div><div><a class=\"sk-estimator-doc-link fitted\" rel=\"noreferrer\" target=\"_blank\" href=\"https://scikit-learn.org/1.6/modules/generated/sklearn.linear_model.LinearRegression.html\">?<span>Documentation for LinearRegression</span></a><span class=\"sk-estimator-doc-link fitted\">i<span>Fitted</span></span></div></label><div class=\"sk-toggleable__content fitted\"><pre>LinearRegression()</pre></div> </div></div></div></div>"
      ],
      "text/plain": [
       "LinearRegression()"
      ]
     },
     "execution_count": 268,
     "metadata": {},
     "output_type": "execute_result"
    }
   ],
   "source": [
    "regresore.fit(X_train,Y_train)"
   ]
  },
  {
   "cell_type": "code",
   "execution_count": 269,
   "id": "5fc8e7f6",
   "metadata": {},
   "outputs": [],
   "source": [
    "Y_pred = regresore.predict(X_test)"
   ]
  },
  {
   "cell_type": "code",
   "execution_count": 333,
   "id": "a2e15324",
   "metadata": {},
   "outputs": [
    {
     "data": {
      "text/plain": [
       "array([[ 32.29721684],\n",
       "       [ 47.52462159],\n",
       "       [104.79055067],\n",
       "       [ 62.36005265],\n",
       "       [ 58.19618857]])"
      ]
     },
     "execution_count": 333,
     "metadata": {},
     "output_type": "execute_result"
    }
   ],
   "source": [
    "Y_pred"
   ]
  },
  {
   "cell_type": "code",
   "execution_count": 351,
   "id": "2b40cb17",
   "metadata": {},
   "outputs": [
    {
     "data": {
      "image/png": "[encoded data removed]",
      "text/plain": [
       "<Figure size 640x480 with 1 Axes>"
      ]
     },
     "metadata": {},
     "output_type": "display_data"
    }
   ],
   "source": [
    "sns.scatterplot(\n",
    "    x=X_test.Hours, \n",
    "    y=Y_test.ravel(), \n",
    "    s=100,\n",
    "    color='blue',\n",
    "    alpha=0.5,\n",
    "    edgecolor='darkred',\n",
    "    linewidth=1.5,\n",
    "    label='test'\n",
    ")\n",
    "sns.scatterplot(\n",
    "    x=X_test.Hours, \n",
    "    y=Y_pred.ravel(), \n",
    "    s=100,\n",
    "    color='red',\n",
    "    alpha=0.5,\n",
    "    edgecolor='darkred',\n",
    "    linewidth=1.5,\n",
    "    label='predict'\n",
    ")\n",
    "plt.title('Student & Scores', fontsize=16, color='darkblue')\n",
    "plt.xlabel('Hours', fontsize=14, color='darkgreen')\n",
    "plt.ylabel('Scores', fontsize=14, color='darkgreen')\n",
    "plt.grid(True, alpha=0.3)\n",
    "plt.xticks(fontsize=12)\n",
    "plt.yticks(fontsize=12)\n",
    "plt.legend()\n",
    "plt.show()"
   ]
  },
  {
   "cell_type": "code",
   "execution_count": 272,
   "id": "607f5784",
   "metadata": {},
   "outputs": [
    {
     "data": {
      "text/plain": [
       "Index(['Hours', 'Practice', 'TeamWork', 'Scores'], dtype='object')"
      ]
     },
     "execution_count": 272,
     "metadata": {},
     "output_type": "execute_result"
    }
   ],
   "source": [
    "df.columns"
   ]
  },
  {
   "cell_type": "code",
   "execution_count": 273,
   "id": "276b7008",
   "metadata": {},
   "outputs": [
    {
     "data": {
      "image/png": "[encoded data removed]",
      "text/plain": [
       "<Figure size 640x480 with 1 Axes>"
      ]
     },
     "metadata": {},
     "output_type": "display_data"
    }
   ],
   "source": [
    "sns.scatterplot(\n",
    "    x=X_test.Practice, \n",
    "    y=Y_test.ravel(), \n",
    "    s=100,\n",
    "    color='blue',\n",
    "    alpha=0.5,\n",
    "    edgecolor='darkred',\n",
    "    linewidth=1.5,\n",
    "    label='test'\n",
    ")\n",
    "sns.scatterplot(\n",
    "    x=X_test.Practice, \n",
    "    y=Y_pred.ravel(), \n",
    "    s=100,\n",
    "    color='red',\n",
    "    alpha=0.5,\n",
    "    edgecolor='darkred',\n",
    "    linewidth=1.5,\n",
    "    label='predict'\n",
    ")\n",
    "plt.title('Student & Scores', fontsize=16, color='darkblue')\n",
    "plt.xlabel('Hours', fontsize=14, color='darkgreen')\n",
    "plt.ylabel('Scores', fontsize=14, color='darkgreen')\n",
    "plt.grid(True, alpha=0.3)\n",
    "plt.xticks(fontsize=12)\n",
    "plt.yticks(fontsize=12)\n",
    "plt.legend(loc='upper left')\n",
    "\n",
    "plt.show()"
   ]
  },
  {
   "cell_type": "code",
   "execution_count": 195,
   "id": "5712e1e6",
   "metadata": {},
   "outputs": [
    {
     "data": {
      "image/png": "[encoded data removed]",
      "text/plain": [
       "<Figure size 640x480 with 1 Axes>"
      ]
     },
     "metadata": {},
     "output_type": "display_data"
    }
   ],
   "source": [
    "sns.scatterplot(\n",
    "    x=X_test.TeamWork, \n",
    "    y=Y_test.ravel(), \n",
    "    s=100,\n",
    "    color='blue',\n",
    "    alpha=0.5,\n",
    "    edgecolor='darkred',\n",
    "    linewidth=1.5,\n",
    "    label='test'\n",
    ")\n",
    "sns.scatterplot(\n",
    "    x=X_test.TeamWork, \n",
    "    y=Y_pred.ravel(), \n",
    "    s=100,\n",
    "    color='red',\n",
    "    alpha=0.5,\n",
    "    edgecolor='darkred',\n",
    "    linewidth=1.5,\n",
    "    label='predict'\n",
    ")\n",
    "plt.title('Student & Scores', fontsize=16, color='darkblue')\n",
    "plt.xlabel('Hours', fontsize=14, color='darkgreen')\n",
    "plt.ylabel('Scores', fontsize=14, color='darkgreen')\n",
    "plt.grid(True, alpha=0.3)\n",
    "plt.xticks(fontsize=12)\n",
    "plt.yticks(fontsize=12)\n",
    "plt.legend(loc='upper left')\n",
    "\n",
    "plt.show()"
   ]
  },
  {
   "cell_type": "code",
   "execution_count": 274,
   "id": "a12a7477",
   "metadata": {},
   "outputs": [
    {
     "data": {
      "image/png": "[encoded data removed]",
      "text/plain": [
       "<Figure size 1800x500 with 3 Axes>"
      ]
     },
     "metadata": {},
     "output_type": "display_data"
    }
   ],
   "source": [
    "fig, axes = plt.subplots(1, 3, figsize=(18, 5))\n",
    "\n",
    "features = ['Hours', 'Practice', 'TeamWork']\n",
    "titles = ['Hours vs Scores', 'Practice vs Scores', 'TeamWork vs Scores']\n",
    "\n",
    "for ax, feature, title in zip(axes, features, titles):\n",
    "    sns.scatterplot(\n",
    "        x=X_test[feature], \n",
    "        y=Y_test.ravel(), \n",
    "        s=80,\n",
    "        color='blue',\n",
    "        alpha=0.5,\n",
    "        edgecolor='darkred',\n",
    "        linewidth=1.2,\n",
    "        label='Test',\n",
    "        ax=ax\n",
    "    )\n",
    "    sns.scatterplot(\n",
    "        x=X_test[feature], \n",
    "        y=Y_pred.ravel(), \n",
    "        s=80,\n",
    "        color='red',\n",
    "        alpha=0.5,\n",
    "        edgecolor='darkred',\n",
    "        linewidth=1.2,\n",
    "        label='Predicted',\n",
    "        ax=ax\n",
    "    )\n",
    "    ax.set_title(title, fontsize=14, color='darkblue')\n",
    "    ax.set_xlabel(feature, fontsize=12, color='darkgreen')\n",
    "    ax.set_ylabel('Scores', fontsize=12, color='darkgreen')\n",
    "    ax.grid(True, alpha=0.3)\n",
    "    ax.legend(loc='upper left')\n",
    "    ax.tick_params(axis='both', labelsize=10)\n",
    "\n",
    "plt.tight_layout()\n",
    "plt.show()\n"
   ]
  },
  {
   "cell_type": "code",
   "execution_count": 275,
   "id": "fb08cc4e",
   "metadata": {},
   "outputs": [
    {
     "data": {
      "image/png": "[encoded data removed]",
      "text/plain": [
       "<Figure size 640x480 with 1 Axes>"
      ]
     },
     "metadata": {},
     "output_type": "display_data"
    }
   ],
   "source": [
    "sns.scatterplot(\n",
    "    x=X_test.Hours, \n",
    "    y=Y_test.ravel(), \n",
    "    s=100,\n",
    "    color='blue',\n",
    "    alpha=0.5,\n",
    "    edgecolor='darkred',\n",
    "    linewidth=1.5,\n",
    "    label='test'\n",
    ")\n",
    "plt.plot(\n",
    "    X_test.Hours, \n",
    "    Y_pred.ravel(), \n",
    "    color='red',\n",
    "    label='Predicted'\n",
    ")\n",
    "plt.title('Student & Scores', fontsize=16, color='darkblue')\n",
    "plt.xlabel('Hours', fontsize=14, color='darkgreen')\n",
    "plt.ylabel('Scores', fontsize=14, color='darkgreen')\n",
    "plt.grid(True, alpha=0.3)\n",
    "plt.xticks(fontsize=12)\n",
    "plt.yticks(fontsize=12)\n",
    "plt.legend()\n",
    "plt.show()"
   ]
  },
  {
   "cell_type": "code",
   "execution_count": 276,
   "id": "e811254e",
   "metadata": {},
   "outputs": [
    {
     "data": {
      "application/vnd.microsoft.datawrangler.viewer.v0+json": {
       "columns": [
        {
         "name": "index",
         "rawType": "int64",
         "type": "integer"
        },
        {
         "name": "Hours",
         "rawType": "float64",
         "type": "float"
        },
        {
         "name": "Practice",
         "rawType": "float64",
         "type": "float"
        },
        {
         "name": "TeamWork",
         "rawType": "float64",
         "type": "float"
        }
       ],
       "ref": "08d1a676-810b-41fa-b479-8c05b0ac1510",
       "rows": [
        [
         "5",
         "1.5",
         "0.2",
         "0.0"
        ],
        [
         "2",
         "3.2",
         "1.0",
         "0.5"
        ],
        [
         "19",
         "7.4",
         "2.5",
         "3.0"
        ],
        [
         "16",
         "2.5",
         "1.6",
         "1.0"
        ],
        [
         "11",
         "5.9",
         "3.1",
         "2.1"
        ]
       ],
       "shape": {
        "columns": 3,
        "rows": 5
       }
      },
      "text/html": [
       "<div>\n",
       "<style scoped>\n",
       "    .dataframe tbody tr th:only-of-type {\n",
       "        vertical-align: middle;\n",
       "    }\n",
       "\n",
       "    .dataframe tbody tr th {\n",
       "        vertical-align: top;\n",
       "    }\n",
       "\n",
       "    .dataframe thead th {\n",
       "        text-align: right;\n",
       "    }\n",
       "</style>\n",
       "<table border=\"1\" class=\"dataframe\">\n",
       "  <thead>\n",
       "    <tr style=\"text-align: right;\">\n",
       "      <th></th>\n",
       "      <th>Hours</th>\n",
       "      <th>Practice</th>\n",
       "      <th>TeamWork</th>\n",
       "    </tr>\n",
       "  </thead>\n",
       "  <tbody>\n",
       "    <tr>\n",
       "      <th>5</th>\n",
       "      <td>1.5</td>\n",
       "      <td>0.2</td>\n",
       "      <td>0.0</td>\n",
       "    </tr>\n",
       "    <tr>\n",
       "      <th>2</th>\n",
       "      <td>3.2</td>\n",
       "      <td>1.0</td>\n",
       "      <td>0.5</td>\n",
       "    </tr>\n",
       "    <tr>\n",
       "      <th>19</th>\n",
       "      <td>7.4</td>\n",
       "      <td>2.5</td>\n",
       "      <td>3.0</td>\n",
       "    </tr>\n",
       "    <tr>\n",
       "      <th>16</th>\n",
       "      <td>2.5</td>\n",
       "      <td>1.6</td>\n",
       "      <td>1.0</td>\n",
       "    </tr>\n",
       "    <tr>\n",
       "      <th>11</th>\n",
       "      <td>5.9</td>\n",
       "      <td>3.1</td>\n",
       "      <td>2.1</td>\n",
       "    </tr>\n",
       "  </tbody>\n",
       "</table>\n",
       "</div>"
      ],
      "text/plain": [
       "    Hours  Practice  TeamWork\n",
       "5     1.5       0.2       0.0\n",
       "2     3.2       1.0       0.5\n",
       "19    7.4       2.5       3.0\n",
       "16    2.5       1.6       1.0\n",
       "11    5.9       3.1       2.1"
      ]
     },
     "execution_count": 276,
     "metadata": {},
     "output_type": "execute_result"
    }
   ],
   "source": [
    "X_test"
   ]
  },
  {
   "cell_type": "code",
   "execution_count": 277,
   "id": "02d84dc9",
   "metadata": {},
   "outputs": [
    {
     "data": {
      "application/vnd.microsoft.datawrangler.viewer.v0+json": {
       "columns": [
        {
         "name": "index",
         "rawType": "int64",
         "type": "integer"
        },
        {
         "name": "Hours",
         "rawType": "float64",
         "type": "float"
        },
        {
         "name": "Practice",
         "rawType": "float64",
         "type": "float"
        },
        {
         "name": "TeamWork",
         "rawType": "float64",
         "type": "float"
        },
        {
         "name": "Y_test",
         "rawType": "int64",
         "type": "integer"
        },
        {
         "name": "Y_pred",
         "rawType": "float64",
         "type": "float"
        }
       ],
       "ref": "6ed12a77-6f9e-4e24-9503-edd5e4ced5d8",
       "rows": [
        [
         "5",
         "1.5",
         "0.2",
         "0.0",
         "20",
         "18.533986118545435"
        ],
        [
         "2",
         "3.2",
         "1.0",
         "0.5",
         "27",
         "32.56779010912577"
        ],
        [
         "19",
         "7.4",
         "2.5",
         "3.0",
         "69",
         "73.67221622449937"
        ],
        [
         "16",
         "2.5",
         "1.6",
         "1.0",
         "30",
         "30.34124366035521"
        ],
        [
         "11",
         "5.9",
         "3.1",
         "2.1",
         "62",
         "58.919476203071696"
        ]
       ],
       "shape": {
        "columns": 5,
        "rows": 5
       }
      },
      "text/html": [
       "<div>\n",
       "<style scoped>\n",
       "    .dataframe tbody tr th:only-of-type {\n",
       "        vertical-align: middle;\n",
       "    }\n",
       "\n",
       "    .dataframe tbody tr th {\n",
       "        vertical-align: top;\n",
       "    }\n",
       "\n",
       "    .dataframe thead th {\n",
       "        text-align: right;\n",
       "    }\n",
       "</style>\n",
       "<table border=\"1\" class=\"dataframe\">\n",
       "  <thead>\n",
       "    <tr style=\"text-align: right;\">\n",
       "      <th></th>\n",
       "      <th>Hours</th>\n",
       "      <th>Practice</th>\n",
       "      <th>TeamWork</th>\n",
       "      <th>Y_test</th>\n",
       "      <th>Y_pred</th>\n",
       "    </tr>\n",
       "  </thead>\n",
       "  <tbody>\n",
       "    <tr>\n",
       "      <th>5</th>\n",
       "      <td>1.5</td>\n",
       "      <td>0.2</td>\n",
       "      <td>0.0</td>\n",
       "      <td>20</td>\n",
       "      <td>18.533986</td>\n",
       "    </tr>\n",
       "    <tr>\n",
       "      <th>2</th>\n",
       "      <td>3.2</td>\n",
       "      <td>1.0</td>\n",
       "      <td>0.5</td>\n",
       "      <td>27</td>\n",
       "      <td>32.567790</td>\n",
       "    </tr>\n",
       "    <tr>\n",
       "      <th>19</th>\n",
       "      <td>7.4</td>\n",
       "      <td>2.5</td>\n",
       "      <td>3.0</td>\n",
       "      <td>69</td>\n",
       "      <td>73.672216</td>\n",
       "    </tr>\n",
       "    <tr>\n",
       "      <th>16</th>\n",
       "      <td>2.5</td>\n",
       "      <td>1.6</td>\n",
       "      <td>1.0</td>\n",
       "      <td>30</td>\n",
       "      <td>30.341244</td>\n",
       "    </tr>\n",
       "    <tr>\n",
       "      <th>11</th>\n",
       "      <td>5.9</td>\n",
       "      <td>3.1</td>\n",
       "      <td>2.1</td>\n",
       "      <td>62</td>\n",
       "      <td>58.919476</td>\n",
       "    </tr>\n",
       "  </tbody>\n",
       "</table>\n",
       "</div>"
      ],
      "text/plain": [
       "    Hours  Practice  TeamWork  Y_test     Y_pred\n",
       "5     1.5       0.2       0.0      20  18.533986\n",
       "2     3.2       1.0       0.5      27  32.567790\n",
       "19    7.4       2.5       3.0      69  73.672216\n",
       "16    2.5       1.6       1.0      30  30.341244\n",
       "11    5.9       3.1       2.1      62  58.919476"
      ]
     },
     "execution_count": 277,
     "metadata": {},
     "output_type": "execute_result"
    }
   ],
   "source": [
    "X_test.insert(3,'Y_test',Y_test)\n",
    "X_test.insert(4,'Y_pred',Y_pred)\n",
    "X_test"
   ]
  },
  {
   "cell_type": "code",
   "execution_count": 278,
   "id": "31fbd044",
   "metadata": {},
   "outputs": [
    {
     "data": {
      "application/vnd.microsoft.datawrangler.viewer.v0+json": {
       "columns": [
        {
         "name": "index",
         "rawType": "int64",
         "type": "integer"
        },
        {
         "name": "Hours",
         "rawType": "float64",
         "type": "float"
        },
        {
         "name": "Practice",
         "rawType": "float64",
         "type": "float"
        },
        {
         "name": "TeamWork",
         "rawType": "float64",
         "type": "float"
        },
        {
         "name": "Y_test",
         "rawType": "int64",
         "type": "integer"
        },
        {
         "name": "Y_pred",
         "rawType": "float64",
         "type": "float"
        }
       ],
       "ref": "16965f3a-0d57-49ac-a0fb-f081cbea3e56",
       "rows": [
        [
         "5",
         "1.5",
         "0.2",
         "0.0",
         "20",
         "18.533986118545435"
        ],
        [
         "16",
         "2.5",
         "1.6",
         "1.0",
         "30",
         "30.34124366035521"
        ],
        [
         "2",
         "3.2",
         "1.0",
         "0.5",
         "27",
         "32.56779010912577"
        ],
        [
         "11",
         "5.9",
         "3.1",
         "2.1",
         "62",
         "58.919476203071696"
        ],
        [
         "19",
         "7.4",
         "2.5",
         "3.0",
         "69",
         "73.67221622449937"
        ]
       ],
       "shape": {
        "columns": 5,
        "rows": 5
       }
      },
      "text/html": [
       "<div>\n",
       "<style scoped>\n",
       "    .dataframe tbody tr th:only-of-type {\n",
       "        vertical-align: middle;\n",
       "    }\n",
       "\n",
       "    .dataframe tbody tr th {\n",
       "        vertical-align: top;\n",
       "    }\n",
       "\n",
       "    .dataframe thead th {\n",
       "        text-align: right;\n",
       "    }\n",
       "</style>\n",
       "<table border=\"1\" class=\"dataframe\">\n",
       "  <thead>\n",
       "    <tr style=\"text-align: right;\">\n",
       "      <th></th>\n",
       "      <th>Hours</th>\n",
       "      <th>Practice</th>\n",
       "      <th>TeamWork</th>\n",
       "      <th>Y_test</th>\n",
       "      <th>Y_pred</th>\n",
       "    </tr>\n",
       "  </thead>\n",
       "  <tbody>\n",
       "    <tr>\n",
       "      <th>5</th>\n",
       "      <td>1.5</td>\n",
       "      <td>0.2</td>\n",
       "      <td>0.0</td>\n",
       "      <td>20</td>\n",
       "      <td>18.533986</td>\n",
       "    </tr>\n",
       "    <tr>\n",
       "      <th>16</th>\n",
       "      <td>2.5</td>\n",
       "      <td>1.6</td>\n",
       "      <td>1.0</td>\n",
       "      <td>30</td>\n",
       "      <td>30.341244</td>\n",
       "    </tr>\n",
       "    <tr>\n",
       "      <th>2</th>\n",
       "      <td>3.2</td>\n",
       "      <td>1.0</td>\n",
       "      <td>0.5</td>\n",
       "      <td>27</td>\n",
       "      <td>32.567790</td>\n",
       "    </tr>\n",
       "    <tr>\n",
       "      <th>11</th>\n",
       "      <td>5.9</td>\n",
       "      <td>3.1</td>\n",
       "      <td>2.1</td>\n",
       "      <td>62</td>\n",
       "      <td>58.919476</td>\n",
       "    </tr>\n",
       "    <tr>\n",
       "      <th>19</th>\n",
       "      <td>7.4</td>\n",
       "      <td>2.5</td>\n",
       "      <td>3.0</td>\n",
       "      <td>69</td>\n",
       "      <td>73.672216</td>\n",
       "    </tr>\n",
       "  </tbody>\n",
       "</table>\n",
       "</div>"
      ],
      "text/plain": [
       "    Hours  Practice  TeamWork  Y_test     Y_pred\n",
       "5     1.5       0.2       0.0      20  18.533986\n",
       "16    2.5       1.6       1.0      30  30.341244\n",
       "2     3.2       1.0       0.5      27  32.567790\n",
       "11    5.9       3.1       2.1      62  58.919476\n",
       "19    7.4       2.5       3.0      69  73.672216"
      ]
     },
     "execution_count": 278,
     "metadata": {},
     "output_type": "execute_result"
    }
   ],
   "source": [
    "df2 = X_test.sort_values(by=[\"Hours\"])\n",
    "df2"
   ]
  },
  {
   "cell_type": "code",
   "execution_count": 279,
   "id": "4bc54af9",
   "metadata": {},
   "outputs": [
    {
     "data": {
      "image/png": "[encoded data removed]",
      "text/plain": [
       "<Figure size 640x480 with 1 Axes>"
      ]
     },
     "metadata": {},
     "output_type": "display_data"
    }
   ],
   "source": [
    "sns.scatterplot(\n",
    "    x=df2.Hours, \n",
    "    y=df2.Y_test, \n",
    "    s=100,\n",
    "    color='blue',\n",
    "    alpha=0.5,\n",
    "    edgecolor='darkred',\n",
    "    linewidth=1.5,\n",
    "    label='test'\n",
    ")\n",
    "plt.plot(\n",
    "    df2.Hours, \n",
    "    df2.Y_pred, \n",
    "    color='red',\n",
    "    label='Predicted'\n",
    ")\n",
    "plt.title('Student & Scores', fontsize=16, color='darkblue')\n",
    "plt.xlabel('Hours', fontsize=14, color='darkgreen')\n",
    "plt.ylabel('Scores', fontsize=14, color='darkgreen')\n",
    "plt.grid(True, alpha=0.3)\n",
    "plt.xticks(fontsize=12)\n",
    "plt.yticks(fontsize=12)\n",
    "plt.legend()\n",
    "plt.show()"
   ]
  },
  {
   "cell_type": "code",
   "execution_count": 280,
   "id": "15a68653",
   "metadata": {},
   "outputs": [
    {
     "data": {
      "application/vnd.microsoft.datawrangler.viewer.v0+json": {
       "columns": [
        {
         "name": "index",
         "rawType": "int64",
         "type": "integer"
        },
        {
         "name": "Hours",
         "rawType": "float64",
         "type": "float"
        },
        {
         "name": "Practice",
         "rawType": "float64",
         "type": "float"
        },
        {
         "name": "TeamWork",
         "rawType": "float64",
         "type": "float"
        },
        {
         "name": "Y_test",
         "rawType": "int64",
         "type": "integer"
        },
        {
         "name": "Y_pred",
         "rawType": "float64",
         "type": "float"
        }
       ],
       "ref": "2d503049-c1eb-4e4d-9709-1abaab441cdb",
       "rows": [
        [
         "5",
         "1.5",
         "0.2",
         "0.0",
         "20",
         "18.533986118545435"
        ],
        [
         "2",
         "3.2",
         "1.0",
         "0.5",
         "27",
         "32.56779010912577"
        ],
        [
         "16",
         "2.5",
         "1.6",
         "1.0",
         "30",
         "30.34124366035521"
        ],
        [
         "19",
         "7.4",
         "2.5",
         "3.0",
         "69",
         "73.67221622449937"
        ],
        [
         "11",
         "5.9",
         "3.1",
         "2.1",
         "62",
         "58.919476203071696"
        ]
       ],
       "shape": {
        "columns": 5,
        "rows": 5
       }
      },
      "text/html": [
       "<div>\n",
       "<style scoped>\n",
       "    .dataframe tbody tr th:only-of-type {\n",
       "        vertical-align: middle;\n",
       "    }\n",
       "\n",
       "    .dataframe tbody tr th {\n",
       "        vertical-align: top;\n",
       "    }\n",
       "\n",
       "    .dataframe thead th {\n",
       "        text-align: right;\n",
       "    }\n",
       "</style>\n",
       "<table border=\"1\" class=\"dataframe\">\n",
       "  <thead>\n",
       "    <tr style=\"text-align: right;\">\n",
       "      <th></th>\n",
       "      <th>Hours</th>\n",
       "      <th>Practice</th>\n",
       "      <th>TeamWork</th>\n",
       "      <th>Y_test</th>\n",
       "      <th>Y_pred</th>\n",
       "    </tr>\n",
       "  </thead>\n",
       "  <tbody>\n",
       "    <tr>\n",
       "      <th>5</th>\n",
       "      <td>1.5</td>\n",
       "      <td>0.2</td>\n",
       "      <td>0.0</td>\n",
       "      <td>20</td>\n",
       "      <td>18.533986</td>\n",
       "    </tr>\n",
       "    <tr>\n",
       "      <th>2</th>\n",
       "      <td>3.2</td>\n",
       "      <td>1.0</td>\n",
       "      <td>0.5</td>\n",
       "      <td>27</td>\n",
       "      <td>32.567790</td>\n",
       "    </tr>\n",
       "    <tr>\n",
       "      <th>16</th>\n",
       "      <td>2.5</td>\n",
       "      <td>1.6</td>\n",
       "      <td>1.0</td>\n",
       "      <td>30</td>\n",
       "      <td>30.341244</td>\n",
       "    </tr>\n",
       "    <tr>\n",
       "      <th>19</th>\n",
       "      <td>7.4</td>\n",
       "      <td>2.5</td>\n",
       "      <td>3.0</td>\n",
       "      <td>69</td>\n",
       "      <td>73.672216</td>\n",
       "    </tr>\n",
       "    <tr>\n",
       "      <th>11</th>\n",
       "      <td>5.9</td>\n",
       "      <td>3.1</td>\n",
       "      <td>2.1</td>\n",
       "      <td>62</td>\n",
       "      <td>58.919476</td>\n",
       "    </tr>\n",
       "  </tbody>\n",
       "</table>\n",
       "</div>"
      ],
      "text/plain": [
       "    Hours  Practice  TeamWork  Y_test     Y_pred\n",
       "5     1.5       0.2       0.0      20  18.533986\n",
       "2     3.2       1.0       0.5      27  32.567790\n",
       "16    2.5       1.6       1.0      30  30.341244\n",
       "19    7.4       2.5       3.0      69  73.672216\n",
       "11    5.9       3.1       2.1      62  58.919476"
      ]
     },
     "execution_count": 280,
     "metadata": {},
     "output_type": "execute_result"
    }
   ],
   "source": [
    "df2 = X_test.sort_values(by=[\"Practice\"])\n",
    "df2"
   ]
  },
  {
   "cell_type": "code",
   "execution_count": 203,
   "id": "4f529377",
   "metadata": {},
   "outputs": [
    {
     "data": {
      "image/png": "[encoded data removed]",
      "text/plain": [
       "<Figure size 640x480 with 1 Axes>"
      ]
     },
     "metadata": {},
     "output_type": "display_data"
    }
   ],
   "source": [
    "sns.scatterplot(\n",
    "    x=df2.Practice, \n",
    "    y=df2.Y_test, \n",
    "    s=100,\n",
    "    color='blue',\n",
    "    alpha=0.5,\n",
    "    edgecolor='darkred',\n",
    "    linewidth=1.5,\n",
    "    label='test'\n",
    ")\n",
    "plt.plot(\n",
    "    df2.Practice, \n",
    "    df2.Y_pred, \n",
    "    color='red',\n",
    "    label='Predicted'\n",
    ")\n",
    "plt.title('Student & Scores', fontsize=16, color='darkblue')\n",
    "plt.xlabel('Hours', fontsize=14, color='darkgreen')\n",
    "plt.ylabel('Scores', fontsize=14, color='darkgreen')\n",
    "plt.grid(True, alpha=0.3)\n",
    "plt.xticks(fontsize=12)\n",
    "plt.yticks(fontsize=12)\n",
    "plt.legend()\n",
    "plt.show()"
   ]
  },
  {
   "cell_type": "code",
   "execution_count": 204,
   "id": "68146fe8",
   "metadata": {},
   "outputs": [
    {
     "data": {
      "application/vnd.microsoft.datawrangler.viewer.v0+json": {
       "columns": [
        {
         "name": "index",
         "rawType": "int64",
         "type": "integer"
        },
        {
         "name": "Hours",
         "rawType": "float64",
         "type": "float"
        },
        {
         "name": "Practice",
         "rawType": "float64",
         "type": "float"
        },
        {
         "name": "TeamWork",
         "rawType": "float64",
         "type": "float"
        },
        {
         "name": "Y_test",
         "rawType": "int64",
         "type": "integer"
        },
        {
         "name": "Y_pred",
         "rawType": "float64",
         "type": "float"
        }
       ],
       "ref": "5f36239a-80d0-4a72-ab3a-aa65a78cb2e9",
       "rows": [
        [
         "5",
         "1.5",
         "0.2",
         "0.0",
         "20",
         "18.533986118545435"
        ],
        [
         "2",
         "3.2",
         "1.0",
         "0.5",
         "27",
         "32.56779010912577"
        ],
        [
         "16",
         "2.5",
         "1.6",
         "1.0",
         "30",
         "30.34124366035521"
        ],
        [
         "11",
         "5.9",
         "3.1",
         "2.1",
         "62",
         "58.919476203071696"
        ],
        [
         "19",
         "7.4",
         "2.5",
         "3.0",
         "69",
         "73.67221622449937"
        ]
       ],
       "shape": {
        "columns": 5,
        "rows": 5
       }
      },
      "text/html": [
       "<div>\n",
       "<style scoped>\n",
       "    .dataframe tbody tr th:only-of-type {\n",
       "        vertical-align: middle;\n",
       "    }\n",
       "\n",
       "    .dataframe tbody tr th {\n",
       "        vertical-align: top;\n",
       "    }\n",
       "\n",
       "    .dataframe thead th {\n",
       "        text-align: right;\n",
       "    }\n",
       "</style>\n",
       "<table border=\"1\" class=\"dataframe\">\n",
       "  <thead>\n",
       "    <tr style=\"text-align: right;\">\n",
       "      <th></th>\n",
       "      <th>Hours</th>\n",
       "      <th>Practice</th>\n",
       "      <th>TeamWork</th>\n",
       "      <th>Y_test</th>\n",
       "      <th>Y_pred</th>\n",
       "    </tr>\n",
       "  </thead>\n",
       "  <tbody>\n",
       "    <tr>\n",
       "      <th>5</th>\n",
       "      <td>1.5</td>\n",
       "      <td>0.2</td>\n",
       "      <td>0.0</td>\n",
       "      <td>20</td>\n",
       "      <td>18.533986</td>\n",
       "    </tr>\n",
       "    <tr>\n",
       "      <th>2</th>\n",
       "      <td>3.2</td>\n",
       "      <td>1.0</td>\n",
       "      <td>0.5</td>\n",
       "      <td>27</td>\n",
       "      <td>32.567790</td>\n",
       "    </tr>\n",
       "    <tr>\n",
       "      <th>16</th>\n",
       "      <td>2.5</td>\n",
       "      <td>1.6</td>\n",
       "      <td>1.0</td>\n",
       "      <td>30</td>\n",
       "      <td>30.341244</td>\n",
       "    </tr>\n",
       "    <tr>\n",
       "      <th>11</th>\n",
       "      <td>5.9</td>\n",
       "      <td>3.1</td>\n",
       "      <td>2.1</td>\n",
       "      <td>62</td>\n",
       "      <td>58.919476</td>\n",
       "    </tr>\n",
       "    <tr>\n",
       "      <th>19</th>\n",
       "      <td>7.4</td>\n",
       "      <td>2.5</td>\n",
       "      <td>3.0</td>\n",
       "      <td>69</td>\n",
       "      <td>73.672216</td>\n",
       "    </tr>\n",
       "  </tbody>\n",
       "</table>\n",
       "</div>"
      ],
      "text/plain": [
       "    Hours  Practice  TeamWork  Y_test     Y_pred\n",
       "5     1.5       0.2       0.0      20  18.533986\n",
       "2     3.2       1.0       0.5      27  32.567790\n",
       "16    2.5       1.6       1.0      30  30.341244\n",
       "11    5.9       3.1       2.1      62  58.919476\n",
       "19    7.4       2.5       3.0      69  73.672216"
      ]
     },
     "execution_count": 204,
     "metadata": {},
     "output_type": "execute_result"
    }
   ],
   "source": [
    "df2 = X_test.sort_values(by=[\"TeamWork\"])\n",
    "df2"
   ]
  },
  {
   "cell_type": "code",
   "execution_count": 205,
   "id": "2460313f",
   "metadata": {},
   "outputs": [
    {
     "data": {
      "image/png": "[encoded data removed]",
      "text/plain": [
       "<Figure size 640x480 with 1 Axes>"
      ]
     },
     "metadata": {},
     "output_type": "display_data"
    }
   ],
   "source": [
    "sns.scatterplot(\n",
    "    x=df2.TeamWork, \n",
    "    y=df2.Y_test, \n",
    "    s=100,\n",
    "    color='blue',\n",
    "    alpha=0.5,\n",
    "    edgecolor='darkred',\n",
    "    linewidth=1.5,\n",
    "    label='test'\n",
    ")\n",
    "plt.plot(\n",
    "    df2.TeamWork, \n",
    "    df2.Y_pred, \n",
    "    color='red',\n",
    "    label='Predicted'\n",
    ")\n",
    "plt.title('Student & Scores', fontsize=16, color='darkblue')\n",
    "plt.xlabel('Hours', fontsize=14, color='darkgreen')\n",
    "plt.ylabel('Scores', fontsize=14, color='darkgreen')\n",
    "plt.grid(True, alpha=0.3)\n",
    "plt.xticks(fontsize=12)\n",
    "plt.yticks(fontsize=12)\n",
    "plt.legend()\n",
    "plt.show()"
   ]
  },
  {
   "cell_type": "code",
   "execution_count": 281,
   "id": "2e71da85",
   "metadata": {},
   "outputs": [
    {
     "name": "stdout",
     "output_type": "stream",
     "text": [
      "[8.37366712]\n",
      "[[ 6.77781271 -0.03200033  5.07424529]]\n"
     ]
    }
   ],
   "source": [
    "print(regresore.intercept_)\n",
    "print(regresore.coef_)"
   ]
  },
  {
   "cell_type": "code",
   "execution_count": 283,
   "id": "91f31987",
   "metadata": {},
   "outputs": [
    {
     "data": {
      "application/vnd.microsoft.datawrangler.viewer.v0+json": {
       "columns": [
        {
         "name": "index",
         "rawType": "int64",
         "type": "integer"
        },
        {
         "name": "Actual",
         "rawType": "int64",
         "type": "integer"
        },
        {
         "name": "predicted",
         "rawType": "float64",
         "type": "float"
        }
       ],
       "ref": "c424c2a9-f442-47c1-9856-9974a263ffc6",
       "rows": [
        [
         "0",
         "20",
         "18.533986118545435"
        ],
        [
         "1",
         "27",
         "32.56779010912577"
        ],
        [
         "2",
         "69",
         "73.67221622449937"
        ],
        [
         "3",
         "30",
         "30.34124366035521"
        ],
        [
         "4",
         "62",
         "58.919476203071696"
        ]
       ],
       "shape": {
        "columns": 2,
        "rows": 5
       }
      },
      "text/html": [
       "<div>\n",
       "<style scoped>\n",
       "    .dataframe tbody tr th:only-of-type {\n",
       "        vertical-align: middle;\n",
       "    }\n",
       "\n",
       "    .dataframe tbody tr th {\n",
       "        vertical-align: top;\n",
       "    }\n",
       "\n",
       "    .dataframe thead th {\n",
       "        text-align: right;\n",
       "    }\n",
       "</style>\n",
       "<table border=\"1\" class=\"dataframe\">\n",
       "  <thead>\n",
       "    <tr style=\"text-align: right;\">\n",
       "      <th></th>\n",
       "      <th>Actual</th>\n",
       "      <th>predicted</th>\n",
       "    </tr>\n",
       "  </thead>\n",
       "  <tbody>\n",
       "    <tr>\n",
       "      <th>0</th>\n",
       "      <td>20</td>\n",
       "      <td>18.533986</td>\n",
       "    </tr>\n",
       "    <tr>\n",
       "      <th>1</th>\n",
       "      <td>27</td>\n",
       "      <td>32.567790</td>\n",
       "    </tr>\n",
       "    <tr>\n",
       "      <th>2</th>\n",
       "      <td>69</td>\n",
       "      <td>73.672216</td>\n",
       "    </tr>\n",
       "    <tr>\n",
       "      <th>3</th>\n",
       "      <td>30</td>\n",
       "      <td>30.341244</td>\n",
       "    </tr>\n",
       "    <tr>\n",
       "      <th>4</th>\n",
       "      <td>62</td>\n",
       "      <td>58.919476</td>\n",
       "    </tr>\n",
       "  </tbody>\n",
       "</table>\n",
       "</div>"
      ],
      "text/plain": [
       "   Actual  predicted\n",
       "0      20  18.533986\n",
       "1      27  32.567790\n",
       "2      69  73.672216\n",
       "3      30  30.341244\n",
       "4      62  58.919476"
      ]
     },
     "execution_count": 283,
     "metadata": {},
     "output_type": "execute_result"
    }
   ],
   "source": [
    "compare = pd.DataFrame({'Actual':Y_test.flatten(),'predicted':Y_pred.flatten()})\n",
    "compare"
   ]
  },
  {
   "cell_type": "code",
   "execution_count": 284,
   "id": "1163c6d1",
   "metadata": {},
   "outputs": [
    {
     "name": "stdout",
     "output_type": "stream",
     "text": [
      "Mean Absolute Error (MAE): 3.025557534472642\n",
      "Mean Squared Error (MSE): 12.9170323895091\n",
      "Root Mean Squared Error (RMSE): 3.5940273217532863\n",
      "R² Score: 0.9674009883164014\n"
     ]
    }
   ],
   "source": [
    "print('Mean Absolute Error (MAE):', metrics.mean_absolute_error(Y_test, Y_pred))\n",
    "print('Mean Squared Error (MSE):', metrics.mean_squared_error(Y_test, Y_pred))\n",
    "print('Root Mean Squared Error (RMSE):', np.sqrt(metrics.mean_squared_error(Y_test, Y_pred)))\n",
    "print('R² Score:', metrics.r2_score(Y_test, Y_pred))"
   ]
  },
  {
   "cell_type": "code",
   "execution_count": 305,
   "id": "a217952f",
   "metadata": {},
   "outputs": [],
   "source": [
    "df2 = pd.DataFrame({\"Hours\":[3.5,5,12,2,4],\n",
    "                    \"Practice\":[2,3,6,5,1],\n",
    "                    \"TeamWork\":[0,1,3,8,5],\n",
    "                    \"Scores\":[0,0,0,0,0]})"
   ]
  },
  {
   "cell_type": "code",
   "execution_count": 306,
   "id": "6e35113d",
   "metadata": {},
   "outputs": [
    {
     "data": {
      "application/vnd.microsoft.datawrangler.viewer.v0+json": {
       "columns": [
        {
         "name": "index",
         "rawType": "int64",
         "type": "integer"
        },
        {
         "name": "Hours",
         "rawType": "float64",
         "type": "float"
        },
        {
         "name": "Practice",
         "rawType": "float64",
         "type": "float"
        },
        {
         "name": "TeamWork",
         "rawType": "float64",
         "type": "float"
        },
        {
         "name": "Scores",
         "rawType": "int64",
         "type": "integer"
        }
       ],
       "ref": "d343aefd-ce77-4ea1-aeaa-06a9b5f8c78e",
       "rows": [
        [
         "0",
         "2.5",
         "0.5",
         "0.0",
         "21"
        ],
        [
         "1",
         "5.1",
         "1.5",
         "0.5",
         "47"
        ],
        [
         "2",
         "3.2",
         "1.0",
         "0.5",
         "27"
        ],
        [
         "3",
         "8.5",
         "3.7",
         "1.2",
         "75"
        ],
        [
         "4",
         "3.5",
         "1.2",
         "0.3",
         "30"
        ],
        [
         "5",
         "1.5",
         "0.2",
         "0.0",
         "20"
        ],
        [
         "6",
         "9.2",
         "4.8",
         "3.0",
         "88"
        ],
        [
         "7",
         "5.5",
         "3.2",
         "2.0",
         "60"
        ],
        [
         "8",
         "9.3",
         "5.1",
         "3.5",
         "81"
        ],
        [
         "9",
         "2.7",
         "1.5",
         "0.0",
         "25"
        ],
        [
         "10",
         "7.7",
         "4.9",
         "4.5",
         "85"
        ],
        [
         "11",
         "5.9",
         "3.1",
         "2.1",
         "62"
        ],
        [
         "12",
         "4.5",
         "2.8",
         "1.0",
         "41"
        ],
        [
         "13",
         "3.3",
         "2.2",
         "1.1",
         "42"
        ],
        [
         "14",
         "1.1",
         "1.1",
         "0.0",
         "17"
        ],
        [
         "15",
         "8.9",
         "6.2",
         "6.0",
         "95"
        ],
        [
         "16",
         "2.5",
         "1.6",
         "1.0",
         "30"
        ],
        [
         "17",
         "1.9",
         "0.9",
         "0.5",
         "24"
        ],
        [
         "18",
         "6.1",
         "2.0",
         "3.2",
         "67"
        ],
        [
         "19",
         "7.4",
         "2.5",
         "3.0",
         "69"
        ],
        [
         "20",
         "2.7",
         "3.0",
         "1.2",
         "30"
        ],
        [
         "21",
         "4.8",
         "2.9",
         "2.1",
         "54"
        ],
        [
         "22",
         "3.8",
         "2.2",
         "0.3",
         "35"
        ],
        [
         "23",
         "6.9",
         "5.1",
         "3.8",
         "76"
        ],
        [
         "24",
         "7.8",
         "5.8",
         "4.5",
         "86"
        ],
        [
         "25",
         "3.5",
         "2.0",
         "0.0",
         "0"
        ],
        [
         "26",
         "5.0",
         "3.0",
         "1.0",
         "0"
        ],
        [
         "27",
         "12.0",
         "6.0",
         "3.0",
         "0"
        ],
        [
         "28",
         "2.0",
         "5.0",
         "8.0",
         "0"
        ],
        [
         "29",
         "4.0",
         "1.0",
         "5.0",
         "0"
        ]
       ],
       "shape": {
        "columns": 4,
        "rows": 30
       }
      },
      "text/html": [
       "<div>\n",
       "<style scoped>\n",
       "    .dataframe tbody tr th:only-of-type {\n",
       "        vertical-align: middle;\n",
       "    }\n",
       "\n",
       "    .dataframe tbody tr th {\n",
       "        vertical-align: top;\n",
       "    }\n",
       "\n",
       "    .dataframe thead th {\n",
       "        text-align: right;\n",
       "    }\n",
       "</style>\n",
       "<table border=\"1\" class=\"dataframe\">\n",
       "  <thead>\n",
       "    <tr style=\"text-align: right;\">\n",
       "      <th></th>\n",
       "      <th>Hours</th>\n",
       "      <th>Practice</th>\n",
       "      <th>TeamWork</th>\n",
       "      <th>Scores</th>\n",
       "    </tr>\n",
       "  </thead>\n",
       "  <tbody>\n",
       "    <tr>\n",
       "      <th>0</th>\n",
       "      <td>2.5</td>\n",
       "      <td>0.5</td>\n",
       "      <td>0.0</td>\n",
       "      <td>21</td>\n",
       "    </tr>\n",
       "    <tr>\n",
       "      <th>1</th>\n",
       "      <td>5.1</td>\n",
       "      <td>1.5</td>\n",
       "      <td>0.5</td>\n",
       "      <td>47</td>\n",
       "    </tr>\n",
       "    <tr>\n",
       "      <th>2</th>\n",
       "      <td>3.2</td>\n",
       "      <td>1.0</td>\n",
       "      <td>0.5</td>\n",
       "      <td>27</td>\n",
       "    </tr>\n",
       "    <tr>\n",
       "      <th>3</th>\n",
       "      <td>8.5</td>\n",
       "      <td>3.7</td>\n",
       "      <td>1.2</td>\n",
       "      <td>75</td>\n",
       "    </tr>\n",
       "    <tr>\n",
       "      <th>4</th>\n",
       "      <td>3.5</td>\n",
       "      <td>1.2</td>\n",
       "      <td>0.3</td>\n",
       "      <td>30</td>\n",
       "    </tr>\n",
       "    <tr>\n",
       "      <th>5</th>\n",
       "      <td>1.5</td>\n",
       "      <td>0.2</td>\n",
       "      <td>0.0</td>\n",
       "      <td>20</td>\n",
       "    </tr>\n",
       "    <tr>\n",
       "      <th>6</th>\n",
       "      <td>9.2</td>\n",
       "      <td>4.8</td>\n",
       "      <td>3.0</td>\n",
       "      <td>88</td>\n",
       "    </tr>\n",
       "    <tr>\n",
       "      <th>7</th>\n",
       "      <td>5.5</td>\n",
       "      <td>3.2</td>\n",
       "      <td>2.0</td>\n",
       "      <td>60</td>\n",
       "    </tr>\n",
       "    <tr>\n",
       "      <th>8</th>\n",
       "      <td>9.3</td>\n",
       "      <td>5.1</td>\n",
       "      <td>3.5</td>\n",
       "      <td>81</td>\n",
       "    </tr>\n",
       "    <tr>\n",
       "      <th>9</th>\n",
       "      <td>2.7</td>\n",
       "      <td>1.5</td>\n",
       "      <td>0.0</td>\n",
       "      <td>25</td>\n",
       "    </tr>\n",
       "    <tr>\n",
       "      <th>10</th>\n",
       "      <td>7.7</td>\n",
       "      <td>4.9</td>\n",
       "      <td>4.5</td>\n",
       "      <td>85</td>\n",
       "    </tr>\n",
       "    <tr>\n",
       "      <th>11</th>\n",
       "      <td>5.9</td>\n",
       "      <td>3.1</td>\n",
       "      <td>2.1</td>\n",
       "      <td>62</td>\n",
       "    </tr>\n",
       "    <tr>\n",
       "      <th>12</th>\n",
       "      <td>4.5</td>\n",
       "      <td>2.8</td>\n",
       "      <td>1.0</td>\n",
       "      <td>41</td>\n",
       "    </tr>\n",
       "    <tr>\n",
       "      <th>13</th>\n",
       "      <td>3.3</td>\n",
       "      <td>2.2</td>\n",
       "      <td>1.1</td>\n",
       "      <td>42</td>\n",
       "    </tr>\n",
       "    <tr>\n",
       "      <th>14</th>\n",
       "      <td>1.1</td>\n",
       "      <td>1.1</td>\n",
       "      <td>0.0</td>\n",
       "      <td>17</td>\n",
       "    </tr>\n",
       "    <tr>\n",
       "      <th>15</th>\n",
       "      <td>8.9</td>\n",
       "      <td>6.2</td>\n",
       "      <td>6.0</td>\n",
       "      <td>95</td>\n",
       "    </tr>\n",
       "    <tr>\n",
       "      <th>16</th>\n",
       "      <td>2.5</td>\n",
       "      <td>1.6</td>\n",
       "      <td>1.0</td>\n",
       "      <td>30</td>\n",
       "    </tr>\n",
       "    <tr>\n",
       "      <th>17</th>\n",
       "      <td>1.9</td>\n",
       "      <td>0.9</td>\n",
       "      <td>0.5</td>\n",
       "      <td>24</td>\n",
       "    </tr>\n",
       "    <tr>\n",
       "      <th>18</th>\n",
       "      <td>6.1</td>\n",
       "      <td>2.0</td>\n",
       "      <td>3.2</td>\n",
       "      <td>67</td>\n",
       "    </tr>\n",
       "    <tr>\n",
       "      <th>19</th>\n",
       "      <td>7.4</td>\n",
       "      <td>2.5</td>\n",
       "      <td>3.0</td>\n",
       "      <td>69</td>\n",
       "    </tr>\n",
       "    <tr>\n",
       "      <th>20</th>\n",
       "      <td>2.7</td>\n",
       "      <td>3.0</td>\n",
       "      <td>1.2</td>\n",
       "      <td>30</td>\n",
       "    </tr>\n",
       "    <tr>\n",
       "      <th>21</th>\n",
       "      <td>4.8</td>\n",
       "      <td>2.9</td>\n",
       "      <td>2.1</td>\n",
       "      <td>54</td>\n",
       "    </tr>\n",
       "    <tr>\n",
       "      <th>22</th>\n",
       "      <td>3.8</td>\n",
       "      <td>2.2</td>\n",
       "      <td>0.3</td>\n",
       "      <td>35</td>\n",
       "    </tr>\n",
       "    <tr>\n",
       "      <th>23</th>\n",
       "      <td>6.9</td>\n",
       "      <td>5.1</td>\n",
       "      <td>3.8</td>\n",
       "      <td>76</td>\n",
       "    </tr>\n",
       "    <tr>\n",
       "      <th>24</th>\n",
       "      <td>7.8</td>\n",
       "      <td>5.8</td>\n",
       "      <td>4.5</td>\n",
       "      <td>86</td>\n",
       "    </tr>\n",
       "    <tr>\n",
       "      <th>25</th>\n",
       "      <td>3.5</td>\n",
       "      <td>2.0</td>\n",
       "      <td>0.0</td>\n",
       "      <td>0</td>\n",
       "    </tr>\n",
       "    <tr>\n",
       "      <th>26</th>\n",
       "      <td>5.0</td>\n",
       "      <td>3.0</td>\n",
       "      <td>1.0</td>\n",
       "      <td>0</td>\n",
       "    </tr>\n",
       "    <tr>\n",
       "      <th>27</th>\n",
       "      <td>12.0</td>\n",
       "      <td>6.0</td>\n",
       "      <td>3.0</td>\n",
       "      <td>0</td>\n",
       "    </tr>\n",
       "    <tr>\n",
       "      <th>28</th>\n",
       "      <td>2.0</td>\n",
       "      <td>5.0</td>\n",
       "      <td>8.0</td>\n",
       "      <td>0</td>\n",
       "    </tr>\n",
       "    <tr>\n",
       "      <th>29</th>\n",
       "      <td>4.0</td>\n",
       "      <td>1.0</td>\n",
       "      <td>5.0</td>\n",
       "      <td>0</td>\n",
       "    </tr>\n",
       "  </tbody>\n",
       "</table>\n",
       "</div>"
      ],
      "text/plain": [
       "    Hours  Practice  TeamWork  Scores\n",
       "0     2.5       0.5       0.0      21\n",
       "1     5.1       1.5       0.5      47\n",
       "2     3.2       1.0       0.5      27\n",
       "3     8.5       3.7       1.2      75\n",
       "4     3.5       1.2       0.3      30\n",
       "5     1.5       0.2       0.0      20\n",
       "6     9.2       4.8       3.0      88\n",
       "7     5.5       3.2       2.0      60\n",
       "8     9.3       5.1       3.5      81\n",
       "9     2.7       1.5       0.0      25\n",
       "10    7.7       4.9       4.5      85\n",
       "11    5.9       3.1       2.1      62\n",
       "12    4.5       2.8       1.0      41\n",
       "13    3.3       2.2       1.1      42\n",
       "14    1.1       1.1       0.0      17\n",
       "15    8.9       6.2       6.0      95\n",
       "16    2.5       1.6       1.0      30\n",
       "17    1.9       0.9       0.5      24\n",
       "18    6.1       2.0       3.2      67\n",
       "19    7.4       2.5       3.0      69\n",
       "20    2.7       3.0       1.2      30\n",
       "21    4.8       2.9       2.1      54\n",
       "22    3.8       2.2       0.3      35\n",
       "23    6.9       5.1       3.8      76\n",
       "24    7.8       5.8       4.5      86\n",
       "25    3.5       2.0       0.0       0\n",
       "26    5.0       3.0       1.0       0\n",
       "27   12.0       6.0       3.0       0\n",
       "28    2.0       5.0       8.0       0\n",
       "29    4.0       1.0       5.0       0"
      ]
     },
     "execution_count": 306,
     "metadata": {},
     "output_type": "execute_result"
    }
   ],
   "source": [
    "df3 = pd.concat([df, df2], ignore_index=True)\n",
    "df3"
   ]
  },
  {
   "cell_type": "code",
   "execution_count": 307,
   "id": "aae2afce",
   "metadata": {},
   "outputs": [],
   "source": [
    "train = df3.iloc[:25]\n",
    "test = df3.iloc[25:]"
   ]
  },
  {
   "cell_type": "code",
   "execution_count": 308,
   "id": "4d929dc8",
   "metadata": {},
   "outputs": [
    {
     "data": {
      "application/vnd.microsoft.datawrangler.viewer.v0+json": {
       "columns": [
        {
         "name": "index",
         "rawType": "int64",
         "type": "integer"
        },
        {
         "name": "Hours",
         "rawType": "float64",
         "type": "float"
        },
        {
         "name": "Practice",
         "rawType": "float64",
         "type": "float"
        },
        {
         "name": "TeamWork",
         "rawType": "float64",
         "type": "float"
        },
        {
         "name": "Scores",
         "rawType": "int64",
         "type": "integer"
        }
       ],
       "ref": "d1cd7d82-da1b-40ac-9018-50298b200b6f",
       "rows": [
        [
         "0",
         "2.5",
         "0.5",
         "0.0",
         "21"
        ],
        [
         "1",
         "5.1",
         "1.5",
         "0.5",
         "47"
        ],
        [
         "2",
         "3.2",
         "1.0",
         "0.5",
         "27"
        ],
        [
         "3",
         "8.5",
         "3.7",
         "1.2",
         "75"
        ],
        [
         "4",
         "3.5",
         "1.2",
         "0.3",
         "30"
        ],
        [
         "5",
         "1.5",
         "0.2",
         "0.0",
         "20"
        ],
        [
         "6",
         "9.2",
         "4.8",
         "3.0",
         "88"
        ],
        [
         "7",
         "5.5",
         "3.2",
         "2.0",
         "60"
        ],
        [
         "8",
         "9.3",
         "5.1",
         "3.5",
         "81"
        ],
        [
         "9",
         "2.7",
         "1.5",
         "0.0",
         "25"
        ],
        [
         "10",
         "7.7",
         "4.9",
         "4.5",
         "85"
        ],
        [
         "11",
         "5.9",
         "3.1",
         "2.1",
         "62"
        ],
        [
         "12",
         "4.5",
         "2.8",
         "1.0",
         "41"
        ],
        [
         "13",
         "3.3",
         "2.2",
         "1.1",
         "42"
        ],
        [
         "14",
         "1.1",
         "1.1",
         "0.0",
         "17"
        ],
        [
         "15",
         "8.9",
         "6.2",
         "6.0",
         "95"
        ],
        [
         "16",
         "2.5",
         "1.6",
         "1.0",
         "30"
        ],
        [
         "17",
         "1.9",
         "0.9",
         "0.5",
         "24"
        ],
        [
         "18",
         "6.1",
         "2.0",
         "3.2",
         "67"
        ],
        [
         "19",
         "7.4",
         "2.5",
         "3.0",
         "69"
        ],
        [
         "20",
         "2.7",
         "3.0",
         "1.2",
         "30"
        ],
        [
         "21",
         "4.8",
         "2.9",
         "2.1",
         "54"
        ],
        [
         "22",
         "3.8",
         "2.2",
         "0.3",
         "35"
        ],
        [
         "23",
         "6.9",
         "5.1",
         "3.8",
         "76"
        ],
        [
         "24",
         "7.8",
         "5.8",
         "4.5",
         "86"
        ]
       ],
       "shape": {
        "columns": 4,
        "rows": 25
       }
      },
      "text/html": [
       "<div>\n",
       "<style scoped>\n",
       "    .dataframe tbody tr th:only-of-type {\n",
       "        vertical-align: middle;\n",
       "    }\n",
       "\n",
       "    .dataframe tbody tr th {\n",
       "        vertical-align: top;\n",
       "    }\n",
       "\n",
       "    .dataframe thead th {\n",
       "        text-align: right;\n",
       "    }\n",
       "</style>\n",
       "<table border=\"1\" class=\"dataframe\">\n",
       "  <thead>\n",
       "    <tr style=\"text-align: right;\">\n",
       "      <th></th>\n",
       "      <th>Hours</th>\n",
       "      <th>Practice</th>\n",
       "      <th>TeamWork</th>\n",
       "      <th>Scores</th>\n",
       "    </tr>\n",
       "  </thead>\n",
       "  <tbody>\n",
       "    <tr>\n",
       "      <th>0</th>\n",
       "      <td>2.5</td>\n",
       "      <td>0.5</td>\n",
       "      <td>0.0</td>\n",
       "      <td>21</td>\n",
       "    </tr>\n",
       "    <tr>\n",
       "      <th>1</th>\n",
       "      <td>5.1</td>\n",
       "      <td>1.5</td>\n",
       "      <td>0.5</td>\n",
       "      <td>47</td>\n",
       "    </tr>\n",
       "    <tr>\n",
       "      <th>2</th>\n",
       "      <td>3.2</td>\n",
       "      <td>1.0</td>\n",
       "      <td>0.5</td>\n",
       "      <td>27</td>\n",
       "    </tr>\n",
       "    <tr>\n",
       "      <th>3</th>\n",
       "      <td>8.5</td>\n",
       "      <td>3.7</td>\n",
       "      <td>1.2</td>\n",
       "      <td>75</td>\n",
       "    </tr>\n",
       "    <tr>\n",
       "      <th>4</th>\n",
       "      <td>3.5</td>\n",
       "      <td>1.2</td>\n",
       "      <td>0.3</td>\n",
       "      <td>30</td>\n",
       "    </tr>\n",
       "    <tr>\n",
       "      <th>5</th>\n",
       "      <td>1.5</td>\n",
       "      <td>0.2</td>\n",
       "      <td>0.0</td>\n",
       "      <td>20</td>\n",
       "    </tr>\n",
       "    <tr>\n",
       "      <th>6</th>\n",
       "      <td>9.2</td>\n",
       "      <td>4.8</td>\n",
       "      <td>3.0</td>\n",
       "      <td>88</td>\n",
       "    </tr>\n",
       "    <tr>\n",
       "      <th>7</th>\n",
       "      <td>5.5</td>\n",
       "      <td>3.2</td>\n",
       "      <td>2.0</td>\n",
       "      <td>60</td>\n",
       "    </tr>\n",
       "    <tr>\n",
       "      <th>8</th>\n",
       "      <td>9.3</td>\n",
       "      <td>5.1</td>\n",
       "      <td>3.5</td>\n",
       "      <td>81</td>\n",
       "    </tr>\n",
       "    <tr>\n",
       "      <th>9</th>\n",
       "      <td>2.7</td>\n",
       "      <td>1.5</td>\n",
       "      <td>0.0</td>\n",
       "      <td>25</td>\n",
       "    </tr>\n",
       "    <tr>\n",
       "      <th>10</th>\n",
       "      <td>7.7</td>\n",
       "      <td>4.9</td>\n",
       "      <td>4.5</td>\n",
       "      <td>85</td>\n",
       "    </tr>\n",
       "    <tr>\n",
       "      <th>11</th>\n",
       "      <td>5.9</td>\n",
       "      <td>3.1</td>\n",
       "      <td>2.1</td>\n",
       "      <td>62</td>\n",
       "    </tr>\n",
       "    <tr>\n",
       "      <th>12</th>\n",
       "      <td>4.5</td>\n",
       "      <td>2.8</td>\n",
       "      <td>1.0</td>\n",
       "      <td>41</td>\n",
       "    </tr>\n",
       "    <tr>\n",
       "      <th>13</th>\n",
       "      <td>3.3</td>\n",
       "      <td>2.2</td>\n",
       "      <td>1.1</td>\n",
       "      <td>42</td>\n",
       "    </tr>\n",
       "    <tr>\n",
       "      <th>14</th>\n",
       "      <td>1.1</td>\n",
       "      <td>1.1</td>\n",
       "      <td>0.0</td>\n",
       "      <td>17</td>\n",
       "    </tr>\n",
       "    <tr>\n",
       "      <th>15</th>\n",
       "      <td>8.9</td>\n",
       "      <td>6.2</td>\n",
       "      <td>6.0</td>\n",
       "      <td>95</td>\n",
       "    </tr>\n",
       "    <tr>\n",
       "      <th>16</th>\n",
       "      <td>2.5</td>\n",
       "      <td>1.6</td>\n",
       "      <td>1.0</td>\n",
       "      <td>30</td>\n",
       "    </tr>\n",
       "    <tr>\n",
       "      <th>17</th>\n",
       "      <td>1.9</td>\n",
       "      <td>0.9</td>\n",
       "      <td>0.5</td>\n",
       "      <td>24</td>\n",
       "    </tr>\n",
       "    <tr>\n",
       "      <th>18</th>\n",
       "      <td>6.1</td>\n",
       "      <td>2.0</td>\n",
       "      <td>3.2</td>\n",
       "      <td>67</td>\n",
       "    </tr>\n",
       "    <tr>\n",
       "      <th>19</th>\n",
       "      <td>7.4</td>\n",
       "      <td>2.5</td>\n",
       "      <td>3.0</td>\n",
       "      <td>69</td>\n",
       "    </tr>\n",
       "    <tr>\n",
       "      <th>20</th>\n",
       "      <td>2.7</td>\n",
       "      <td>3.0</td>\n",
       "      <td>1.2</td>\n",
       "      <td>30</td>\n",
       "    </tr>\n",
       "    <tr>\n",
       "      <th>21</th>\n",
       "      <td>4.8</td>\n",
       "      <td>2.9</td>\n",
       "      <td>2.1</td>\n",
       "      <td>54</td>\n",
       "    </tr>\n",
       "    <tr>\n",
       "      <th>22</th>\n",
       "      <td>3.8</td>\n",
       "      <td>2.2</td>\n",
       "      <td>0.3</td>\n",
       "      <td>35</td>\n",
       "    </tr>\n",
       "    <tr>\n",
       "      <th>23</th>\n",
       "      <td>6.9</td>\n",
       "      <td>5.1</td>\n",
       "      <td>3.8</td>\n",
       "      <td>76</td>\n",
       "    </tr>\n",
       "    <tr>\n",
       "      <th>24</th>\n",
       "      <td>7.8</td>\n",
       "      <td>5.8</td>\n",
       "      <td>4.5</td>\n",
       "      <td>86</td>\n",
       "    </tr>\n",
       "  </tbody>\n",
       "</table>\n",
       "</div>"
      ],
      "text/plain": [
       "    Hours  Practice  TeamWork  Scores\n",
       "0     2.5       0.5       0.0      21\n",
       "1     5.1       1.5       0.5      47\n",
       "2     3.2       1.0       0.5      27\n",
       "3     8.5       3.7       1.2      75\n",
       "4     3.5       1.2       0.3      30\n",
       "5     1.5       0.2       0.0      20\n",
       "6     9.2       4.8       3.0      88\n",
       "7     5.5       3.2       2.0      60\n",
       "8     9.3       5.1       3.5      81\n",
       "9     2.7       1.5       0.0      25\n",
       "10    7.7       4.9       4.5      85\n",
       "11    5.9       3.1       2.1      62\n",
       "12    4.5       2.8       1.0      41\n",
       "13    3.3       2.2       1.1      42\n",
       "14    1.1       1.1       0.0      17\n",
       "15    8.9       6.2       6.0      95\n",
       "16    2.5       1.6       1.0      30\n",
       "17    1.9       0.9       0.5      24\n",
       "18    6.1       2.0       3.2      67\n",
       "19    7.4       2.5       3.0      69\n",
       "20    2.7       3.0       1.2      30\n",
       "21    4.8       2.9       2.1      54\n",
       "22    3.8       2.2       0.3      35\n",
       "23    6.9       5.1       3.8      76\n",
       "24    7.8       5.8       4.5      86"
      ]
     },
     "execution_count": 308,
     "metadata": {},
     "output_type": "execute_result"
    }
   ],
   "source": [
    "train"
   ]
  },
  {
   "cell_type": "code",
   "execution_count": 309,
   "id": "3de69981",
   "metadata": {},
   "outputs": [
    {
     "data": {
      "application/vnd.microsoft.datawrangler.viewer.v0+json": {
       "columns": [
        {
         "name": "index",
         "rawType": "int64",
         "type": "integer"
        },
        {
         "name": "Hours",
         "rawType": "float64",
         "type": "float"
        },
        {
         "name": "Practice",
         "rawType": "float64",
         "type": "float"
        },
        {
         "name": "TeamWork",
         "rawType": "float64",
         "type": "float"
        },
        {
         "name": "Scores",
         "rawType": "int64",
         "type": "integer"
        }
       ],
       "ref": "80b24e02-2b52-468f-b455-d2b706202528",
       "rows": [
        [
         "25",
         "3.5",
         "2.0",
         "0.0",
         "0"
        ],
        [
         "26",
         "5.0",
         "3.0",
         "1.0",
         "0"
        ],
        [
         "27",
         "12.0",
         "6.0",
         "3.0",
         "0"
        ],
        [
         "28",
         "2.0",
         "5.0",
         "8.0",
         "0"
        ],
        [
         "29",
         "4.0",
         "1.0",
         "5.0",
         "0"
        ]
       ],
       "shape": {
        "columns": 4,
        "rows": 5
       }
      },
      "text/html": [
       "<div>\n",
       "<style scoped>\n",
       "    .dataframe tbody tr th:only-of-type {\n",
       "        vertical-align: middle;\n",
       "    }\n",
       "\n",
       "    .dataframe tbody tr th {\n",
       "        vertical-align: top;\n",
       "    }\n",
       "\n",
       "    .dataframe thead th {\n",
       "        text-align: right;\n",
       "    }\n",
       "</style>\n",
       "<table border=\"1\" class=\"dataframe\">\n",
       "  <thead>\n",
       "    <tr style=\"text-align: right;\">\n",
       "      <th></th>\n",
       "      <th>Hours</th>\n",
       "      <th>Practice</th>\n",
       "      <th>TeamWork</th>\n",
       "      <th>Scores</th>\n",
       "    </tr>\n",
       "  </thead>\n",
       "  <tbody>\n",
       "    <tr>\n",
       "      <th>25</th>\n",
       "      <td>3.5</td>\n",
       "      <td>2.0</td>\n",
       "      <td>0.0</td>\n",
       "      <td>0</td>\n",
       "    </tr>\n",
       "    <tr>\n",
       "      <th>26</th>\n",
       "      <td>5.0</td>\n",
       "      <td>3.0</td>\n",
       "      <td>1.0</td>\n",
       "      <td>0</td>\n",
       "    </tr>\n",
       "    <tr>\n",
       "      <th>27</th>\n",
       "      <td>12.0</td>\n",
       "      <td>6.0</td>\n",
       "      <td>3.0</td>\n",
       "      <td>0</td>\n",
       "    </tr>\n",
       "    <tr>\n",
       "      <th>28</th>\n",
       "      <td>2.0</td>\n",
       "      <td>5.0</td>\n",
       "      <td>8.0</td>\n",
       "      <td>0</td>\n",
       "    </tr>\n",
       "    <tr>\n",
       "      <th>29</th>\n",
       "      <td>4.0</td>\n",
       "      <td>1.0</td>\n",
       "      <td>5.0</td>\n",
       "      <td>0</td>\n",
       "    </tr>\n",
       "  </tbody>\n",
       "</table>\n",
       "</div>"
      ],
      "text/plain": [
       "    Hours  Practice  TeamWork  Scores\n",
       "25    3.5       2.0       0.0       0\n",
       "26    5.0       3.0       1.0       0\n",
       "27   12.0       6.0       3.0       0\n",
       "28    2.0       5.0       8.0       0\n",
       "29    4.0       1.0       5.0       0"
      ]
     },
     "execution_count": 309,
     "metadata": {},
     "output_type": "execute_result"
    }
   ],
   "source": [
    "test"
   ]
  },
  {
   "cell_type": "code",
   "execution_count": 310,
   "id": "0e89a981",
   "metadata": {},
   "outputs": [],
   "source": [
    "X_train =df3[[\"Hours\", \"Practice\", \"TeamWork\"]][:25]\n",
    "Y_train =df3[[\"Scores\"]][:25].values.reshape(-1,1)"
   ]
  },
  {
   "cell_type": "code",
   "execution_count": 311,
   "id": "652db28e",
   "metadata": {},
   "outputs": [],
   "source": [
    "X_test =df3[[\"Hours\", \"Practice\", \"TeamWork\"]][25:]"
   ]
  },
  {
   "cell_type": "code",
   "execution_count": 312,
   "id": "03a1408d",
   "metadata": {},
   "outputs": [],
   "source": [
    "regresore.fit(X_train,Y_train)\n",
    "Y_pred = regresore.predict(X_test)"
   ]
  },
  {
   "cell_type": "code",
   "execution_count": 313,
   "id": "7dab9c59",
   "metadata": {},
   "outputs": [
    {
     "name": "stdout",
     "output_type": "stream",
     "text": [
      "[[ 32.29721684]\n",
      " [ 47.52462159]\n",
      " [104.79055067]\n",
      " [ 62.36005265]\n",
      " [ 58.19618857]]\n"
     ]
    }
   ],
   "source": [
    "print(Y_pred)"
   ]
  },
  {
   "cell_type": "code",
   "execution_count": 314,
   "id": "294aa135",
   "metadata": {},
   "outputs": [
    {
     "name": "stdout",
     "output_type": "stream",
     "text": [
      "    Hours  Practice  TeamWork      Y_pred\n",
      "25    3.5       2.0       0.0   32.297217\n",
      "26    5.0       3.0       1.0   47.524622\n",
      "27   12.0       6.0       3.0  104.790551\n",
      "28    2.0       5.0       8.0   62.360053\n",
      "29    4.0       1.0       5.0   58.196189\n"
     ]
    }
   ],
   "source": [
    "df4 = X_test.copy()  \n",
    "df4['Y_pred'] = Y_pred  \n",
    "print(df4)\n"
   ]
  },
  {
   "cell_type": "code",
   "execution_count": 339,
   "id": "ce07f7be",
   "metadata": {},
   "outputs": [
    {
     "data": {
      "image/png": "[encoded data removed]",
      "text/plain": [
       "<Figure size 800x600 with 1 Axes>"
      ]
     },
     "metadata": {},
     "output_type": "display_data"
    }
   ],
   "source": [
    "plt.figure(figsize=(8, 6))\n",
    "plt.scatter(Y_test, Y_pred, alpha=0.6, color='blue', label='Predicted vs Actual')\n",
    "plt.xlabel('Actual Values')\n",
    "plt.ylabel('Predicted Values')\n",
    "plt.title('Actual vs Predicted')\n",
    "plt.legend()\n",
    "plt.grid(True)\n",
    "plt.show()\n"
   ]
  },
  {
   "cell_type": "code",
   "execution_count": 338,
   "id": "88b1a726",
   "metadata": {},
   "outputs": [
    {
     "name": "stdout",
     "output_type": "stream",
     "text": [
      "86.23628414\n"
     ]
    }
   ],
   "source": [
    "Hourse = float(input('inter Hourse: '))\n",
    "practice = float(input('inter practice: '))\n",
    "TeamWork = float(input('inter teamwork: '))\n",
    "print(8.37366712+(6.77781271)*Hourse+(-0.03200033)*practice+(5.07424529)*TeamWork)"
   ]
  },
  {
   "cell_type": "code",
   "execution_count": 240,
   "id": "ed8690c5",
   "metadata": {},
   "outputs": [
    {
     "data": {
      "application/vnd.microsoft.datawrangler.viewer.v0+json": {
       "columns": [
        {
         "name": "index",
         "rawType": "int64",
         "type": "integer"
        },
        {
         "name": "Hours",
         "rawType": "float64",
         "type": "float"
        },
        {
         "name": "Practice",
         "rawType": "float64",
         "type": "float"
        },
        {
         "name": "TeamWork",
         "rawType": "float64",
         "type": "float"
        }
       ],
       "ref": "1dd1c35f-b7fa-4743-9f9c-3a09003dddff",
       "rows": [
        [
         "25",
         "3.5",
         "2.0",
         "0.0"
        ],
        [
         "26",
         "5.0",
         "3.0",
         "1.0"
        ],
        [
         "27",
         "12.0",
         "6.0",
         "3.0"
        ]
       ],
       "shape": {
        "columns": 3,
        "rows": 3
       }
      },
      "text/html": [
       "<div>\n",
       "<style scoped>\n",
       "    .dataframe tbody tr th:only-of-type {\n",
       "        vertical-align: middle;\n",
       "    }\n",
       "\n",
       "    .dataframe tbody tr th {\n",
       "        vertical-align: top;\n",
       "    }\n",
       "\n",
       "    .dataframe thead th {\n",
       "        text-align: right;\n",
       "    }\n",
       "</style>\n",
       "<table border=\"1\" class=\"dataframe\">\n",
       "  <thead>\n",
       "    <tr style=\"text-align: right;\">\n",
       "      <th></th>\n",
       "      <th>Hours</th>\n",
       "      <th>Practice</th>\n",
       "      <th>TeamWork</th>\n",
       "    </tr>\n",
       "  </thead>\n",
       "  <tbody>\n",
       "    <tr>\n",
       "      <th>25</th>\n",
       "      <td>3.5</td>\n",
       "      <td>2.0</td>\n",
       "      <td>0.0</td>\n",
       "    </tr>\n",
       "    <tr>\n",
       "      <th>26</th>\n",
       "      <td>5.0</td>\n",
       "      <td>3.0</td>\n",
       "      <td>1.0</td>\n",
       "    </tr>\n",
       "    <tr>\n",
       "      <th>27</th>\n",
       "      <td>12.0</td>\n",
       "      <td>6.0</td>\n",
       "      <td>3.0</td>\n",
       "    </tr>\n",
       "  </tbody>\n",
       "</table>\n",
       "</div>"
      ],
      "text/plain": [
       "    Hours  Practice  TeamWork\n",
       "25    3.5       2.0       0.0\n",
       "26    5.0       3.0       1.0\n",
       "27   12.0       6.0       3.0"
      ]
     },
     "execution_count": 240,
     "metadata": {},
     "output_type": "execute_result"
    }
   ],
   "source": [
    "X_test"
   ]
  },
  {
   "cell_type": "markdown",
   "id": "3a5ab9a1",
   "metadata": {},
   "source": [
    "### 90-10"
   ]
  },
  {
   "cell_type": "code",
   "execution_count": 249,
   "id": "e8c1ea62",
   "metadata": {},
   "outputs": [],
   "source": [
    "X = pd.DataFrame(data,columns=['Hours','Practice','TeamWork'])\n",
    "Y = data['Scores'].values.reshape(-1,1)\n",
    "X_train,X_test,Y_train,Y_test = train_test_split(X,Y,test_size=0.1,random_state=0)\n",
    "regresore = LinearRegression()\n",
    "regresore.fit(X_train,Y_train)\n",
    "Y_pred = regresore.predict(X_test)"
   ]
  },
  {
   "cell_type": "code",
   "execution_count": 250,
   "id": "68b453d1",
   "metadata": {},
   "outputs": [
    {
     "data": {
      "application/vnd.microsoft.datawrangler.viewer.v0+json": {
       "columns": [
        {
         "name": "index",
         "rawType": "int64",
         "type": "integer"
        },
        {
         "name": "Actual",
         "rawType": "int64",
         "type": "integer"
        },
        {
         "name": "predicted",
         "rawType": "float64",
         "type": "float"
        }
       ],
       "ref": "486760d5-a1d9-428f-8883-6b3b81d8383c",
       "rows": [
        [
         "0",
         "20",
         "18.615570709651042"
        ],
        [
         "1",
         "27",
         "32.69887149400979"
        ],
        [
         "2",
         "69",
         "73.95407886061932"
        ]
       ],
       "shape": {
        "columns": 2,
        "rows": 3
       }
      },
      "text/html": [
       "<div>\n",
       "<style scoped>\n",
       "    .dataframe tbody tr th:only-of-type {\n",
       "        vertical-align: middle;\n",
       "    }\n",
       "\n",
       "    .dataframe tbody tr th {\n",
       "        vertical-align: top;\n",
       "    }\n",
       "\n",
       "    .dataframe thead th {\n",
       "        text-align: right;\n",
       "    }\n",
       "</style>\n",
       "<table border=\"1\" class=\"dataframe\">\n",
       "  <thead>\n",
       "    <tr style=\"text-align: right;\">\n",
       "      <th></th>\n",
       "      <th>Actual</th>\n",
       "      <th>predicted</th>\n",
       "    </tr>\n",
       "  </thead>\n",
       "  <tbody>\n",
       "    <tr>\n",
       "      <th>0</th>\n",
       "      <td>20</td>\n",
       "      <td>18.615571</td>\n",
       "    </tr>\n",
       "    <tr>\n",
       "      <th>1</th>\n",
       "      <td>27</td>\n",
       "      <td>32.698871</td>\n",
       "    </tr>\n",
       "    <tr>\n",
       "      <th>2</th>\n",
       "      <td>69</td>\n",
       "      <td>73.954079</td>\n",
       "    </tr>\n",
       "  </tbody>\n",
       "</table>\n",
       "</div>"
      ],
      "text/plain": [
       "   Actual  predicted\n",
       "0      20  18.615571\n",
       "1      27  32.698871\n",
       "2      69  73.954079"
      ]
     },
     "execution_count": 250,
     "metadata": {},
     "output_type": "execute_result"
    }
   ],
   "source": [
    "compare = pd.DataFrame({'Actual':Y_test.flatten(),'predicted':Y_pred.flatten()})\n",
    "compare"
   ]
  },
  {
   "cell_type": "code",
   "execution_count": null,
   "id": "ae6234aa",
   "metadata": {},
   "outputs": [
    {
     "name": "stdout",
     "output_type": "stream",
     "text": [
      "Mean Absolute Error (MAE): 2.3367486327263767\n",
      "Mean Squared Error (MSE): 9.360889849339024\n",
      "Root Mean Squared Error (RMSE): 3.059557132877081\n",
      "R² Score: 0.9823996900508917\n"
     ]
    }
   ],
   "source": [
    "print('Mean Absolute Error (MAE):', metrics.mean_absolute_error(Y_test, Y_pred))\n",
    "print('Mean Squared Error (MSE):', metrics.mean_squared_error(Y_test, Y_pred))\n",
    "print('Root Mean Squared Error (RMSE):', np.sqrt(metrics.mean_squared_error(Y_test, Y_pred)))\n",
    "print('R² Score:', metrics.r2_score(Y_test, Y_pred))"
   ]
  },
  {
   "cell_type": "markdown",
   "id": "48cc6b07",
   "metadata": {},
   "source": [
    "### 70-30"
   ]
  },
  {
   "cell_type": "code",
   "execution_count": 254,
   "id": "231534e9",
   "metadata": {},
   "outputs": [
    {
     "data": {
      "application/vnd.microsoft.datawrangler.viewer.v0+json": {
       "columns": [
        {
         "name": "index",
         "rawType": "int64",
         "type": "integer"
        },
        {
         "name": "Actual",
         "rawType": "int64",
         "type": "integer"
        },
        {
         "name": "predicted",
         "rawType": "float64",
         "type": "float"
        }
       ],
       "ref": "c5e7dbba-8a81-464c-8d33-e97375448b7e",
       "rows": [
        [
         "0",
         "20",
         "18.72442976337447"
        ],
        [
         "1",
         "27",
         "32.73330755356206"
        ],
        [
         "2",
         "69",
         "73.76749030597327"
        ],
        [
         "3",
         "30",
         "30.29890147232043"
        ],
        [
         "4",
         "62",
         "58.83771771407207"
        ],
        [
         "5",
         "35",
         "35.60209582081675"
        ],
        [
         "6",
         "24",
         "23.824775181293603"
        ],
        [
         "7",
         "86",
         "83.32088343212135"
        ]
       ],
       "shape": {
        "columns": 2,
        "rows": 8
       }
      },
      "text/html": [
       "<div>\n",
       "<style scoped>\n",
       "    .dataframe tbody tr th:only-of-type {\n",
       "        vertical-align: middle;\n",
       "    }\n",
       "\n",
       "    .dataframe tbody tr th {\n",
       "        vertical-align: top;\n",
       "    }\n",
       "\n",
       "    .dataframe thead th {\n",
       "        text-align: right;\n",
       "    }\n",
       "</style>\n",
       "<table border=\"1\" class=\"dataframe\">\n",
       "  <thead>\n",
       "    <tr style=\"text-align: right;\">\n",
       "      <th></th>\n",
       "      <th>Actual</th>\n",
       "      <th>predicted</th>\n",
       "    </tr>\n",
       "  </thead>\n",
       "  <tbody>\n",
       "    <tr>\n",
       "      <th>0</th>\n",
       "      <td>20</td>\n",
       "      <td>18.724430</td>\n",
       "    </tr>\n",
       "    <tr>\n",
       "      <th>1</th>\n",
       "      <td>27</td>\n",
       "      <td>32.733308</td>\n",
       "    </tr>\n",
       "    <tr>\n",
       "      <th>2</th>\n",
       "      <td>69</td>\n",
       "      <td>73.767490</td>\n",
       "    </tr>\n",
       "    <tr>\n",
       "      <th>3</th>\n",
       "      <td>30</td>\n",
       "      <td>30.298901</td>\n",
       "    </tr>\n",
       "    <tr>\n",
       "      <th>4</th>\n",
       "      <td>62</td>\n",
       "      <td>58.837718</td>\n",
       "    </tr>\n",
       "    <tr>\n",
       "      <th>5</th>\n",
       "      <td>35</td>\n",
       "      <td>35.602096</td>\n",
       "    </tr>\n",
       "    <tr>\n",
       "      <th>6</th>\n",
       "      <td>24</td>\n",
       "      <td>23.824775</td>\n",
       "    </tr>\n",
       "    <tr>\n",
       "      <th>7</th>\n",
       "      <td>86</td>\n",
       "      <td>83.320883</td>\n",
       "    </tr>\n",
       "  </tbody>\n",
       "</table>\n",
       "</div>"
      ],
      "text/plain": [
       "   Actual  predicted\n",
       "0      20  18.724430\n",
       "1      27  32.733308\n",
       "2      69  73.767490\n",
       "3      30  30.298901\n",
       "4      62  58.837718\n",
       "5      35  35.602096\n",
       "6      24  23.824775\n",
       "7      86  83.320883"
      ]
     },
     "execution_count": 254,
     "metadata": {},
     "output_type": "execute_result"
    }
   ],
   "source": [
    "X = pd.DataFrame(data,columns=['Hours','Practice','TeamWork'])\n",
    "Y = data['Scores'].values.reshape(-1,1)\n",
    "X_train,X_test,Y_train,Y_test = train_test_split(X,Y,test_size=0.3,random_state=0)\n",
    "regresore = LinearRegression()\n",
    "regresore.fit(X_train,Y_train)\n",
    "Y_pred = regresore.predict(X_test)\n",
    "compare = pd.DataFrame({'Actual':Y_test.flatten(),'predicted':Y_pred.flatten()})\n",
    "compare\n"
   ]
  },
  {
   "cell_type": "code",
   "execution_count": 256,
   "id": "a005a497",
   "metadata": {},
   "outputs": [
    {
     "name": "stdout",
     "output_type": "stream",
     "text": [
      "Mean Absolute Error (MAE): 2.3367486327263767\n",
      "Mean Squared Error (MSE): 9.360889849339024\n",
      "Root Mean Squared Error (RMSE): 3.059557132877081\n",
      "R² Score: 0.9823996900508917\n"
     ]
    }
   ],
   "source": [
    "print('Mean Absolute Error (MAE):', metrics.mean_absolute_error(Y_test, Y_pred))\n",
    "print('Mean Squared Error (MSE):', metrics.mean_squared_error(Y_test, Y_pred))\n",
    "print('Root Mean Squared Error (RMSE):', np.sqrt(metrics.mean_squared_error(Y_test, Y_pred)))\n",
    "print('R² Score:', metrics.r2_score(Y_test, Y_pred))"
   ]
  },
  {
   "cell_type": "code",
   "execution_count": null,
   "id": "435912d3",
   "metadata": {},
   "outputs": [],
   "source": []
  }
 ],
 "metadata": {
  "kernelspec": {
   "display_name": "Python 3",
   "language": "python",
   "name": "python3"
  },
  "language_info": {
   "codemirror_mode": {
    "name": "ipython",
    "version": 3
   },
   "file_extension": ".py",
   "mimetype": "text/x-python",
   "name": "python",
   "nbconvert_exporter": "python",
   "pygments_lexer": "ipython3",
   "version": "3.13.3"
  }
 },
 "nbformat": 4,
 "nbformat_minor": 5
}
